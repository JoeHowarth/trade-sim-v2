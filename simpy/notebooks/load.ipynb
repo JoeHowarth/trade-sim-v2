{
 "cells": [
  {
   "cell_type": "code",
   "execution_count": null,
   "metadata": {},
   "outputs": [],
   "source": [
    "import pandas as pd\n",
    "import json\n",
    "import polars as pl\n",
    "from polars import col, lit\n",
    "import altair as alt"
   ]
  },
  {
   "cell_type": "code",
   "execution_count": null,
   "metadata": {},
   "outputs": [],
   "source": [
    "with open(\"../../output/tabular/last_run.json\") as f:\n",
    "    data = json.load(f)\n",
    "agents = pl.DataFrame(data[\"agents\"])\n",
    "markets = pl.DataFrame(data[\"markets\"]).select(pl.exclude(\"pricer\"))"
   ]
  },
  {
   "cell_type": "code",
   "execution_count": null,
   "metadata": {},
   "outputs": [],
   "source": [
    "agents.head(3)"
   ]
  },
  {
   "cell_type": "code",
   "execution_count": null,
   "metadata": {},
   "outputs": [],
   "source": [
    "markets.head(3)"
   ]
  },
  {
   "cell_type": "code",
   "execution_count": null,
   "metadata": {},
   "outputs": [],
   "source": [
    "markets.groupby(col(\"tick\")).agg((pl.median(\"price\").alias(\"median\"), pl.sum(\"price\").alias(\"sum\")))"
   ]
  },
  {
   "cell_type": "code",
   "execution_count": null,
   "metadata": {},
   "outputs": [],
   "source": [
    "alt.Chart(markets).mark_point().encode(x=\"tick:Q\", y=\"price:Q\")\n"
   ]
  },
  {
   "cell_type": "code",
   "execution_count": null,
   "metadata": {},
   "outputs": [],
   "source": [
    "alt.Chart(agents).mark_point().encode(x=\"tick:Q\", y=\"coins:Q\")"
   ]
  }
 ],
 "metadata": {
  "kernelspec": {
   "display_name": "Python 3.11.1 ('python-runner-nNZjqLZS-py3.11')",
   "language": "python",
   "name": "python3"
  },
  "language_info": {
   "codemirror_mode": {
    "name": "ipython",
    "version": 3
   },
   "file_extension": ".py",
   "mimetype": "text/x-python",
   "name": "python",
   "nbconvert_exporter": "python",
   "pygments_lexer": "ipython3",
   "version": "3.11.1"
  },
  "orig_nbformat": 4,
  "vscode": {
   "interpreter": {
    "hash": "53baa265ad06021388605ddb341b4bc2860d001dc335485f0b0a9605c39c853f"
   }
  }
 },
 "nbformat": 4,
 "nbformat_minor": 2
}
