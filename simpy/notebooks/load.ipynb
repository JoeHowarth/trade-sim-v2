{
 "cells": [
  {
   "cell_type": "code",
   "execution_count": 1,
   "metadata": {},
   "outputs": [],
   "source": [
    "%reload_ext autoreload\n",
    "%autoreload 2"
   ]
  },
  {
   "cell_type": "code",
   "execution_count": null,
   "metadata": {},
   "outputs": [],
   "source": [
    "import json\n",
    "import polars as pl\n",
    "from polars import col, lit\n",
    "import altair as alt"
   ]
  },
  {
   "cell_type": "code",
   "execution_count": 2,
   "metadata": {},
   "outputs": [],
   "source": [
    "with open(\"../../output/last_run_tabular.json\") as f:\n",
    "    data = json.load(f)\n",
    "agents = pl.DataFrame(data[\"agents\"])\n",
    "markets = pl.DataFrame(data[\"markets\"]).select(pl.exclude(\"pricer\"))\n",
    "actions = pl.DataFrame(data[\"actions\"])"
   ]
  },
  {
   "cell_type": "code",
   "execution_count": 3,
   "metadata": {},
   "outputs": [
    {
     "data": {
      "text/html": [
       "<div><style>\n",
       ".dataframe > thead > tr > th,\n",
       ".dataframe > tbody > tr > td {\n",
       "  text-align: right;\n",
       "}\n",
       "</style>\n",
       "<small>shape: (6, 5)</small><table border=\"1\" class=\"dataframe\"><thead><tr><th>action</th><th>agent_id</th><th>good</th><th>port_id</th><th>tick</th></tr><tr><td>str</td><td>str</td><td>str</td><td>str</td><td>i64</td></tr></thead><tbody><tr><td>&quot;BuyAndMove&quot;</td><td>&quot;A&quot;</td><td>&quot;Wheat&quot;</td><td>&quot;Rome&quot;</td><td>0</td></tr><tr><td>&quot;Noop&quot;</td><td>&quot;B&quot;</td><td>null</td><td>null</td><td>0</td></tr><tr><td>&quot;Sell&quot;</td><td>&quot;A&quot;</td><td>&quot;Wheat&quot;</td><td>null</td><td>1</td></tr><tr><td>&quot;Noop&quot;</td><td>&quot;B&quot;</td><td>null</td><td>null</td><td>1</td></tr><tr><td>&quot;BuyAndMove&quot;</td><td>&quot;A&quot;</td><td>&quot;Wheat&quot;</td><td>&quot;Genoa&quot;</td><td>2</td></tr><tr><td>&quot;Move&quot;</td><td>&quot;B&quot;</td><td>null</td><td>&quot;Rome&quot;</td><td>2</td></tr></tbody></table></div>"
      ],
      "text/plain": [
       "shape: (6, 5)\n",
       "┌────────────┬──────────┬───────┬─────────┬──────┐\n",
       "│ action     ┆ agent_id ┆ good  ┆ port_id ┆ tick │\n",
       "│ ---        ┆ ---      ┆ ---   ┆ ---     ┆ ---  │\n",
       "│ str        ┆ str      ┆ str   ┆ str     ┆ i64  │\n",
       "╞════════════╪══════════╪═══════╪═════════╪══════╡\n",
       "│ BuyAndMove ┆ A        ┆ Wheat ┆ Rome    ┆ 0    │\n",
       "│ Noop       ┆ B        ┆ null  ┆ null    ┆ 0    │\n",
       "│ Sell       ┆ A        ┆ Wheat ┆ null    ┆ 1    │\n",
       "│ Noop       ┆ B        ┆ null  ┆ null    ┆ 1    │\n",
       "│ BuyAndMove ┆ A        ┆ Wheat ┆ Genoa   ┆ 2    │\n",
       "│ Move       ┆ B        ┆ null  ┆ Rome    ┆ 2    │\n",
       "└────────────┴──────────┴───────┴─────────┴──────┘"
      ]
     },
     "execution_count": 3,
     "metadata": {},
     "output_type": "execute_result"
    }
   ],
   "source": [
    "actions"
   ]
  },
  {
   "cell_type": "code",
   "execution_count": 4,
   "metadata": {},
   "outputs": [
    {
     "data": {
      "text/html": [
       "<div><style>\n",
       ".dataframe > thead > tr > th,\n",
       ".dataframe > tbody > tr > td {\n",
       "  text-align: right;\n",
       "}\n",
       "</style>\n",
       "<small>shape: (3, 7)</small><table border=\"1\" class=\"dataframe\"><thead><tr><th>consumption</th><th>good</th><th>port</th><th>price</th><th>production</th><th>supply</th><th>tick</th></tr><tr><td>f64</td><td>str</td><td>str</td><td>f64</td><td>f64</td><td>f64</td><td>i64</td></tr></thead><tbody><tr><td>30.0</td><td>&quot;Wheat&quot;</td><td>&quot;Rome&quot;</td><td>80.0</td><td>20.0</td><td>100.0</td><td>0</td></tr><tr><td>20.0</td><td>&quot;Wheat&quot;</td><td>&quot;Genoa&quot;</td><td>80.0</td><td>25.0</td><td>100.0</td><td>0</td></tr><tr><td>20.0</td><td>&quot;Wheat&quot;</td><td>&quot;Genoa&quot;</td><td>79.0</td><td>25.0</td><td>105.0</td><td>1</td></tr></tbody></table></div>"
      ],
      "text/plain": [
       "shape: (3, 7)\n",
       "┌─────────────┬───────┬───────┬───────┬────────────┬────────┬──────┐\n",
       "│ consumption ┆ good  ┆ port  ┆ price ┆ production ┆ supply ┆ tick │\n",
       "│ ---         ┆ ---   ┆ ---   ┆ ---   ┆ ---        ┆ ---    ┆ ---  │\n",
       "│ f64         ┆ str   ┆ str   ┆ f64   ┆ f64        ┆ f64    ┆ i64  │\n",
       "╞═════════════╪═══════╪═══════╪═══════╪════════════╪════════╪══════╡\n",
       "│ 30.0        ┆ Wheat ┆ Rome  ┆ 80.0  ┆ 20.0       ┆ 100.0  ┆ 0    │\n",
       "│ 20.0        ┆ Wheat ┆ Genoa ┆ 80.0  ┆ 25.0       ┆ 100.0  ┆ 0    │\n",
       "│ 20.0        ┆ Wheat ┆ Genoa ┆ 79.0  ┆ 25.0       ┆ 105.0  ┆ 1    │\n",
       "└─────────────┴───────┴───────┴───────┴────────────┴────────┴──────┘"
      ]
     },
     "execution_count": 4,
     "metadata": {},
     "output_type": "execute_result"
    }
   ],
   "source": [
    "markets.head(3)"
   ]
  },
  {
   "cell_type": "code",
   "execution_count": 5,
   "metadata": {},
   "outputs": [
    {
     "data": {
      "text/html": [
       "<div><style>\n",
       ".dataframe > thead > tr > th,\n",
       ".dataframe > tbody > tr > td {\n",
       "  text-align: right;\n",
       "}\n",
       "</style>\n",
       "<small>shape: (4, 3)</small><table border=\"1\" class=\"dataframe\"><thead><tr><th>tick</th><th>median</th><th>sum</th></tr><tr><td>i64</td><td>f64</td><td>f64</td></tr></thead><tbody><tr><td>2</td><td>81.0</td><td>162.0</td></tr><tr><td>3</td><td>81.5</td><td>163.0</td></tr><tr><td>1</td><td>80.5</td><td>161.0</td></tr><tr><td>0</td><td>80.0</td><td>160.0</td></tr></tbody></table></div>"
      ],
      "text/plain": [
       "shape: (4, 3)\n",
       "┌──────┬────────┬───────┐\n",
       "│ tick ┆ median ┆ sum   │\n",
       "│ ---  ┆ ---    ┆ ---   │\n",
       "│ i64  ┆ f64    ┆ f64   │\n",
       "╞══════╪════════╪═══════╡\n",
       "│ 2    ┆ 81.0   ┆ 162.0 │\n",
       "│ 3    ┆ 81.5   ┆ 163.0 │\n",
       "│ 1    ┆ 80.5   ┆ 161.0 │\n",
       "│ 0    ┆ 80.0   ┆ 160.0 │\n",
       "└──────┴────────┴───────┘"
      ]
     },
     "execution_count": 5,
     "metadata": {},
     "output_type": "execute_result"
    }
   ],
   "source": [
    "markets.groupby(col(\"tick\")).agg((pl.median(\"price\").alias(\"median\"), pl.sum(\"price\").alias(\"sum\")))"
   ]
  },
  {
   "cell_type": "code",
   "execution_count": 6,
   "metadata": {},
   "outputs": [
    {
     "data": {
      "text/html": [
       "\n",
       "<style>\n",
       "  #altair-viz-2473b4f645dc4066854a7788e40e6e49.vega-embed {\n",
       "    width: 100%;\n",
       "    display: flex;\n",
       "  }\n",
       "\n",
       "  #altair-viz-2473b4f645dc4066854a7788e40e6e49.vega-embed details,\n",
       "  #altair-viz-2473b4f645dc4066854a7788e40e6e49.vega-embed details summary {\n",
       "    position: relative;\n",
       "  }\n",
       "</style>\n",
       "<div id=\"altair-viz-2473b4f645dc4066854a7788e40e6e49\"></div>\n",
       "<script type=\"text/javascript\">\n",
       "  var VEGA_DEBUG = (typeof VEGA_DEBUG == \"undefined\") ? {} : VEGA_DEBUG;\n",
       "  (function(spec, embedOpt){\n",
       "    let outputDiv = document.currentScript.previousElementSibling;\n",
       "    if (outputDiv.id !== \"altair-viz-2473b4f645dc4066854a7788e40e6e49\") {\n",
       "      outputDiv = document.getElementById(\"altair-viz-2473b4f645dc4066854a7788e40e6e49\");\n",
       "    }\n",
       "    const paths = {\n",
       "      \"vega\": \"https://cdn.jsdelivr.net/npm/vega@5?noext\",\n",
       "      \"vega-lib\": \"https://cdn.jsdelivr.net/npm/vega-lib?noext\",\n",
       "      \"vega-lite\": \"https://cdn.jsdelivr.net/npm/vega-lite@5.8.0?noext\",\n",
       "      \"vega-embed\": \"https://cdn.jsdelivr.net/npm/vega-embed@6?noext\",\n",
       "    };\n",
       "\n",
       "    function maybeLoadScript(lib, version) {\n",
       "      var key = `${lib.replace(\"-\", \"\")}_version`;\n",
       "      return (VEGA_DEBUG[key] == version) ?\n",
       "        Promise.resolve(paths[lib]) :\n",
       "        new Promise(function(resolve, reject) {\n",
       "          var s = document.createElement('script');\n",
       "          document.getElementsByTagName(\"head\")[0].appendChild(s);\n",
       "          s.async = true;\n",
       "          s.onload = () => {\n",
       "            VEGA_DEBUG[key] = version;\n",
       "            return resolve(paths[lib]);\n",
       "          };\n",
       "          s.onerror = () => reject(`Error loading script: ${paths[lib]}`);\n",
       "          s.src = paths[lib];\n",
       "        });\n",
       "    }\n",
       "\n",
       "    function showError(err) {\n",
       "      outputDiv.innerHTML = `<div class=\"error\" style=\"color:red;\">${err}</div>`;\n",
       "      throw err;\n",
       "    }\n",
       "\n",
       "    function displayChart(vegaEmbed) {\n",
       "      vegaEmbed(outputDiv, spec, embedOpt)\n",
       "        .catch(err => showError(`Javascript Error: ${err.message}<br>This usually means there's a typo in your chart specification. See the javascript console for the full traceback.`));\n",
       "    }\n",
       "\n",
       "    if(typeof define === \"function\" && define.amd) {\n",
       "      requirejs.config({paths});\n",
       "      require([\"vega-embed\"], displayChart, err => showError(`Error loading script: ${err.message}`));\n",
       "    } else {\n",
       "      maybeLoadScript(\"vega\", \"5\")\n",
       "        .then(() => maybeLoadScript(\"vega-lite\", \"5.8.0\"))\n",
       "        .then(() => maybeLoadScript(\"vega-embed\", \"6\"))\n",
       "        .catch(showError)\n",
       "        .then(() => displayChart(vegaEmbed));\n",
       "    }\n",
       "  })({\"config\": {\"view\": {\"continuousWidth\": 300, \"continuousHeight\": 300}}, \"data\": {\"name\": \"data-0fc04b17dc71d87434af1a1c1c286c46\"}, \"mark\": {\"type\": \"point\"}, \"encoding\": {\"x\": {\"field\": \"tick\", \"type\": \"quantitative\"}, \"y\": {\"field\": \"price\", \"type\": \"quantitative\"}}, \"$schema\": \"https://vega.github.io/schema/vega-lite/v5.8.0.json\", \"datasets\": {\"data-0fc04b17dc71d87434af1a1c1c286c46\": [{\"consumption\": 30.0, \"good\": \"Wheat\", \"port\": \"Rome\", \"price\": 80.0, \"production\": 20.0, \"supply\": 100.0, \"tick\": 0}, {\"consumption\": 20.0, \"good\": \"Wheat\", \"port\": \"Genoa\", \"price\": 80.0, \"production\": 25.0, \"supply\": 100.0, \"tick\": 0}, {\"consumption\": 20.0, \"good\": \"Wheat\", \"port\": \"Genoa\", \"price\": 79.0, \"production\": 25.0, \"supply\": 105.0, \"tick\": 1}, {\"consumption\": 30.0, \"good\": \"Wheat\", \"port\": \"Rome\", \"price\": 82.0, \"production\": 20.0, \"supply\": 90.0, \"tick\": 1}, {\"consumption\": 20.0, \"good\": \"Wheat\", \"port\": \"Genoa\", \"price\": 78.0, \"production\": 25.0, \"supply\": 110.0, \"tick\": 2}, {\"consumption\": 30.0, \"good\": \"Wheat\", \"port\": \"Rome\", \"price\": 84.0, \"production\": 20.0, \"supply\": 80.0, \"tick\": 2}, {\"consumption\": 20.0, \"good\": \"Wheat\", \"port\": \"Genoa\", \"price\": 77.0, \"production\": 25.0, \"supply\": 115.0, \"tick\": 3}, {\"consumption\": 30.0, \"good\": \"Wheat\", \"port\": \"Rome\", \"price\": 86.0, \"production\": 20.0, \"supply\": 70.0, \"tick\": 3}]}}, {\"mode\": \"vega-lite\"});\n",
       "</script>"
      ],
      "text/plain": [
       "alt.Chart(...)"
      ]
     },
     "execution_count": 6,
     "metadata": {},
     "output_type": "execute_result"
    }
   ],
   "source": [
    "alt.Chart(markets).mark_point().encode(x=\"tick:Q\", y=\"price:Q\")\n"
   ]
  },
  {
   "cell_type": "code",
   "execution_count": 7,
   "metadata": {},
   "outputs": [
    {
     "data": {
      "text/html": [
       "\n",
       "<style>\n",
       "  #altair-viz-f9f1d78fa72041f7af9f0b31439a5f2d.vega-embed {\n",
       "    width: 100%;\n",
       "    display: flex;\n",
       "  }\n",
       "\n",
       "  #altair-viz-f9f1d78fa72041f7af9f0b31439a5f2d.vega-embed details,\n",
       "  #altair-viz-f9f1d78fa72041f7af9f0b31439a5f2d.vega-embed details summary {\n",
       "    position: relative;\n",
       "  }\n",
       "</style>\n",
       "<div id=\"altair-viz-f9f1d78fa72041f7af9f0b31439a5f2d\"></div>\n",
       "<script type=\"text/javascript\">\n",
       "  var VEGA_DEBUG = (typeof VEGA_DEBUG == \"undefined\") ? {} : VEGA_DEBUG;\n",
       "  (function(spec, embedOpt){\n",
       "    let outputDiv = document.currentScript.previousElementSibling;\n",
       "    if (outputDiv.id !== \"altair-viz-f9f1d78fa72041f7af9f0b31439a5f2d\") {\n",
       "      outputDiv = document.getElementById(\"altair-viz-f9f1d78fa72041f7af9f0b31439a5f2d\");\n",
       "    }\n",
       "    const paths = {\n",
       "      \"vega\": \"https://cdn.jsdelivr.net/npm/vega@5?noext\",\n",
       "      \"vega-lib\": \"https://cdn.jsdelivr.net/npm/vega-lib?noext\",\n",
       "      \"vega-lite\": \"https://cdn.jsdelivr.net/npm/vega-lite@5.8.0?noext\",\n",
       "      \"vega-embed\": \"https://cdn.jsdelivr.net/npm/vega-embed@6?noext\",\n",
       "    };\n",
       "\n",
       "    function maybeLoadScript(lib, version) {\n",
       "      var key = `${lib.replace(\"-\", \"\")}_version`;\n",
       "      return (VEGA_DEBUG[key] == version) ?\n",
       "        Promise.resolve(paths[lib]) :\n",
       "        new Promise(function(resolve, reject) {\n",
       "          var s = document.createElement('script');\n",
       "          document.getElementsByTagName(\"head\")[0].appendChild(s);\n",
       "          s.async = true;\n",
       "          s.onload = () => {\n",
       "            VEGA_DEBUG[key] = version;\n",
       "            return resolve(paths[lib]);\n",
       "          };\n",
       "          s.onerror = () => reject(`Error loading script: ${paths[lib]}`);\n",
       "          s.src = paths[lib];\n",
       "        });\n",
       "    }\n",
       "\n",
       "    function showError(err) {\n",
       "      outputDiv.innerHTML = `<div class=\"error\" style=\"color:red;\">${err}</div>`;\n",
       "      throw err;\n",
       "    }\n",
       "\n",
       "    function displayChart(vegaEmbed) {\n",
       "      vegaEmbed(outputDiv, spec, embedOpt)\n",
       "        .catch(err => showError(`Javascript Error: ${err.message}<br>This usually means there's a typo in your chart specification. See the javascript console for the full traceback.`));\n",
       "    }\n",
       "\n",
       "    if(typeof define === \"function\" && define.amd) {\n",
       "      requirejs.config({paths});\n",
       "      require([\"vega-embed\"], displayChart, err => showError(`Error loading script: ${err.message}`));\n",
       "    } else {\n",
       "      maybeLoadScript(\"vega\", \"5\")\n",
       "        .then(() => maybeLoadScript(\"vega-lite\", \"5.8.0\"))\n",
       "        .then(() => maybeLoadScript(\"vega-embed\", \"6\"))\n",
       "        .catch(showError)\n",
       "        .then(() => displayChart(vegaEmbed));\n",
       "    }\n",
       "  })({\"config\": {\"view\": {\"continuousWidth\": 300, \"continuousHeight\": 300}}, \"data\": {\"name\": \"data-98a4e2832af27db91bd97567d3d135cc\"}, \"mark\": {\"type\": \"point\"}, \"encoding\": {\"x\": {\"field\": \"tick\", \"type\": \"quantitative\"}, \"y\": {\"field\": \"coins\", \"type\": \"quantitative\"}}, \"$schema\": \"https://vega.github.io/schema/vega-lite/v5.8.0.json\", \"datasets\": {\"data-98a4e2832af27db91bd97567d3d135cc\": [{\"behavior\": \"Greedy\", \"cargo\": null, \"coins\": 100.0, \"id\": \"A\", \"pos\": \"Genoa\", \"tick\": 0}, {\"behavior\": \"Random\", \"cargo\": null, \"coins\": 100.0, \"id\": \"B\", \"pos\": \"Genoa\", \"tick\": 0}, {\"behavior\": \"Greedy\", \"cargo\": \"Wheat\", \"coins\": 20.0, \"id\": \"A\", \"pos\": \"Rome\", \"tick\": 1}, {\"behavior\": \"Random\", \"cargo\": null, \"coins\": 100.0, \"id\": \"B\", \"pos\": \"Genoa\", \"tick\": 1}, {\"behavior\": \"Greedy\", \"cargo\": null, \"coins\": 101.8, \"id\": \"A\", \"pos\": \"Rome\", \"tick\": 2}, {\"behavior\": \"Random\", \"cargo\": null, \"coins\": 100.0, \"id\": \"B\", \"pos\": \"Genoa\", \"tick\": 2}, {\"behavior\": \"Greedy\", \"cargo\": \"Wheat\", \"coins\": 17.799999999999997, \"id\": \"A\", \"pos\": \"Genoa\", \"tick\": 3}, {\"behavior\": \"Random\", \"cargo\": null, \"coins\": 100.0, \"id\": \"B\", \"pos\": \"Rome\", \"tick\": 3}]}}, {\"mode\": \"vega-lite\"});\n",
       "</script>"
      ],
      "text/plain": [
       "alt.Chart(...)"
      ]
     },
     "execution_count": 7,
     "metadata": {},
     "output_type": "execute_result"
    }
   ],
   "source": [
    "alt.Chart(agents).mark_point().encode(x=\"tick:Q\", y=\"coins:Q\")"
   ]
  },
  {
   "cell_type": "code",
   "execution_count": 8,
   "metadata": {},
   "outputs": [
    {
     "data": {
      "text/html": [
       "<div><style>\n",
       ".dataframe > thead > tr > th,\n",
       ".dataframe > tbody > tr > td {\n",
       "  text-align: right;\n",
       "}\n",
       "</style>\n",
       "<small>shape: (3, 9)</small><table border=\"1\" class=\"dataframe\"><thead><tr><th>behavior</th><th>cargo</th><th>coins</th><th>pos</th><th>tick</th><th>action</th><th>good</th><th>port_id</th><th>tick_right</th></tr><tr><td>str</td><td>str</td><td>f64</td><td>str</td><td>i64</td><td>str</td><td>str</td><td>str</td><td>i64</td></tr></thead><tbody><tr><td>&quot;Greedy&quot;</td><td>null</td><td>100.0</td><td>&quot;Genoa&quot;</td><td>0</td><td>&quot;BuyAndMove&quot;</td><td>&quot;Wheat&quot;</td><td>&quot;Rome&quot;</td><td>0</td></tr><tr><td>&quot;Greedy&quot;</td><td>null</td><td>100.0</td><td>&quot;Genoa&quot;</td><td>0</td><td>&quot;Sell&quot;</td><td>&quot;Wheat&quot;</td><td>null</td><td>1</td></tr><tr><td>&quot;Greedy&quot;</td><td>null</td><td>100.0</td><td>&quot;Genoa&quot;</td><td>0</td><td>&quot;BuyAndMove&quot;</td><td>&quot;Wheat&quot;</td><td>&quot;Genoa&quot;</td><td>2</td></tr></tbody></table></div>"
      ],
      "text/plain": [
       "shape: (3, 9)\n",
       "┌──────────┬───────┬───────┬───────┬───┬────────────┬───────┬─────────┬────────────┐\n",
       "│ behavior ┆ cargo ┆ coins ┆ pos   ┆ … ┆ action     ┆ good  ┆ port_id ┆ tick_right │\n",
       "│ ---      ┆ ---   ┆ ---   ┆ ---   ┆   ┆ ---        ┆ ---   ┆ ---     ┆ ---        │\n",
       "│ str      ┆ str   ┆ f64   ┆ str   ┆   ┆ str        ┆ str   ┆ str     ┆ i64        │\n",
       "╞══════════╪═══════╪═══════╪═══════╪═══╪════════════╪═══════╪═════════╪════════════╡\n",
       "│ Greedy   ┆ null  ┆ 100.0 ┆ Genoa ┆ … ┆ BuyAndMove ┆ Wheat ┆ Rome    ┆ 0          │\n",
       "│ Greedy   ┆ null  ┆ 100.0 ┆ Genoa ┆ … ┆ Sell       ┆ Wheat ┆ null    ┆ 1          │\n",
       "│ Greedy   ┆ null  ┆ 100.0 ┆ Genoa ┆ … ┆ BuyAndMove ┆ Wheat ┆ Genoa   ┆ 2          │\n",
       "└──────────┴───────┴───────┴───────┴───┴────────────┴───────┴─────────┴────────────┘"
      ]
     },
     "execution_count": 8,
     "metadata": {},
     "output_type": "execute_result"
    }
   ],
   "source": [
    "agents.join(actions, left_on=\"id\", right_on=\"agent_id\").select(pl.exclude(\"id\")).head(3)"
   ]
  },
  {
   "cell_type": "code",
   "execution_count": 10,
   "metadata": {},
   "outputs": [],
   "source": []
  }
 ],
 "metadata": {
  "kernelspec": {
   "display_name": "Python 3.11.1 ('python-runner-nNZjqLZS-py3.11')",
   "language": "python",
   "name": "python3"
  },
  "language_info": {
   "codemirror_mode": {
    "name": "ipython",
    "version": 3
   },
   "file_extension": ".py",
   "mimetype": "text/x-python",
   "name": "python",
   "nbconvert_exporter": "python",
   "pygments_lexer": "ipython3",
   "version": "3.11.1"
  },
  "orig_nbformat": 4,
  "vscode": {
   "interpreter": {
    "hash": "53baa265ad06021388605ddb341b4bc2860d001dc335485f0b0a9605c39c853f"
   }
  }
 },
 "nbformat": 4,
 "nbformat_minor": 2
}
