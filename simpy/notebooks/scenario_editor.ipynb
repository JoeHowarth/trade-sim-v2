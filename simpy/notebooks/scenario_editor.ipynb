{
 "cells": [
  {
   "cell_type": "code",
   "execution_count": 2,
   "metadata": {},
   "outputs": [],
   "source": [
    "%reload_ext autoreload\n",
    "%autoreload 2"
   ]
  },
  {
   "cell_type": "code",
   "execution_count": 4,
   "metadata": {},
   "outputs": [],
   "source": [
    "import utils \n",
    "utils.init_logging()\n",
    "\n",
    "import polars as pl\n",
    "from polars import col, lit\n",
    "import altair as alt\n",
    "import simrs\n",
    "from scenarios import builder as b\n",
    "import scenarios\n",
    "import cli\n",
    "import analysis\n",
    "from asgiref.sync import async_to_sync"
   ]
  },
  {
   "cell_type": "code",
   "execution_count": 12,
   "metadata": {},
   "outputs": [],
   "source": [
    "from replay_cache import Replay\n",
    "import scenarios.examples as ex\n",
    "\n",
    "def barbell_replay(ticks=100, num_agents=10):\n",
    "    # Agents\n",
    "    agent_ids = [\"a\" + str(i) for i in range(1, num_agents + 1)]\n",
    "\n",
    "    # Goods\n",
    "    wheat = \"Wheat\"\n",
    "    goods = [wheat]\n",
    "\n",
    "    # Ports\n",
    "    la = \"la\"\n",
    "    lb = \"lb\"\n",
    "    m1 = \"m1\"\n",
    "    m2 = \"m2\"\n",
    "    m3 = \"m3\"\n",
    "    ra = \"ra\"\n",
    "\n",
    "    # la\n",
    "    #     m1 m2 m3 ra\n",
    "    # lb\n",
    "    edges = [\n",
    "        (la, lb),\n",
    "        (la, m1),\n",
    "        (lb, m1),\n",
    "        (m1, m2),\n",
    "        (m2, m3),\n",
    "        (m3, ra),\n",
    "    ]\n",
    "    _market = lambda c, s: b._market(\n",
    "        wheat,\n",
    "        b._market_info(\n",
    "            production=100,\n",
    "            consumption=100 + c,\n",
    "            supply=1000 - s,\n",
    "            pricer=b._inversep(100_000),\n",
    "        ),\n",
    "    )\n",
    "\n",
    "    # net balance\n",
    "    ports = [\n",
    "        b._port(la, _market(0, 20)),\n",
    "        b._port(lb, _market(0, 20)),\n",
    "        b._port(m1, _market(0, 20)),\n",
    "        b._port(m2, _market(0, 0)),\n",
    "        b._port(m3, _market(0, 0)),\n",
    "        b._port(ra, _market(0, -20)),\n",
    "    ]\n",
    "\n",
    "    _agent = lambda id, pos: b._agent(id, pos, 1000, \"Exhaustive\")\n",
    "    agents = [\n",
    "        _agent(id, port_id) for (id, port_id) in zip(agent_ids, [la] * num_agents)\n",
    "    ]\n",
    "\n",
    "    return b._inputFormat(\n",
    "        agents=agents, ports=ports, edges=edges, opts=b._opts(ticks=ticks)\n",
    "    )\n",
    "\n",
    "\n",
    "b.save_scenario(barbell_replay(10, 1), \"long\")"
   ]
  },
  {
   "cell_type": "code",
   "execution_count": null,
   "metadata": {},
   "outputs": [],
   "source": []
  }
 ],
 "metadata": {
  "kernelspec": {
   "display_name": "python-runner-gbM_3Hkn-py3.11",
   "language": "python",
   "name": "python3"
  },
  "language_info": {
   "codemirror_mode": {
    "name": "ipython",
    "version": 3
   },
   "file_extension": ".py",
   "mimetype": "text/x-python",
   "name": "python",
   "nbconvert_exporter": "python",
   "pygments_lexer": "ipython3",
   "version": "3.11.1"
  },
  "orig_nbformat": 4
 },
 "nbformat": 4,
 "nbformat_minor": 2
}
