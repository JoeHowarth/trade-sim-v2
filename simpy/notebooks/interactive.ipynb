{
 "cells": [
  {
   "cell_type": "code",
   "execution_count": 1,
   "metadata": {},
   "outputs": [],
   "source": [
    "%reload_ext autoreload\n",
    "%autoreload 2"
   ]
  },
  {
   "cell_type": "code",
   "execution_count": 2,
   "metadata": {},
   "outputs": [],
   "source": [
    "import logging \n",
    "\n",
    "logger = logging.getLogger()\n",
    "logger.setLevel(logging.DEBUG)\n",
    "\n",
    "import json\n",
    "import polars as pl\n",
    "from polars import col, lit\n",
    "import altair as alt\n",
    "import simrs\n",
    "from history import History, tabular\n",
    "import input_builder as b\n",
    "import utils "
   ]
  },
  {
   "cell_type": "code",
   "execution_count": 10,
   "metadata": {},
   "outputs": [],
   "source": [
    "# Agents\n",
    "agent_ids = [\"a\" +str(i) for i in range(1, 5)]\n",
    "\n",
    "# Goods\n",
    "wheat = \"Wheat\"\n",
    "goods = [wheat]\n",
    "\n",
    "# Ports\n",
    "genoa = \"Genoa\"\n",
    "rome = \"Rome\"\n",
    "milan = \"Milan\"\n",
    "venice = \"Venice\"\n",
    "marsailles = \"Marsailles\"\n",
    "port_ids = [genoa, rome, milan, venice, marsailles]\n",
    "\n",
    "# genoa -> milan -> marsailles\n",
    "#   v         v\n",
    "# rome -> venice\n",
    "edges = [(genoa, milan), (milan, marsailles), (rome, venice), (rome, genoa), (venice, milan)]\n",
    "_market = lambda net: b._market(wheat, b._market_info(net=net)) \n",
    "\n",
    "# net balanced\n",
    "ports = [\n",
    "  b._port(genoa, _market(10)), \n",
    "  b._port(milan, _market(5)), \n",
    "  b._port(rome, _market(0)), \n",
    "  b._port(venice, _market(-5)),\n",
    "  b._port(marsailles, _market(-10)), \n",
    "]\n",
    "\n",
    "_agent = lambda id, pos: b._agent(id, pos, 1000, \"Greedy\")\n",
    "agents = [_agent(id, port_id) for (id, port_id) in zip(agent_ids, port_ids)]\n",
    "\n",
    "x = b._inputFormat( agents = agents, ports=ports, edges= edges, opts=b._opts(ticks=10))\n",
    "history = simrs.run(x)\n",
    "(actions, agents, markets) = tabular(history)"
   ]
  },
  {
   "cell_type": "code",
   "execution_count": 11,
   "metadata": {},
   "outputs": [
    {
     "data": {
      "text/plain": [
       "{'a3': {'id': 'a3',\n",
       "  'pos': 'Genoa',\n",
       "  'cargo': None,\n",
       "  'coins': 988.6000000000001,\n",
       "  'behavior': 'Greedy'},\n",
       " 'a4': {'id': 'a4',\n",
       "  'pos': 'Milan',\n",
       "  'cargo': None,\n",
       "  'coins': 996.6000000000001,\n",
       "  'behavior': 'Greedy'},\n",
       " 'a2': {'id': 'a2',\n",
       "  'pos': 'Genoa',\n",
       "  'cargo': None,\n",
       "  'coins': 984.1999999999998,\n",
       "  'behavior': 'Greedy'},\n",
       " 'a1': {'id': 'a1',\n",
       "  'pos': 'Milan',\n",
       "  'cargo': None,\n",
       "  'coins': 996.1999999999998,\n",
       "  'behavior': 'Greedy'}}"
      ]
     },
     "execution_count": 11,
     "metadata": {},
     "output_type": "execute_result"
    }
   ],
   "source": [
    "history.history[\"states\"][-1][\"agents\"]"
   ]
  },
  {
   "cell_type": "code",
   "execution_count": 12,
   "metadata": {},
   "outputs": [
    {
     "data": {
      "text/plain": [
       "{'pricer': Struct([Field('base_price', Float64), Field('base_supply', Float64), Field('price_per_supply', Float64)])}"
      ]
     },
     "execution_count": 12,
     "metadata": {},
     "output_type": "execute_result"
    }
   ],
   "source": [
    "markets.select(col(\"pricer\").struct.field(\"base_price\")).head()\n",
    "markets.select(col(\"pricer\")).schema"
   ]
  },
  {
   "cell_type": "code",
   "execution_count": 13,
   "metadata": {},
   "outputs": [
    {
     "data": {
      "text/html": [
       "\n",
       "<style>\n",
       "  #altair-viz-ff7e41a450ce4dd48a079f12334954db.vega-embed {\n",
       "    width: 100%;\n",
       "    display: flex;\n",
       "  }\n",
       "\n",
       "  #altair-viz-ff7e41a450ce4dd48a079f12334954db.vega-embed details,\n",
       "  #altair-viz-ff7e41a450ce4dd48a079f12334954db.vega-embed details summary {\n",
       "    position: relative;\n",
       "  }\n",
       "</style>\n",
       "<div id=\"altair-viz-ff7e41a450ce4dd48a079f12334954db\"></div>\n",
       "<script type=\"text/javascript\">\n",
       "  var VEGA_DEBUG = (typeof VEGA_DEBUG == \"undefined\") ? {} : VEGA_DEBUG;\n",
       "  (function(spec, embedOpt){\n",
       "    let outputDiv = document.currentScript.previousElementSibling;\n",
       "    if (outputDiv.id !== \"altair-viz-ff7e41a450ce4dd48a079f12334954db\") {\n",
       "      outputDiv = document.getElementById(\"altair-viz-ff7e41a450ce4dd48a079f12334954db\");\n",
       "    }\n",
       "    const paths = {\n",
       "      \"vega\": \"https://cdn.jsdelivr.net/npm/vega@5?noext\",\n",
       "      \"vega-lib\": \"https://cdn.jsdelivr.net/npm/vega-lib?noext\",\n",
       "      \"vega-lite\": \"https://cdn.jsdelivr.net/npm/vega-lite@5.8.0?noext\",\n",
       "      \"vega-embed\": \"https://cdn.jsdelivr.net/npm/vega-embed@6?noext\",\n",
       "    };\n",
       "\n",
       "    function maybeLoadScript(lib, version) {\n",
       "      var key = `${lib.replace(\"-\", \"\")}_version`;\n",
       "      return (VEGA_DEBUG[key] == version) ?\n",
       "        Promise.resolve(paths[lib]) :\n",
       "        new Promise(function(resolve, reject) {\n",
       "          var s = document.createElement('script');\n",
       "          document.getElementsByTagName(\"head\")[0].appendChild(s);\n",
       "          s.async = true;\n",
       "          s.onload = () => {\n",
       "            VEGA_DEBUG[key] = version;\n",
       "            return resolve(paths[lib]);\n",
       "          };\n",
       "          s.onerror = () => reject(`Error loading script: ${paths[lib]}`);\n",
       "          s.src = paths[lib];\n",
       "        });\n",
       "    }\n",
       "\n",
       "    function showError(err) {\n",
       "      outputDiv.innerHTML = `<div class=\"error\" style=\"color:red;\">${err}</div>`;\n",
       "      throw err;\n",
       "    }\n",
       "\n",
       "    function displayChart(vegaEmbed) {\n",
       "      vegaEmbed(outputDiv, spec, embedOpt)\n",
       "        .catch(err => showError(`Javascript Error: ${err.message}<br>This usually means there's a typo in your chart specification. See the javascript console for the full traceback.`));\n",
       "    }\n",
       "\n",
       "    if(typeof define === \"function\" && define.amd) {\n",
       "      requirejs.config({paths});\n",
       "      require([\"vega-embed\"], displayChart, err => showError(`Error loading script: ${err.message}`));\n",
       "    } else {\n",
       "      maybeLoadScript(\"vega\", \"5\")\n",
       "        .then(() => maybeLoadScript(\"vega-lite\", \"5.8.0\"))\n",
       "        .then(() => maybeLoadScript(\"vega-embed\", \"6\"))\n",
       "        .catch(showError)\n",
       "        .then(() => displayChart(vegaEmbed));\n",
       "    }\n",
       "  })({\"config\": {\"view\": {\"continuousWidth\": 300, \"continuousHeight\": 300}}, \"layer\": [{\"mark\": {\"type\": \"point\"}, \"encoding\": {\"color\": {\"field\": \"id\", \"type\": \"ordinal\"}, \"x\": {\"field\": \"tick\", \"type\": \"quantitative\"}, \"y\": {\"field\": \"coins\", \"scale\": {\"zero\": false}, \"type\": \"quantitative\"}}, \"name\": \"view_2\"}, {\"mark\": {\"type\": \"line\", \"size\": 4}, \"encoding\": {\"color\": {\"field\": \"id\", \"type\": \"ordinal\"}, \"x\": {\"field\": \"tick\", \"type\": \"quantitative\"}, \"y\": {\"field\": \"coins\", \"scale\": {\"zero\": false}, \"type\": \"quantitative\"}}, \"transform\": [{\"loess\": \"coins\", \"on\": \"tick\", \"bandwidth\": 0.5, \"groupby\": [\"id\"]}]}], \"data\": {\"name\": \"data-5887d3d03cd93eec64c6f1ddd47871ad\"}, \"params\": [{\"name\": \"param_2\", \"select\": {\"type\": \"interval\", \"encodings\": [\"x\", \"y\"]}, \"bind\": \"scales\", \"views\": [\"view_2\"]}], \"$schema\": \"https://vega.github.io/schema/vega-lite/v5.8.0.json\", \"datasets\": {\"data-5887d3d03cd93eec64c6f1ddd47871ad\": [{\"behavior\": \"Greedy\", \"cargo\": null, \"coins\": 1000.0, \"id\": \"a3\", \"pos\": \"Milan\", \"tick\": 0}, {\"behavior\": \"Greedy\", \"cargo\": null, \"coins\": 1000.0, \"id\": \"a4\", \"pos\": \"Venice\", \"tick\": 0}, {\"behavior\": \"Greedy\", \"cargo\": null, \"coins\": 1000.0, \"id\": \"a2\", \"pos\": \"Rome\", \"tick\": 0}, {\"behavior\": \"Greedy\", \"cargo\": null, \"coins\": 1000.0, \"id\": \"a1\", \"pos\": \"Genoa\", \"tick\": 0}, {\"behavior\": \"Greedy\", \"cargo\": \"Wheat\", \"coins\": 899.9, \"id\": \"a3\", \"pos\": \"Genoa\", \"tick\": 1}, {\"behavior\": \"Greedy\", \"cargo\": \"Wheat\", \"coins\": 899.9, \"id\": \"a4\", \"pos\": \"Rome\", \"tick\": 1}, {\"behavior\": \"Greedy\", \"cargo\": \"Wheat\", \"coins\": 899.9, \"id\": \"a2\", \"pos\": \"Venice\", \"tick\": 1}, {\"behavior\": \"Greedy\", \"cargo\": \"Wheat\", \"coins\": 899.9, \"id\": \"a1\", \"pos\": \"Milan\", \"tick\": 1}, {\"behavior\": \"Greedy\", \"cargo\": null, \"coins\": 998.0, \"id\": \"a3\", \"pos\": \"Genoa\", \"tick\": 2}, {\"behavior\": \"Greedy\", \"cargo\": null, \"coins\": 1000.0, \"id\": \"a4\", \"pos\": \"Rome\", \"tick\": 2}, {\"behavior\": \"Greedy\", \"cargo\": null, \"coins\": 1001.0, \"id\": \"a2\", \"pos\": \"Venice\", \"tick\": 2}, {\"behavior\": \"Greedy\", \"cargo\": null, \"coins\": 999.0, \"id\": \"a1\", \"pos\": \"Milan\", \"tick\": 2}, {\"behavior\": \"Greedy\", \"cargo\": \"Wheat\", \"coins\": 901.9, \"id\": \"a3\", \"pos\": \"Milan\", \"tick\": 3}, {\"behavior\": \"Greedy\", \"cargo\": \"Wheat\", \"coins\": 899.9, \"id\": \"a4\", \"pos\": \"Genoa\", \"tick\": 3}, {\"behavior\": \"Greedy\", \"cargo\": \"Wheat\", \"coins\": 898.9, \"id\": \"a2\", \"pos\": \"Milan\", \"tick\": 3}, {\"behavior\": \"Greedy\", \"cargo\": \"Wheat\", \"coins\": 900.9, \"id\": \"a1\", \"pos\": \"Genoa\", \"tick\": 3}, {\"behavior\": \"Greedy\", \"cargo\": null, \"coins\": 999.0, \"id\": \"a3\", \"pos\": \"Milan\", \"tick\": 4}, {\"behavior\": \"Greedy\", \"cargo\": null, \"coins\": 994.0, \"id\": \"a4\", \"pos\": \"Genoa\", \"tick\": 4}, {\"behavior\": \"Greedy\", \"cargo\": null, \"coins\": 995.8, \"id\": \"a2\", \"pos\": \"Milan\", \"tick\": 4}, {\"behavior\": \"Greedy\", \"cargo\": null, \"coins\": 994.8, \"id\": \"a1\", \"pos\": \"Genoa\", \"tick\": 4}, {\"behavior\": \"Greedy\", \"cargo\": \"Wheat\", \"coins\": 903.1, \"id\": \"a3\", \"pos\": \"Genoa\", \"tick\": 5}, {\"behavior\": \"Greedy\", \"cargo\": \"Wheat\", \"coins\": 902.1, \"id\": \"a4\", \"pos\": \"Milan\", \"tick\": 5}, {\"behavior\": \"Greedy\", \"cargo\": \"Wheat\", \"coins\": 899.6999999999999, \"id\": \"a2\", \"pos\": \"Genoa\", \"tick\": 5}, {\"behavior\": \"Greedy\", \"cargo\": \"Wheat\", \"coins\": 902.6999999999999, \"id\": \"a1\", \"pos\": \"Milan\", \"tick\": 5}, {\"behavior\": \"Greedy\", \"cargo\": null, \"coins\": 993.2, \"id\": \"a3\", \"pos\": \"Genoa\", \"tick\": 6}, {\"behavior\": \"Greedy\", \"cargo\": null, \"coins\": 997.2, \"id\": \"a4\", \"pos\": \"Milan\", \"tick\": 6}, {\"behavior\": \"Greedy\", \"cargo\": null, \"coins\": 989.5999999999999, \"id\": \"a2\", \"pos\": \"Genoa\", \"tick\": 6}, {\"behavior\": \"Greedy\", \"cargo\": null, \"coins\": 997.5999999999999, \"id\": \"a1\", \"pos\": \"Milan\", \"tick\": 6}, {\"behavior\": \"Greedy\", \"cargo\": \"Wheat\", \"coins\": 905.3000000000001, \"id\": \"a3\", \"pos\": \"Milan\", \"tick\": 7}, {\"behavior\": \"Greedy\", \"cargo\": \"Wheat\", \"coins\": 903.3000000000001, \"id\": \"a4\", \"pos\": \"Genoa\", \"tick\": 7}, {\"behavior\": \"Greedy\", \"cargo\": \"Wheat\", \"coins\": 901.4999999999999, \"id\": \"a2\", \"pos\": \"Milan\", \"tick\": 7}, {\"behavior\": \"Greedy\", \"cargo\": \"Wheat\", \"coins\": 903.4999999999999, \"id\": \"a1\", \"pos\": \"Genoa\", \"tick\": 7}, {\"behavior\": \"Greedy\", \"cargo\": null, \"coins\": 998.4000000000001, \"id\": \"a3\", \"pos\": \"Milan\", \"tick\": 8}, {\"behavior\": \"Greedy\", \"cargo\": null, \"coins\": 989.4000000000001, \"id\": \"a4\", \"pos\": \"Genoa\", \"tick\": 8}, {\"behavior\": \"Greedy\", \"cargo\": null, \"coins\": 994.3999999999999, \"id\": \"a2\", \"pos\": \"Milan\", \"tick\": 8}, {\"behavior\": \"Greedy\", \"cargo\": null, \"coins\": 989.3999999999999, \"id\": \"a1\", \"pos\": \"Genoa\", \"tick\": 8}, {\"behavior\": \"Greedy\", \"cargo\": \"Wheat\", \"coins\": 906.5000000000001, \"id\": \"a3\", \"pos\": \"Genoa\", \"tick\": 9}, {\"behavior\": \"Greedy\", \"cargo\": \"Wheat\", \"coins\": 905.5000000000001, \"id\": \"a4\", \"pos\": \"Milan\", \"tick\": 9}, {\"behavior\": \"Greedy\", \"cargo\": \"Wheat\", \"coins\": 902.2999999999998, \"id\": \"a2\", \"pos\": \"Genoa\", \"tick\": 9}, {\"behavior\": \"Greedy\", \"cargo\": \"Wheat\", \"coins\": 905.2999999999998, \"id\": \"a1\", \"pos\": \"Milan\", \"tick\": 9}, {\"behavior\": \"Greedy\", \"cargo\": null, \"coins\": 988.6000000000001, \"id\": \"a3\", \"pos\": \"Genoa\", \"tick\": 10}, {\"behavior\": \"Greedy\", \"cargo\": null, \"coins\": 996.6000000000001, \"id\": \"a4\", \"pos\": \"Milan\", \"tick\": 10}, {\"behavior\": \"Greedy\", \"cargo\": null, \"coins\": 984.1999999999998, \"id\": \"a2\", \"pos\": \"Genoa\", \"tick\": 10}, {\"behavior\": \"Greedy\", \"cargo\": null, \"coins\": 996.1999999999998, \"id\": \"a1\", \"pos\": \"Milan\", \"tick\": 10}]}}, {\"mode\": \"vega-lite\"});\n",
       "</script>"
      ],
      "text/plain": [
       "alt.LayerChart(...)"
      ]
     },
     "execution_count": 13,
     "metadata": {},
     "output_type": "execute_result"
    }
   ],
   "source": [
    "def plot_agents(agents: pl.DataFrame):\n",
    "    base = alt.Chart(agents).encode(\n",
    "        x='tick:Q',\n",
    "        y=alt.Y('coins:Q').scale(zero=False),\n",
    "        color='id:O',\n",
    "    )\n",
    "    lines = base.transform_loess('tick', 'coins', bandwidth=.5, groupby=['id']).mark_line(size=4)\n",
    "    return (base.mark_point() + lines).interactive() \n",
    "  \n",
    "plot_agents(agents)"
   ]
  },
  {
   "cell_type": "code",
   "execution_count": null,
   "metadata": {},
   "outputs": [
    {
     "name": "stderr",
     "output_type": "stream",
     "text": [
      "DEBUG:root:test\n"
     ]
    }
   ],
   "source": [
    "logger = logging.getLogger()\n",
    "logger.setLevel(logging.DEBUG)\n",
    "logging.debug(\"test\")"
   ]
  },
  {
   "cell_type": "markdown",
   "metadata": {},
   "source": [
    "Metrics for individual agent\n",
    "- total coins\n",
    "- coins per tick\n",
    "- died?\n",
    "\n",
    "Metrics for population of agents\n",
    "- min, max, median, mean, std of agent coins\n",
    "\n",
    "How well did the agents equalize prices?\n",
    "- box plot of prices\n",
    "- stddev of pricesf\n",
    "\n",
    "Construct 'trades'\n",
    "- bought Cargo at StartPort for BuyPrice\n",
    "- sold Cargo at EndPort for SellPrice\n",
    "- profit = SellPrice - BuyPrice\n",
    "- Route = StartPort -> .. ->  EndPort\n",
    "- RouteLength = len(Route)"
   ]
  }
 ],
 "metadata": {
  "kernelspec": {
   "display_name": "Python 3.11.1 ('python-runner-gbM_3Hkn-py3.11')",
   "language": "python",
   "name": "python3"
  },
  "language_info": {
   "codemirror_mode": {
    "name": "ipython",
    "version": 3
   },
   "file_extension": ".py",
   "mimetype": "text/x-python",
   "name": "python",
   "nbconvert_exporter": "python",
   "pygments_lexer": "ipython3",
   "version": "3.11.1"
  },
  "orig_nbformat": 4,
  "vscode": {
   "interpreter": {
    "hash": "22ac618f98a8ca9d23c3764d17bdc39450ea506a0adf67a3fc0d423949e1ce92"
   }
  }
 },
 "nbformat": 4,
 "nbformat_minor": 2
}
