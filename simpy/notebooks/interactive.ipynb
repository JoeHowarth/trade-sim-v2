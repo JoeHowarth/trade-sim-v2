{
 "cells": [
  {
   "cell_type": "code",
   "execution_count": 1,
   "metadata": {},
   "outputs": [],
   "source": [
    "%reload_ext autoreload\n",
    "%autoreload 2"
   ]
  },
  {
   "cell_type": "code",
   "execution_count": 2,
   "metadata": {},
   "outputs": [],
   "source": [
    "import utils \n",
    "utils.init_logging()\n",
    "\n",
    "import polars as pl\n",
    "from polars import col, lit\n",
    "import altair as alt\n",
    "import simrs\n",
    "import input_builder as b\n",
    "import scenarios\n",
    "import cli\n",
    "import analysis"
   ]
  },
  {
   "cell_type": "code",
   "execution_count": 3,
   "metadata": {},
   "outputs": [],
   "source": [
    "scenario = scenarios.barbell_scenario(ticks=10, num_agents=10)\n",
    "(actions, agents, markets, events) = scenarios.run_scenario(scenario)"
   ]
  },
  {
   "cell_type": "code",
   "execution_count": 4,
   "metadata": {},
   "outputs": [
    {
     "name": "stdout",
     "output_type": "stream",
     "text": [
      "agents\n"
     ]
    },
    {
     "data": {
      "text/html": [
       "<div><style>\n",
       ".dataframe > thead > tr > th,\n",
       ".dataframe > tbody > tr > td {\n",
       "  text-align: right;\n",
       "}\n",
       "</style>\n",
       "<small>shape: (5, 6)</small><table border=\"1\" class=\"dataframe\"><thead><tr><th>behavior</th><th>cargo</th><th>coins</th><th>id</th><th>pos</th><th>tick</th></tr><tr><td>str</td><td>str</td><td>f64</td><td>str</td><td>str</td><td>i64</td></tr></thead><tbody><tr><td>&quot;Exhaustive&quot;</td><td>null</td><td>1000.0</td><td>&quot;a8&quot;</td><td>&quot;la&quot;</td><td>0</td></tr><tr><td>&quot;Exhaustive&quot;</td><td>null</td><td>1000.0</td><td>&quot;a7&quot;</td><td>&quot;la&quot;</td><td>0</td></tr><tr><td>&quot;Exhaustive&quot;</td><td>null</td><td>1000.0</td><td>&quot;a4&quot;</td><td>&quot;la&quot;</td><td>0</td></tr><tr><td>&quot;Exhaustive&quot;</td><td>null</td><td>1000.0</td><td>&quot;a6&quot;</td><td>&quot;la&quot;</td><td>0</td></tr><tr><td>&quot;Exhaustive&quot;</td><td>null</td><td>1000.0</td><td>&quot;a9&quot;</td><td>&quot;la&quot;</td><td>0</td></tr></tbody></table></div>"
      ],
      "text/plain": [
       "shape: (5, 6)\n",
       "┌────────────┬───────┬────────┬─────┬─────┬──────┐\n",
       "│ behavior   ┆ cargo ┆ coins  ┆ id  ┆ pos ┆ tick │\n",
       "│ ---        ┆ ---   ┆ ---    ┆ --- ┆ --- ┆ ---  │\n",
       "│ str        ┆ str   ┆ f64    ┆ str ┆ str ┆ i64  │\n",
       "╞════════════╪═══════╪════════╪═════╪═════╪══════╡\n",
       "│ Exhaustive ┆ null  ┆ 1000.0 ┆ a8  ┆ la  ┆ 0    │\n",
       "│ Exhaustive ┆ null  ┆ 1000.0 ┆ a7  ┆ la  ┆ 0    │\n",
       "│ Exhaustive ┆ null  ┆ 1000.0 ┆ a4  ┆ la  ┆ 0    │\n",
       "│ Exhaustive ┆ null  ┆ 1000.0 ┆ a6  ┆ la  ┆ 0    │\n",
       "│ Exhaustive ┆ null  ┆ 1000.0 ┆ a9  ┆ la  ┆ 0    │\n",
       "└────────────┴───────┴────────┴─────┴─────┴──────┘"
      ]
     },
     "execution_count": 4,
     "metadata": {},
     "output_type": "execute_result"
    }
   ],
   "source": [
    "print(\"agents\") \n",
    "agents.head()"
   ]
  },
  {
   "cell_type": "code",
   "execution_count": 5,
   "metadata": {},
   "outputs": [
    {
     "name": "stdout",
     "output_type": "stream",
     "text": [
      "markets\n"
     ]
    },
    {
     "data": {
      "text/html": [
       "<div><style>\n",
       ".dataframe > thead > tr > th,\n",
       ".dataframe > tbody > tr > td {\n",
       "  text-align: right;\n",
       "}\n",
       "</style>\n",
       "<small>shape: (5, 7)</small><table border=\"1\" class=\"dataframe\"><thead><tr><th>consumption</th><th>good</th><th>port</th><th>price</th><th>production</th><th>supply</th><th>tick</th></tr><tr><td>f64</td><td>str</td><td>str</td><td>f64</td><td>f64</td><td>f64</td><td>i64</td></tr></thead><tbody><tr><td>100.0</td><td>&quot;Wheat&quot;</td><td>&quot;ra&quot;</td><td>98.039216</td><td>100.0</td><td>1020.0</td><td>0</td></tr><tr><td>100.0</td><td>&quot;Wheat&quot;</td><td>&quot;m1&quot;</td><td>102.040816</td><td>100.0</td><td>980.0</td><td>0</td></tr><tr><td>100.0</td><td>&quot;Wheat&quot;</td><td>&quot;m2&quot;</td><td>100.0</td><td>100.0</td><td>1000.0</td><td>0</td></tr><tr><td>100.0</td><td>&quot;Wheat&quot;</td><td>&quot;la&quot;</td><td>102.040816</td><td>100.0</td><td>980.0</td><td>0</td></tr><tr><td>100.0</td><td>&quot;Wheat&quot;</td><td>&quot;lb&quot;</td><td>102.040816</td><td>100.0</td><td>980.0</td><td>0</td></tr></tbody></table></div>"
      ],
      "text/plain": [
       "shape: (5, 7)\n",
       "┌─────────────┬───────┬──────┬────────────┬────────────┬────────┬──────┐\n",
       "│ consumption ┆ good  ┆ port ┆ price      ┆ production ┆ supply ┆ tick │\n",
       "│ ---         ┆ ---   ┆ ---  ┆ ---        ┆ ---        ┆ ---    ┆ ---  │\n",
       "│ f64         ┆ str   ┆ str  ┆ f64        ┆ f64        ┆ f64    ┆ i64  │\n",
       "╞═════════════╪═══════╪══════╪════════════╪════════════╪════════╪══════╡\n",
       "│ 100.0       ┆ Wheat ┆ ra   ┆ 98.039216  ┆ 100.0      ┆ 1020.0 ┆ 0    │\n",
       "│ 100.0       ┆ Wheat ┆ m1   ┆ 102.040816 ┆ 100.0      ┆ 980.0  ┆ 0    │\n",
       "│ 100.0       ┆ Wheat ┆ m2   ┆ 100.0      ┆ 100.0      ┆ 1000.0 ┆ 0    │\n",
       "│ 100.0       ┆ Wheat ┆ la   ┆ 102.040816 ┆ 100.0      ┆ 980.0  ┆ 0    │\n",
       "│ 100.0       ┆ Wheat ┆ lb   ┆ 102.040816 ┆ 100.0      ┆ 980.0  ┆ 0    │\n",
       "└─────────────┴───────┴──────┴────────────┴────────────┴────────┴──────┘"
      ]
     },
     "execution_count": 5,
     "metadata": {},
     "output_type": "execute_result"
    }
   ],
   "source": [
    "print(\"markets\") \n",
    "markets.head()"
   ]
  },
  {
   "cell_type": "code",
   "execution_count": 6,
   "metadata": {},
   "outputs": [
    {
     "name": "stdout",
     "output_type": "stream",
     "text": [
      "actions\n"
     ]
    },
    {
     "data": {
      "text/html": [
       "<div><style>\n",
       ".dataframe > thead > tr > th,\n",
       ".dataframe > tbody > tr > td {\n",
       "  text-align: right;\n",
       "}\n",
       "</style>\n",
       "<small>shape: (10, 5)</small><table border=\"1\" class=\"dataframe\"><thead><tr><th>action</th><th>agent_id</th><th>port_id</th><th>tick</th><th>good</th></tr><tr><td>str</td><td>str</td><td>str</td><td>i64</td><td>str</td></tr></thead><tbody><tr><td>&quot;Move&quot;</td><td>&quot;a8&quot;</td><td>&quot;m1&quot;</td><td>0</td><td>null</td></tr><tr><td>&quot;Move&quot;</td><td>&quot;a7&quot;</td><td>&quot;m1&quot;</td><td>0</td><td>null</td></tr><tr><td>&quot;Move&quot;</td><td>&quot;a4&quot;</td><td>&quot;m1&quot;</td><td>0</td><td>null</td></tr><tr><td>&quot;Move&quot;</td><td>&quot;a6&quot;</td><td>&quot;m1&quot;</td><td>0</td><td>null</td></tr><tr><td>&quot;Move&quot;</td><td>&quot;a9&quot;</td><td>&quot;m1&quot;</td><td>0</td><td>null</td></tr><tr><td>&quot;Move&quot;</td><td>&quot;a5&quot;</td><td>&quot;m1&quot;</td><td>0</td><td>null</td></tr><tr><td>&quot;Move&quot;</td><td>&quot;a3&quot;</td><td>&quot;m1&quot;</td><td>0</td><td>null</td></tr><tr><td>&quot;Move&quot;</td><td>&quot;a10&quot;</td><td>&quot;m1&quot;</td><td>0</td><td>null</td></tr><tr><td>&quot;Move&quot;</td><td>&quot;a2&quot;</td><td>&quot;m1&quot;</td><td>0</td><td>null</td></tr><tr><td>&quot;Move&quot;</td><td>&quot;a1&quot;</td><td>&quot;m1&quot;</td><td>0</td><td>null</td></tr></tbody></table></div>"
      ],
      "text/plain": [
       "shape: (10, 5)\n",
       "┌────────┬──────────┬─────────┬──────┬──────┐\n",
       "│ action ┆ agent_id ┆ port_id ┆ tick ┆ good │\n",
       "│ ---    ┆ ---      ┆ ---     ┆ ---  ┆ ---  │\n",
       "│ str    ┆ str      ┆ str     ┆ i64  ┆ str  │\n",
       "╞════════╪══════════╪═════════╪══════╪══════╡\n",
       "│ Move   ┆ a8       ┆ m1      ┆ 0    ┆ null │\n",
       "│ Move   ┆ a7       ┆ m1      ┆ 0    ┆ null │\n",
       "│ Move   ┆ a4       ┆ m1      ┆ 0    ┆ null │\n",
       "│ Move   ┆ a6       ┆ m1      ┆ 0    ┆ null │\n",
       "│ …      ┆ …        ┆ …       ┆ …    ┆ …    │\n",
       "│ Move   ┆ a3       ┆ m1      ┆ 0    ┆ null │\n",
       "│ Move   ┆ a10      ┆ m1      ┆ 0    ┆ null │\n",
       "│ Move   ┆ a2       ┆ m1      ┆ 0    ┆ null │\n",
       "│ Move   ┆ a1       ┆ m1      ┆ 0    ┆ null │\n",
       "└────────┴──────────┴─────────┴──────┴──────┘"
      ]
     },
     "execution_count": 6,
     "metadata": {},
     "output_type": "execute_result"
    }
   ],
   "source": [
    "print(\"actions\")\n",
    "actions.head(10)"
   ]
  },
  {
   "cell_type": "code",
   "execution_count": 7,
   "metadata": {},
   "outputs": [
    {
     "data": {
      "text/html": [
       "<div><style>\n",
       ".dataframe > thead > tr > th,\n",
       ".dataframe > tbody > tr > td {\n",
       "  text-align: right;\n",
       "}\n",
       "</style>\n",
       "<small>shape: (10, 7)</small><table border=\"1\" class=\"dataframe\"><thead><tr><th>agent</th><th>amt</th><th>cost</th><th>event</th><th>good</th><th>port</th><th>tick</th></tr><tr><td>str</td><td>i64</td><td>f64</td><td>str</td><td>str</td><td>str</td><td>i64</td></tr></thead><tbody><tr><td>&quot;a8&quot;</td><td>1</td><td>100.05005</td><td>&quot;Trade&quot;</td><td>&quot;Wheat&quot;</td><td>&quot;m2&quot;</td><td>2</td></tr><tr><td>&quot;a7&quot;</td><td>1</td><td>100.15025</td><td>&quot;Trade&quot;</td><td>&quot;Wheat&quot;</td><td>&quot;m2&quot;</td><td>2</td></tr><tr><td>&quot;a4&quot;</td><td>1</td><td>100.250652</td><td>&quot;Trade&quot;</td><td>&quot;Wheat&quot;</td><td>&quot;m2&quot;</td><td>2</td></tr><tr><td>&quot;a6&quot;</td><td>1</td><td>100.351255</td><td>&quot;Trade&quot;</td><td>&quot;Wheat&quot;</td><td>&quot;m2&quot;</td><td>2</td></tr><tr><td>&quot;a9&quot;</td><td>1</td><td>100.452059</td><td>&quot;Trade&quot;</td><td>&quot;Wheat&quot;</td><td>&quot;m2&quot;</td><td>2</td></tr><tr><td>&quot;a5&quot;</td><td>1</td><td>100.553067</td><td>&quot;Trade&quot;</td><td>&quot;Wheat&quot;</td><td>&quot;m2&quot;</td><td>2</td></tr><tr><td>&quot;a3&quot;</td><td>1</td><td>100.654278</td><td>&quot;Trade&quot;</td><td>&quot;Wheat&quot;</td><td>&quot;m2&quot;</td><td>2</td></tr><tr><td>&quot;a10&quot;</td><td>1</td><td>100.755693</td><td>&quot;Trade&quot;</td><td>&quot;Wheat&quot;</td><td>&quot;m2&quot;</td><td>2</td></tr><tr><td>&quot;a2&quot;</td><td>1</td><td>100.857313</td><td>&quot;Trade&quot;</td><td>&quot;Wheat&quot;</td><td>&quot;m2&quot;</td><td>2</td></tr><tr><td>&quot;a1&quot;</td><td>1</td><td>100.959137</td><td>&quot;Trade&quot;</td><td>&quot;Wheat&quot;</td><td>&quot;m2&quot;</td><td>2</td></tr></tbody></table></div>"
      ],
      "text/plain": [
       "shape: (10, 7)\n",
       "┌───────┬─────┬────────────┬───────┬───────┬──────┬──────┐\n",
       "│ agent ┆ amt ┆ cost       ┆ event ┆ good  ┆ port ┆ tick │\n",
       "│ ---   ┆ --- ┆ ---        ┆ ---   ┆ ---   ┆ ---  ┆ ---  │\n",
       "│ str   ┆ i64 ┆ f64        ┆ str   ┆ str   ┆ str  ┆ i64  │\n",
       "╞═══════╪═════╪════════════╪═══════╪═══════╪══════╪══════╡\n",
       "│ a8    ┆ 1   ┆ 100.05005  ┆ Trade ┆ Wheat ┆ m2   ┆ 2    │\n",
       "│ a7    ┆ 1   ┆ 100.15025  ┆ Trade ┆ Wheat ┆ m2   ┆ 2    │\n",
       "│ a4    ┆ 1   ┆ 100.250652 ┆ Trade ┆ Wheat ┆ m2   ┆ 2    │\n",
       "│ a6    ┆ 1   ┆ 100.351255 ┆ Trade ┆ Wheat ┆ m2   ┆ 2    │\n",
       "│ …     ┆ …   ┆ …          ┆ …     ┆ …     ┆ …    ┆ …    │\n",
       "│ a3    ┆ 1   ┆ 100.654278 ┆ Trade ┆ Wheat ┆ m2   ┆ 2    │\n",
       "│ a10   ┆ 1   ┆ 100.755693 ┆ Trade ┆ Wheat ┆ m2   ┆ 2    │\n",
       "│ a2    ┆ 1   ┆ 100.857313 ┆ Trade ┆ Wheat ┆ m2   ┆ 2    │\n",
       "│ a1    ┆ 1   ┆ 100.959137 ┆ Trade ┆ Wheat ┆ m2   ┆ 2    │\n",
       "└───────┴─────┴────────────┴───────┴───────┴──────┴──────┘"
      ]
     },
     "execution_count": 7,
     "metadata": {},
     "output_type": "execute_result"
    }
   ],
   "source": [
    "events.head(10)"
   ]
  },
  {
   "cell_type": "code",
   "execution_count": 8,
   "metadata": {},
   "outputs": [
    {
     "data": {
      "text/html": [
       "\n",
       "<style>\n",
       "  #altair-viz-8e548559384e46f389a5bd778b44d2c7.vega-embed {\n",
       "    width: 100%;\n",
       "    display: flex;\n",
       "  }\n",
       "\n",
       "  #altair-viz-8e548559384e46f389a5bd778b44d2c7.vega-embed details,\n",
       "  #altair-viz-8e548559384e46f389a5bd778b44d2c7.vega-embed details summary {\n",
       "    position: relative;\n",
       "  }\n",
       "</style>\n",
       "<div id=\"altair-viz-8e548559384e46f389a5bd778b44d2c7\"></div>\n",
       "<script type=\"text/javascript\">\n",
       "  var VEGA_DEBUG = (typeof VEGA_DEBUG == \"undefined\") ? {} : VEGA_DEBUG;\n",
       "  (function(spec, embedOpt){\n",
       "    let outputDiv = document.currentScript.previousElementSibling;\n",
       "    if (outputDiv.id !== \"altair-viz-8e548559384e46f389a5bd778b44d2c7\") {\n",
       "      outputDiv = document.getElementById(\"altair-viz-8e548559384e46f389a5bd778b44d2c7\");\n",
       "    }\n",
       "    const paths = {\n",
       "      \"vega\": \"https://cdn.jsdelivr.net/npm/vega@5?noext\",\n",
       "      \"vega-lib\": \"https://cdn.jsdelivr.net/npm/vega-lib?noext\",\n",
       "      \"vega-lite\": \"https://cdn.jsdelivr.net/npm/vega-lite@5.8.0?noext\",\n",
       "      \"vega-embed\": \"https://cdn.jsdelivr.net/npm/vega-embed@6?noext\",\n",
       "    };\n",
       "\n",
       "    function maybeLoadScript(lib, version) {\n",
       "      var key = `${lib.replace(\"-\", \"\")}_version`;\n",
       "      return (VEGA_DEBUG[key] == version) ?\n",
       "        Promise.resolve(paths[lib]) :\n",
       "        new Promise(function(resolve, reject) {\n",
       "          var s = document.createElement('script');\n",
       "          document.getElementsByTagName(\"head\")[0].appendChild(s);\n",
       "          s.async = true;\n",
       "          s.onload = () => {\n",
       "            VEGA_DEBUG[key] = version;\n",
       "            return resolve(paths[lib]);\n",
       "          };\n",
       "          s.onerror = () => reject(`Error loading script: ${paths[lib]}`);\n",
       "          s.src = paths[lib];\n",
       "        });\n",
       "    }\n",
       "\n",
       "    function showError(err) {\n",
       "      outputDiv.innerHTML = `<div class=\"error\" style=\"color:red;\">${err}</div>`;\n",
       "      throw err;\n",
       "    }\n",
       "\n",
       "    function displayChart(vegaEmbed) {\n",
       "      vegaEmbed(outputDiv, spec, embedOpt)\n",
       "        .catch(err => showError(`Javascript Error: ${err.message}<br>This usually means there's a typo in your chart specification. See the javascript console for the full traceback.`));\n",
       "    }\n",
       "\n",
       "    if(typeof define === \"function\" && define.amd) {\n",
       "      requirejs.config({paths});\n",
       "      require([\"vega-embed\"], displayChart, err => showError(`Error loading script: ${err.message}`));\n",
       "    } else {\n",
       "      maybeLoadScript(\"vega\", \"5\")\n",
       "        .then(() => maybeLoadScript(\"vega-lite\", \"5.8.0\"))\n",
       "        .then(() => maybeLoadScript(\"vega-embed\", \"6\"))\n",
       "        .catch(showError)\n",
       "        .then(() => displayChart(vegaEmbed));\n",
       "    }\n",
       "  })({\"config\": {\"view\": {\"continuousWidth\": 300, \"continuousHeight\": 300}}, \"layer\": [{\"mark\": {\"type\": \"point\"}, \"encoding\": {\"color\": {\"field\": \"id\", \"scale\": {\"scheme\": \"dark2\"}, \"type\": \"ordinal\"}, \"x\": {\"field\": \"tick\", \"type\": \"quantitative\"}, \"y\": {\"field\": \"coins\", \"scale\": {\"zero\": false}, \"type\": \"quantitative\"}}, \"name\": \"view_1\"}, {\"mark\": {\"type\": \"line\", \"size\": 4}, \"encoding\": {\"color\": {\"field\": \"id\", \"scale\": {\"scheme\": \"dark2\"}, \"type\": \"ordinal\"}, \"x\": {\"field\": \"tick\", \"type\": \"quantitative\"}, \"y\": {\"field\": \"coins\", \"scale\": {\"zero\": false}, \"type\": \"quantitative\"}}, \"transform\": [{\"loess\": \"coins\", \"on\": \"tick\", \"bandwidth\": 0.5, \"groupby\": [\"id\"]}]}], \"data\": {\"name\": \"data-b09f7e0bc8ae0c4c2b920e7ff1603aed\"}, \"params\": [{\"name\": \"param_1\", \"select\": {\"type\": \"interval\", \"encodings\": [\"x\", \"y\"]}, \"bind\": \"scales\", \"views\": [\"view_1\"]}], \"$schema\": \"https://vega.github.io/schema/vega-lite/v5.8.0.json\", \"datasets\": {\"data-b09f7e0bc8ae0c4c2b920e7ff1603aed\": [{\"behavior\": \"Exhaustive\", \"cargo\": null, \"coins\": 1000.0, \"id\": \"a8\", \"pos\": \"la\", \"tick\": 0}, {\"behavior\": \"Exhaustive\", \"cargo\": null, \"coins\": 1000.0, \"id\": \"a7\", \"pos\": \"la\", \"tick\": 0}, {\"behavior\": \"Exhaustive\", \"cargo\": null, \"coins\": 1000.0, \"id\": \"a4\", \"pos\": \"la\", \"tick\": 0}, {\"behavior\": \"Exhaustive\", \"cargo\": null, \"coins\": 1000.0, \"id\": \"a6\", \"pos\": \"la\", \"tick\": 0}, {\"behavior\": \"Exhaustive\", \"cargo\": null, \"coins\": 1000.0, \"id\": \"a9\", \"pos\": \"la\", \"tick\": 0}, {\"behavior\": \"Exhaustive\", \"cargo\": null, \"coins\": 1000.0, \"id\": \"a5\", \"pos\": \"la\", \"tick\": 0}, {\"behavior\": \"Exhaustive\", \"cargo\": null, \"coins\": 1000.0, \"id\": \"a3\", \"pos\": \"la\", \"tick\": 0}, {\"behavior\": \"Exhaustive\", \"cargo\": null, \"coins\": 1000.0, \"id\": \"a10\", \"pos\": \"la\", \"tick\": 0}, {\"behavior\": \"Exhaustive\", \"cargo\": null, \"coins\": 1000.0, \"id\": \"a2\", \"pos\": \"la\", \"tick\": 0}, {\"behavior\": \"Exhaustive\", \"cargo\": null, \"coins\": 1000.0, \"id\": \"a1\", \"pos\": \"la\", \"tick\": 0}, {\"behavior\": \"Exhaustive\", \"cargo\": null, \"coins\": 999.0, \"id\": \"a8\", \"pos\": \"m1\", \"tick\": 1}, {\"behavior\": \"Exhaustive\", \"cargo\": null, \"coins\": 999.0, \"id\": \"a7\", \"pos\": \"m1\", \"tick\": 1}, {\"behavior\": \"Exhaustive\", \"cargo\": null, \"coins\": 999.0, \"id\": \"a4\", \"pos\": \"m1\", \"tick\": 1}, {\"behavior\": \"Exhaustive\", \"cargo\": null, \"coins\": 999.0, \"id\": \"a6\", \"pos\": \"m1\", \"tick\": 1}, {\"behavior\": \"Exhaustive\", \"cargo\": null, \"coins\": 999.0, \"id\": \"a9\", \"pos\": \"m1\", \"tick\": 1}, {\"behavior\": \"Exhaustive\", \"cargo\": null, \"coins\": 999.0, \"id\": \"a5\", \"pos\": \"m1\", \"tick\": 1}, {\"behavior\": \"Exhaustive\", \"cargo\": null, \"coins\": 999.0, \"id\": \"a3\", \"pos\": \"m1\", \"tick\": 1}, {\"behavior\": \"Exhaustive\", \"cargo\": null, \"coins\": 999.0, \"id\": \"a10\", \"pos\": \"m1\", \"tick\": 1}, {\"behavior\": \"Exhaustive\", \"cargo\": null, \"coins\": 999.0, \"id\": \"a2\", \"pos\": \"m1\", \"tick\": 1}, {\"behavior\": \"Exhaustive\", \"cargo\": null, \"coins\": 999.0, \"id\": \"a1\", \"pos\": \"m1\", \"tick\": 1}, {\"behavior\": \"Exhaustive\", \"cargo\": null, \"coins\": 998.0, \"id\": \"a8\", \"pos\": \"m2\", \"tick\": 2}, {\"behavior\": \"Exhaustive\", \"cargo\": null, \"coins\": 998.0, \"id\": \"a7\", \"pos\": \"m2\", \"tick\": 2}, {\"behavior\": \"Exhaustive\", \"cargo\": null, \"coins\": 998.0, \"id\": \"a4\", \"pos\": \"m2\", \"tick\": 2}, {\"behavior\": \"Exhaustive\", \"cargo\": null, \"coins\": 998.0, \"id\": \"a6\", \"pos\": \"m2\", \"tick\": 2}, {\"behavior\": \"Exhaustive\", \"cargo\": null, \"coins\": 998.0, \"id\": \"a9\", \"pos\": \"m2\", \"tick\": 2}, {\"behavior\": \"Exhaustive\", \"cargo\": null, \"coins\": 998.0, \"id\": \"a5\", \"pos\": \"m2\", \"tick\": 2}, {\"behavior\": \"Exhaustive\", \"cargo\": null, \"coins\": 998.0, \"id\": \"a3\", \"pos\": \"m2\", \"tick\": 2}, {\"behavior\": \"Exhaustive\", \"cargo\": null, \"coins\": 998.0, \"id\": \"a10\", \"pos\": \"m2\", \"tick\": 2}, {\"behavior\": \"Exhaustive\", \"cargo\": null, \"coins\": 998.0, \"id\": \"a2\", \"pos\": \"m2\", \"tick\": 2}, {\"behavior\": \"Exhaustive\", \"cargo\": null, \"coins\": 998.0, \"id\": \"a1\", \"pos\": \"m2\", \"tick\": 2}, {\"behavior\": \"Exhaustive\", \"cargo\": \"Wheat\", \"coins\": 896.94994994995, \"id\": \"a8\", \"pos\": \"m3\", \"tick\": 3}, {\"behavior\": \"Exhaustive\", \"cargo\": \"Wheat\", \"coins\": 896.8497495491483, \"id\": \"a7\", \"pos\": \"m3\", \"tick\": 3}, {\"behavior\": \"Exhaustive\", \"cargo\": \"Wheat\", \"coins\": 896.7493482451362, \"id\": \"a4\", \"pos\": \"m3\", \"tick\": 3}, {\"behavior\": \"Exhaustive\", \"cargo\": \"Wheat\", \"coins\": 896.6487454330864, \"id\": \"a6\", \"pos\": \"m3\", \"tick\": 3}, {\"behavior\": \"Exhaustive\", \"cargo\": \"Wheat\", \"coins\": 896.5479405057415, \"id\": \"a9\", \"pos\": \"m3\", \"tick\": 3}, {\"behavior\": \"Exhaustive\", \"cargo\": \"Wheat\", \"coins\": 896.4469328534018, \"id\": \"a5\", \"pos\": \"m3\", \"tick\": 3}, {\"behavior\": \"Exhaustive\", \"cargo\": \"Wheat\", \"coins\": 896.3457218639126, \"id\": \"a3\", \"pos\": \"m3\", \"tick\": 3}, {\"behavior\": \"Exhaustive\", \"cargo\": \"Wheat\", \"coins\": 896.2443069226521, \"id\": \"a10\", \"pos\": \"m3\", \"tick\": 3}, {\"behavior\": \"Exhaustive\", \"cargo\": \"Wheat\", \"coins\": 896.1426874125191, \"id\": \"a2\", \"pos\": \"m3\", \"tick\": 3}, {\"behavior\": \"Exhaustive\", \"cargo\": \"Wheat\", \"coins\": 896.0408627139202, \"id\": \"a1\", \"pos\": \"m3\", \"tick\": 3}, {\"behavior\": \"Exhaustive\", \"cargo\": null, \"coins\": 995.8999999, \"id\": \"a8\", \"pos\": \"m3\", \"tick\": 4}, {\"behavior\": \"Exhaustive\", \"cargo\": null, \"coins\": 995.6999990999967, \"id\": \"a7\", \"pos\": \"m3\", \"tick\": 4}, {\"behavior\": \"Exhaustive\", \"cargo\": null, \"coins\": 995.4999964999724, \"id\": \"a4\", \"pos\": \"m3\", \"tick\": 4}, {\"behavior\": \"Exhaustive\", \"cargo\": null, \"coins\": 995.2999908998734, \"id\": \"a6\", \"pos\": \"m3\", \"tick\": 4}, {\"behavior\": \"Exhaustive\", \"cargo\": null, \"coins\": 995.0999810995851, \"id\": \"a9\", \"pos\": \"m3\", \"tick\": 4}, {\"behavior\": \"Exhaustive\", \"cargo\": null, \"coins\": 994.8999658989098, \"id\": \"a5\", \"pos\": \"m3\", \"tick\": 4}, {\"behavior\": \"Exhaustive\", \"cargo\": null, \"coins\": 994.6999440975416, \"id\": \"a3\", \"pos\": \"m3\", \"tick\": 4}, {\"behavior\": \"Exhaustive\", \"cargo\": null, \"coins\": 994.4999144950422, \"id\": \"a10\", \"pos\": \"m3\", \"tick\": 4}, {\"behavior\": \"Exhaustive\", \"cargo\": null, \"coins\": 994.2998758908176, \"id\": \"a2\", \"pos\": \"m3\", \"tick\": 4}, {\"behavior\": \"Exhaustive\", \"cargo\": null, \"coins\": 994.0998270840936, \"id\": \"a1\", \"pos\": \"m3\", \"tick\": 4}, {\"behavior\": \"Exhaustive\", \"cargo\": \"Wheat\", \"coins\": 895.8410355298266, \"id\": \"a8\", \"pos\": \"m2\", \"tick\": 5}, {\"behavior\": \"Exhaustive\", \"cargo\": \"Wheat\", \"coins\": 895.5428106216982, \"id\": \"a7\", \"pos\": \"m2\", \"tick\": 5}, {\"behavior\": \"Exhaustive\", \"cargo\": \"Wheat\", \"coins\": 895.2443889275823, \"id\": \"a4\", \"pos\": \"m2\", \"tick\": 5}, {\"behavior\": \"Exhaustive\", \"cargo\": \"Wheat\", \"coins\": 894.9457686662444, \"id\": \"a6\", \"pos\": \"m2\", \"tick\": 5}, {\"behavior\": \"Exhaustive\", \"cargo\": \"Wheat\", \"coins\": 894.646948054077, \"id\": \"a9\", \"pos\": \"m2\", \"tick\": 5}, {\"behavior\": \"Exhaustive\", \"cargo\": \"Wheat\", \"coins\": 894.3479253050663, \"id\": \"a5\", \"pos\": \"m2\", \"tick\": 5}, {\"behavior\": \"Exhaustive\", \"cargo\": \"Wheat\", \"coins\": 894.0486986307546, \"id\": \"a3\", \"pos\": \"m2\", \"tick\": 5}, {\"behavior\": \"Exhaustive\", \"cargo\": \"Wheat\", \"coins\": 893.7492662402059, \"id\": \"a10\", \"pos\": \"m2\", \"tick\": 5}, {\"behavior\": \"Exhaustive\", \"cargo\": \"Wheat\", \"coins\": 893.4496263399692, \"id\": \"a2\", \"pos\": \"m2\", \"tick\": 5}, {\"behavior\": \"Exhaustive\", \"cargo\": \"Wheat\", \"coins\": 893.1497771340437, \"id\": \"a1\", \"pos\": \"m2\", \"tick\": 5}, {\"behavior\": \"Exhaustive\", \"cargo\": null, \"coins\": 995.8001728159064, \"id\": \"a8\", \"pos\": \"m2\", \"tick\": 6}, {\"behavior\": \"Exhaustive\", \"cargo\": null, \"coins\": 995.4001232091791, \"id\": \"a7\", \"pos\": \"m2\", \"tick\": 6}, {\"behavior\": \"Exhaustive\", \"cargo\": null, \"coins\": 995.0000820049303, \"id\": \"a4\", \"pos\": \"m2\", \"tick\": 6}, {\"behavior\": \"Exhaustive\", \"cargo\": null, \"coins\": 994.6000468023318, \"id\": \"a6\", \"pos\": \"m2\", \"tick\": 6}, {\"behavior\": \"Exhaustive\", \"cargo\": null, \"coins\": 994.2000152006752, \"id\": \"a9\", \"pos\": \"m2\", \"tick\": 6}, {\"behavior\": \"Exhaustive\", \"cargo\": null, \"coins\": 993.7999847993246, \"id\": \"a5\", \"pos\": \"m2\", \"tick\": 6}, {\"behavior\": \"Exhaustive\", \"cargo\": null, \"coins\": 993.3999531976682, \"id\": \"a3\", \"pos\": \"m2\", \"tick\": 6}, {\"behavior\": \"Exhaustive\", \"cargo\": null, \"coins\": 992.9999179950696, \"id\": \"a10\", \"pos\": \"m2\", \"tick\": 6}, {\"behavior\": \"Exhaustive\", \"cargo\": null, \"coins\": 992.5998767908209, \"id\": \"a2\", \"pos\": \"m2\", \"tick\": 6}, {\"behavior\": \"Exhaustive\", \"cargo\": null, \"coins\": 992.1998271840937, \"id\": \"a1\", \"pos\": \"m2\", \"tick\": 6}, {\"behavior\": \"Exhaustive\", \"cargo\": \"Wheat\", \"coins\": 894.7501227658563, \"id\": \"a8\", \"pos\": \"m3\", \"tick\": 7}, {\"behavior\": \"Exhaustive\", \"cargo\": \"Wheat\", \"coins\": 894.2498727583275, \"id\": \"a7\", \"pos\": \"m3\", \"tick\": 7}, {\"behavior\": \"Exhaustive\", \"cargo\": \"Wheat\", \"coins\": 893.7494302500666, \"id\": \"a4\", \"pos\": \"m3\", \"tick\": 7}, {\"behavior\": \"Exhaustive\", \"cargo\": null, \"coins\": 993.6000468023318, \"id\": \"a6\", \"pos\": \"m3\", \"tick\": 7}, {\"behavior\": \"Exhaustive\", \"cargo\": \"Wheat\", \"coins\": 892.8487606337617, \"id\": \"a9\", \"pos\": \"m3\", \"tick\": 7}, {\"behavior\": \"Exhaustive\", \"cargo\": \"Wheat\", \"coins\": 892.3479253050662, \"id\": \"a5\", \"pos\": \"m3\", \"tick\": 7}, {\"behavior\": \"Exhaustive\", \"cargo\": \"Wheat\", \"coins\": 891.84688605107, \"id\": \"a3\", \"pos\": \"m3\", \"tick\": 7}, {\"behavior\": \"Exhaustive\", \"cargo\": \"Wheat\", \"coins\": 891.3456398589822, \"id\": \"a10\", \"pos\": \"m3\", \"tick\": 7}, {\"behavior\": \"Exhaustive\", \"cargo\": null, \"coins\": 991.5998767908209, \"id\": \"a2\", \"pos\": \"m3\", \"tick\": 7}, {\"behavior\": \"Exhaustive\", \"cargo\": \"Wheat\", \"coins\": 890.4441341067458, \"id\": \"a1\", \"pos\": \"m3\", \"tick\": 7}, {\"behavior\": \"Exhaustive\", \"cargo\": null, \"coins\": 993.7001727159063, \"id\": \"a8\", \"pos\": \"m3\", \"tick\": 8}, {\"behavior\": \"Exhaustive\", \"cargo\": null, \"coins\": 993.1001223091758, \"id\": \"a7\", \"pos\": \"m3\", \"tick\": 8}, {\"behavior\": \"Exhaustive\", \"cargo\": null, \"coins\": 992.5000785049028, \"id\": \"a4\", \"pos\": \"m3\", \"tick\": 8}, {\"behavior\": \"Exhaustive\", \"cargo\": null, \"coins\": 992.6000468023318, \"id\": \"a6\", \"pos\": \"ra\", \"tick\": 8}, {\"behavior\": \"Exhaustive\", \"cargo\": null, \"coins\": 991.5000061005486, \"id\": \"a9\", \"pos\": \"m3\", \"tick\": 8}, {\"behavior\": \"Exhaustive\", \"cargo\": null, \"coins\": 990.8999658989097, \"id\": \"a5\", \"pos\": \"m3\", \"tick\": 8}, {\"behavior\": \"Exhaustive\", \"cargo\": null, \"coins\": 990.299919096578, \"id\": \"a3\", \"pos\": \"m3\", \"tick\": 8}, {\"behavior\": \"Exhaustive\", \"cargo\": null, \"coins\": 989.6998620926112, \"id\": \"a10\", \"pos\": \"m3\", \"tick\": 8}, {\"behavior\": \"Exhaustive\", \"cargo\": null, \"coins\": 990.5998767908209, \"id\": \"a2\", \"pos\": \"ra\", \"tick\": 8}, {\"behavior\": \"Exhaustive\", \"cargo\": null, \"coins\": 988.6997416791359, \"id\": \"a1\", \"pos\": \"m3\", \"tick\": 8}, {\"behavior\": \"Exhaustive\", \"cargo\": \"Wheat\", \"coins\": 893.4445651435162, \"id\": \"a8\", \"pos\": \"m2\", \"tick\": 9}, {\"behavior\": \"Exhaustive\", \"cargo\": \"Wheat\", \"coins\": 892.7459000755468, \"id\": \"a7\", \"pos\": \"m2\", \"tick\": 9}, {\"behavior\": \"Exhaustive\", \"cargo\": \"Wheat\", \"coins\": 892.0470454593948, \"id\": \"a4\", \"pos\": \"m2\", \"tick\": 9}, {\"behavior\": \"Exhaustive\", \"cargo\": \"Wheat\", \"coins\": 893.512725514641, \"id\": \"a6\", \"pos\": \"m3\", \"tick\": 9}, {\"behavior\": \"Exhaustive\", \"cargo\": \"Wheat\", \"coins\": 890.947965506705, \"id\": \"a9\", \"pos\": \"m2\", \"tick\": 9}, {\"behavior\": \"Exhaustive\", \"cargo\": \"Wheat\", \"coins\": 890.2487204321228, \"id\": \"a5\", \"pos\": \"m2\", \"tick\": 9}, {\"behavior\": \"Exhaustive\", \"cargo\": \"Wheat\", \"coins\": 889.5492708417418, \"id\": \"a3\", \"pos\": \"m2\", \"tick\": 9}, {\"behavior\": \"Exhaustive\", \"cargo\": \"Wheat\", \"coins\": 888.8496125417628, \"id\": \"a10\", \"pos\": \"m2\", \"tick\": 9}, {\"behavior\": \"Exhaustive\", \"cargo\": \"Wheat\", \"coins\": 891.4162497902753, \"id\": \"a2\", \"pos\": \"m3\", \"tick\": 9}, {\"behavior\": \"Exhaustive\", \"cargo\": \"Wheat\", \"coins\": 887.749691729086, \"id\": \"a1\", \"pos\": \"m2\", \"tick\": 9}, {\"behavior\": \"Exhaustive\", \"cargo\": null, \"coins\": 993.2002582208642, \"id\": \"a8\", \"pos\": \"m2\", \"tick\": 10}, {\"behavior\": \"Exhaustive\", \"cargo\": null, \"coins\": 992.4001782116343, \"id\": \"a7\", \"pos\": \"m2\", \"tick\": 10}, {\"behavior\": \"Exhaustive\", \"cargo\": null, \"coins\": 991.600112605993, \"id\": \"a4\", \"pos\": \"m2\", \"tick\": 10}, {\"behavior\": \"Exhaustive\", \"cargo\": null, \"coins\": 992.462775464691, \"id\": \"a6\", \"pos\": \"m3\", \"tick\": 10}, {\"behavior\": \"Exhaustive\", \"cargo\": null, \"coins\": 990.4000250009635, \"id\": \"a9\", \"pos\": \"m2\", \"tick\": 10}, {\"behavior\": \"Exhaustive\", \"cargo\": null, \"coins\": 989.5999749990364, \"id\": \"a5\", \"pos\": \"m2\", \"tick\": 10}, {\"behavior\": \"Exhaustive\", \"cargo\": null, \"coins\": 988.7999225966055, \"id\": \"a3\", \"pos\": \"m2\", \"tick\": 10}, {\"behavior\": \"Exhaustive\", \"cargo\": null, \"coins\": 987.9998629926145, \"id\": \"a10\", \"pos\": \"m2\", \"tick\": 10}, {\"behavior\": \"Exhaustive\", \"cargo\": null, \"coins\": 990.2664993411237, \"id\": \"a2\", \"pos\": \"m3\", \"tick\": 10}, {\"behavior\": \"Exhaustive\", \"cargo\": null, \"coins\": 986.799741779136, \"id\": \"a1\", \"pos\": \"m2\", \"tick\": 10}]}}, {\"mode\": \"vega-lite\"});\n",
       "</script>"
      ],
      "text/plain": [
       "alt.LayerChart(...)"
      ]
     },
     "execution_count": 8,
     "metadata": {},
     "output_type": "execute_result"
    }
   ],
   "source": [
    "analysis.plot_agents(agents)"
   ]
  },
  {
   "cell_type": "code",
   "execution_count": 9,
   "metadata": {},
   "outputs": [
    {
     "data": {
      "text/html": [
       "\n",
       "<style>\n",
       "  #altair-viz-1f9fe451b3c64f84b327fc3f9c433fa9.vega-embed {\n",
       "    width: 100%;\n",
       "    display: flex;\n",
       "  }\n",
       "\n",
       "  #altair-viz-1f9fe451b3c64f84b327fc3f9c433fa9.vega-embed details,\n",
       "  #altair-viz-1f9fe451b3c64f84b327fc3f9c433fa9.vega-embed details summary {\n",
       "    position: relative;\n",
       "  }\n",
       "</style>\n",
       "<div id=\"altair-viz-1f9fe451b3c64f84b327fc3f9c433fa9\"></div>\n",
       "<script type=\"text/javascript\">\n",
       "  var VEGA_DEBUG = (typeof VEGA_DEBUG == \"undefined\") ? {} : VEGA_DEBUG;\n",
       "  (function(spec, embedOpt){\n",
       "    let outputDiv = document.currentScript.previousElementSibling;\n",
       "    if (outputDiv.id !== \"altair-viz-1f9fe451b3c64f84b327fc3f9c433fa9\") {\n",
       "      outputDiv = document.getElementById(\"altair-viz-1f9fe451b3c64f84b327fc3f9c433fa9\");\n",
       "    }\n",
       "    const paths = {\n",
       "      \"vega\": \"https://cdn.jsdelivr.net/npm/vega@5?noext\",\n",
       "      \"vega-lib\": \"https://cdn.jsdelivr.net/npm/vega-lib?noext\",\n",
       "      \"vega-lite\": \"https://cdn.jsdelivr.net/npm/vega-lite@5.8.0?noext\",\n",
       "      \"vega-embed\": \"https://cdn.jsdelivr.net/npm/vega-embed@6?noext\",\n",
       "    };\n",
       "\n",
       "    function maybeLoadScript(lib, version) {\n",
       "      var key = `${lib.replace(\"-\", \"\")}_version`;\n",
       "      return (VEGA_DEBUG[key] == version) ?\n",
       "        Promise.resolve(paths[lib]) :\n",
       "        new Promise(function(resolve, reject) {\n",
       "          var s = document.createElement('script');\n",
       "          document.getElementsByTagName(\"head\")[0].appendChild(s);\n",
       "          s.async = true;\n",
       "          s.onload = () => {\n",
       "            VEGA_DEBUG[key] = version;\n",
       "            return resolve(paths[lib]);\n",
       "          };\n",
       "          s.onerror = () => reject(`Error loading script: ${paths[lib]}`);\n",
       "          s.src = paths[lib];\n",
       "        });\n",
       "    }\n",
       "\n",
       "    function showError(err) {\n",
       "      outputDiv.innerHTML = `<div class=\"error\" style=\"color:red;\">${err}</div>`;\n",
       "      throw err;\n",
       "    }\n",
       "\n",
       "    function displayChart(vegaEmbed) {\n",
       "      vegaEmbed(outputDiv, spec, embedOpt)\n",
       "        .catch(err => showError(`Javascript Error: ${err.message}<br>This usually means there's a typo in your chart specification. See the javascript console for the full traceback.`));\n",
       "    }\n",
       "\n",
       "    if(typeof define === \"function\" && define.amd) {\n",
       "      requirejs.config({paths});\n",
       "      require([\"vega-embed\"], displayChart, err => showError(`Error loading script: ${err.message}`));\n",
       "    } else {\n",
       "      maybeLoadScript(\"vega\", \"5\")\n",
       "        .then(() => maybeLoadScript(\"vega-lite\", \"5.8.0\"))\n",
       "        .then(() => maybeLoadScript(\"vega-embed\", \"6\"))\n",
       "        .catch(showError)\n",
       "        .then(() => displayChart(vegaEmbed));\n",
       "    }\n",
       "  })({\"config\": {\"view\": {\"continuousWidth\": 300, \"continuousHeight\": 300}}, \"data\": {\"name\": \"data-b09f7e0bc8ae0c4c2b920e7ff1603aed\"}, \"mark\": {\"type\": \"point\"}, \"encoding\": {\"color\": {\"field\": \"id\", \"scale\": {\"scheme\": \"dark2\"}, \"type\": \"ordinal\"}, \"x\": {\"field\": \"tick\", \"type\": \"quantitative\"}, \"y\": {\"field\": \"pos\", \"type\": \"nominal\"}}, \"params\": [{\"name\": \"param_2\", \"select\": {\"type\": \"interval\", \"encodings\": [\"x\", \"y\"]}, \"bind\": \"scales\"}], \"$schema\": \"https://vega.github.io/schema/vega-lite/v5.8.0.json\", \"datasets\": {\"data-b09f7e0bc8ae0c4c2b920e7ff1603aed\": [{\"behavior\": \"Exhaustive\", \"cargo\": null, \"coins\": 1000.0, \"id\": \"a8\", \"pos\": \"la\", \"tick\": 0}, {\"behavior\": \"Exhaustive\", \"cargo\": null, \"coins\": 1000.0, \"id\": \"a7\", \"pos\": \"la\", \"tick\": 0}, {\"behavior\": \"Exhaustive\", \"cargo\": null, \"coins\": 1000.0, \"id\": \"a4\", \"pos\": \"la\", \"tick\": 0}, {\"behavior\": \"Exhaustive\", \"cargo\": null, \"coins\": 1000.0, \"id\": \"a6\", \"pos\": \"la\", \"tick\": 0}, {\"behavior\": \"Exhaustive\", \"cargo\": null, \"coins\": 1000.0, \"id\": \"a9\", \"pos\": \"la\", \"tick\": 0}, {\"behavior\": \"Exhaustive\", \"cargo\": null, \"coins\": 1000.0, \"id\": \"a5\", \"pos\": \"la\", \"tick\": 0}, {\"behavior\": \"Exhaustive\", \"cargo\": null, \"coins\": 1000.0, \"id\": \"a3\", \"pos\": \"la\", \"tick\": 0}, {\"behavior\": \"Exhaustive\", \"cargo\": null, \"coins\": 1000.0, \"id\": \"a10\", \"pos\": \"la\", \"tick\": 0}, {\"behavior\": \"Exhaustive\", \"cargo\": null, \"coins\": 1000.0, \"id\": \"a2\", \"pos\": \"la\", \"tick\": 0}, {\"behavior\": \"Exhaustive\", \"cargo\": null, \"coins\": 1000.0, \"id\": \"a1\", \"pos\": \"la\", \"tick\": 0}, {\"behavior\": \"Exhaustive\", \"cargo\": null, \"coins\": 999.0, \"id\": \"a8\", \"pos\": \"m1\", \"tick\": 1}, {\"behavior\": \"Exhaustive\", \"cargo\": null, \"coins\": 999.0, \"id\": \"a7\", \"pos\": \"m1\", \"tick\": 1}, {\"behavior\": \"Exhaustive\", \"cargo\": null, \"coins\": 999.0, \"id\": \"a4\", \"pos\": \"m1\", \"tick\": 1}, {\"behavior\": \"Exhaustive\", \"cargo\": null, \"coins\": 999.0, \"id\": \"a6\", \"pos\": \"m1\", \"tick\": 1}, {\"behavior\": \"Exhaustive\", \"cargo\": null, \"coins\": 999.0, \"id\": \"a9\", \"pos\": \"m1\", \"tick\": 1}, {\"behavior\": \"Exhaustive\", \"cargo\": null, \"coins\": 999.0, \"id\": \"a5\", \"pos\": \"m1\", \"tick\": 1}, {\"behavior\": \"Exhaustive\", \"cargo\": null, \"coins\": 999.0, \"id\": \"a3\", \"pos\": \"m1\", \"tick\": 1}, {\"behavior\": \"Exhaustive\", \"cargo\": null, \"coins\": 999.0, \"id\": \"a10\", \"pos\": \"m1\", \"tick\": 1}, {\"behavior\": \"Exhaustive\", \"cargo\": null, \"coins\": 999.0, \"id\": \"a2\", \"pos\": \"m1\", \"tick\": 1}, {\"behavior\": \"Exhaustive\", \"cargo\": null, \"coins\": 999.0, \"id\": \"a1\", \"pos\": \"m1\", \"tick\": 1}, {\"behavior\": \"Exhaustive\", \"cargo\": null, \"coins\": 998.0, \"id\": \"a8\", \"pos\": \"m2\", \"tick\": 2}, {\"behavior\": \"Exhaustive\", \"cargo\": null, \"coins\": 998.0, \"id\": \"a7\", \"pos\": \"m2\", \"tick\": 2}, {\"behavior\": \"Exhaustive\", \"cargo\": null, \"coins\": 998.0, \"id\": \"a4\", \"pos\": \"m2\", \"tick\": 2}, {\"behavior\": \"Exhaustive\", \"cargo\": null, \"coins\": 998.0, \"id\": \"a6\", \"pos\": \"m2\", \"tick\": 2}, {\"behavior\": \"Exhaustive\", \"cargo\": null, \"coins\": 998.0, \"id\": \"a9\", \"pos\": \"m2\", \"tick\": 2}, {\"behavior\": \"Exhaustive\", \"cargo\": null, \"coins\": 998.0, \"id\": \"a5\", \"pos\": \"m2\", \"tick\": 2}, {\"behavior\": \"Exhaustive\", \"cargo\": null, \"coins\": 998.0, \"id\": \"a3\", \"pos\": \"m2\", \"tick\": 2}, {\"behavior\": \"Exhaustive\", \"cargo\": null, \"coins\": 998.0, \"id\": \"a10\", \"pos\": \"m2\", \"tick\": 2}, {\"behavior\": \"Exhaustive\", \"cargo\": null, \"coins\": 998.0, \"id\": \"a2\", \"pos\": \"m2\", \"tick\": 2}, {\"behavior\": \"Exhaustive\", \"cargo\": null, \"coins\": 998.0, \"id\": \"a1\", \"pos\": \"m2\", \"tick\": 2}, {\"behavior\": \"Exhaustive\", \"cargo\": \"Wheat\", \"coins\": 896.94994994995, \"id\": \"a8\", \"pos\": \"m3\", \"tick\": 3}, {\"behavior\": \"Exhaustive\", \"cargo\": \"Wheat\", \"coins\": 896.8497495491483, \"id\": \"a7\", \"pos\": \"m3\", \"tick\": 3}, {\"behavior\": \"Exhaustive\", \"cargo\": \"Wheat\", \"coins\": 896.7493482451362, \"id\": \"a4\", \"pos\": \"m3\", \"tick\": 3}, {\"behavior\": \"Exhaustive\", \"cargo\": \"Wheat\", \"coins\": 896.6487454330864, \"id\": \"a6\", \"pos\": \"m3\", \"tick\": 3}, {\"behavior\": \"Exhaustive\", \"cargo\": \"Wheat\", \"coins\": 896.5479405057415, \"id\": \"a9\", \"pos\": \"m3\", \"tick\": 3}, {\"behavior\": \"Exhaustive\", \"cargo\": \"Wheat\", \"coins\": 896.4469328534018, \"id\": \"a5\", \"pos\": \"m3\", \"tick\": 3}, {\"behavior\": \"Exhaustive\", \"cargo\": \"Wheat\", \"coins\": 896.3457218639126, \"id\": \"a3\", \"pos\": \"m3\", \"tick\": 3}, {\"behavior\": \"Exhaustive\", \"cargo\": \"Wheat\", \"coins\": 896.2443069226521, \"id\": \"a10\", \"pos\": \"m3\", \"tick\": 3}, {\"behavior\": \"Exhaustive\", \"cargo\": \"Wheat\", \"coins\": 896.1426874125191, \"id\": \"a2\", \"pos\": \"m3\", \"tick\": 3}, {\"behavior\": \"Exhaustive\", \"cargo\": \"Wheat\", \"coins\": 896.0408627139202, \"id\": \"a1\", \"pos\": \"m3\", \"tick\": 3}, {\"behavior\": \"Exhaustive\", \"cargo\": null, \"coins\": 995.8999999, \"id\": \"a8\", \"pos\": \"m3\", \"tick\": 4}, {\"behavior\": \"Exhaustive\", \"cargo\": null, \"coins\": 995.6999990999967, \"id\": \"a7\", \"pos\": \"m3\", \"tick\": 4}, {\"behavior\": \"Exhaustive\", \"cargo\": null, \"coins\": 995.4999964999724, \"id\": \"a4\", \"pos\": \"m3\", \"tick\": 4}, {\"behavior\": \"Exhaustive\", \"cargo\": null, \"coins\": 995.2999908998734, \"id\": \"a6\", \"pos\": \"m3\", \"tick\": 4}, {\"behavior\": \"Exhaustive\", \"cargo\": null, \"coins\": 995.0999810995851, \"id\": \"a9\", \"pos\": \"m3\", \"tick\": 4}, {\"behavior\": \"Exhaustive\", \"cargo\": null, \"coins\": 994.8999658989098, \"id\": \"a5\", \"pos\": \"m3\", \"tick\": 4}, {\"behavior\": \"Exhaustive\", \"cargo\": null, \"coins\": 994.6999440975416, \"id\": \"a3\", \"pos\": \"m3\", \"tick\": 4}, {\"behavior\": \"Exhaustive\", \"cargo\": null, \"coins\": 994.4999144950422, \"id\": \"a10\", \"pos\": \"m3\", \"tick\": 4}, {\"behavior\": \"Exhaustive\", \"cargo\": null, \"coins\": 994.2998758908176, \"id\": \"a2\", \"pos\": \"m3\", \"tick\": 4}, {\"behavior\": \"Exhaustive\", \"cargo\": null, \"coins\": 994.0998270840936, \"id\": \"a1\", \"pos\": \"m3\", \"tick\": 4}, {\"behavior\": \"Exhaustive\", \"cargo\": \"Wheat\", \"coins\": 895.8410355298266, \"id\": \"a8\", \"pos\": \"m2\", \"tick\": 5}, {\"behavior\": \"Exhaustive\", \"cargo\": \"Wheat\", \"coins\": 895.5428106216982, \"id\": \"a7\", \"pos\": \"m2\", \"tick\": 5}, {\"behavior\": \"Exhaustive\", \"cargo\": \"Wheat\", \"coins\": 895.2443889275823, \"id\": \"a4\", \"pos\": \"m2\", \"tick\": 5}, {\"behavior\": \"Exhaustive\", \"cargo\": \"Wheat\", \"coins\": 894.9457686662444, \"id\": \"a6\", \"pos\": \"m2\", \"tick\": 5}, {\"behavior\": \"Exhaustive\", \"cargo\": \"Wheat\", \"coins\": 894.646948054077, \"id\": \"a9\", \"pos\": \"m2\", \"tick\": 5}, {\"behavior\": \"Exhaustive\", \"cargo\": \"Wheat\", \"coins\": 894.3479253050663, \"id\": \"a5\", \"pos\": \"m2\", \"tick\": 5}, {\"behavior\": \"Exhaustive\", \"cargo\": \"Wheat\", \"coins\": 894.0486986307546, \"id\": \"a3\", \"pos\": \"m2\", \"tick\": 5}, {\"behavior\": \"Exhaustive\", \"cargo\": \"Wheat\", \"coins\": 893.7492662402059, \"id\": \"a10\", \"pos\": \"m2\", \"tick\": 5}, {\"behavior\": \"Exhaustive\", \"cargo\": \"Wheat\", \"coins\": 893.4496263399692, \"id\": \"a2\", \"pos\": \"m2\", \"tick\": 5}, {\"behavior\": \"Exhaustive\", \"cargo\": \"Wheat\", \"coins\": 893.1497771340437, \"id\": \"a1\", \"pos\": \"m2\", \"tick\": 5}, {\"behavior\": \"Exhaustive\", \"cargo\": null, \"coins\": 995.8001728159064, \"id\": \"a8\", \"pos\": \"m2\", \"tick\": 6}, {\"behavior\": \"Exhaustive\", \"cargo\": null, \"coins\": 995.4001232091791, \"id\": \"a7\", \"pos\": \"m2\", \"tick\": 6}, {\"behavior\": \"Exhaustive\", \"cargo\": null, \"coins\": 995.0000820049303, \"id\": \"a4\", \"pos\": \"m2\", \"tick\": 6}, {\"behavior\": \"Exhaustive\", \"cargo\": null, \"coins\": 994.6000468023318, \"id\": \"a6\", \"pos\": \"m2\", \"tick\": 6}, {\"behavior\": \"Exhaustive\", \"cargo\": null, \"coins\": 994.2000152006752, \"id\": \"a9\", \"pos\": \"m2\", \"tick\": 6}, {\"behavior\": \"Exhaustive\", \"cargo\": null, \"coins\": 993.7999847993246, \"id\": \"a5\", \"pos\": \"m2\", \"tick\": 6}, {\"behavior\": \"Exhaustive\", \"cargo\": null, \"coins\": 993.3999531976682, \"id\": \"a3\", \"pos\": \"m2\", \"tick\": 6}, {\"behavior\": \"Exhaustive\", \"cargo\": null, \"coins\": 992.9999179950696, \"id\": \"a10\", \"pos\": \"m2\", \"tick\": 6}, {\"behavior\": \"Exhaustive\", \"cargo\": null, \"coins\": 992.5998767908209, \"id\": \"a2\", \"pos\": \"m2\", \"tick\": 6}, {\"behavior\": \"Exhaustive\", \"cargo\": null, \"coins\": 992.1998271840937, \"id\": \"a1\", \"pos\": \"m2\", \"tick\": 6}, {\"behavior\": \"Exhaustive\", \"cargo\": \"Wheat\", \"coins\": 894.7501227658563, \"id\": \"a8\", \"pos\": \"m3\", \"tick\": 7}, {\"behavior\": \"Exhaustive\", \"cargo\": \"Wheat\", \"coins\": 894.2498727583275, \"id\": \"a7\", \"pos\": \"m3\", \"tick\": 7}, {\"behavior\": \"Exhaustive\", \"cargo\": \"Wheat\", \"coins\": 893.7494302500666, \"id\": \"a4\", \"pos\": \"m3\", \"tick\": 7}, {\"behavior\": \"Exhaustive\", \"cargo\": null, \"coins\": 993.6000468023318, \"id\": \"a6\", \"pos\": \"m3\", \"tick\": 7}, {\"behavior\": \"Exhaustive\", \"cargo\": \"Wheat\", \"coins\": 892.8487606337617, \"id\": \"a9\", \"pos\": \"m3\", \"tick\": 7}, {\"behavior\": \"Exhaustive\", \"cargo\": \"Wheat\", \"coins\": 892.3479253050662, \"id\": \"a5\", \"pos\": \"m3\", \"tick\": 7}, {\"behavior\": \"Exhaustive\", \"cargo\": \"Wheat\", \"coins\": 891.84688605107, \"id\": \"a3\", \"pos\": \"m3\", \"tick\": 7}, {\"behavior\": \"Exhaustive\", \"cargo\": \"Wheat\", \"coins\": 891.3456398589822, \"id\": \"a10\", \"pos\": \"m3\", \"tick\": 7}, {\"behavior\": \"Exhaustive\", \"cargo\": null, \"coins\": 991.5998767908209, \"id\": \"a2\", \"pos\": \"m3\", \"tick\": 7}, {\"behavior\": \"Exhaustive\", \"cargo\": \"Wheat\", \"coins\": 890.4441341067458, \"id\": \"a1\", \"pos\": \"m3\", \"tick\": 7}, {\"behavior\": \"Exhaustive\", \"cargo\": null, \"coins\": 993.7001727159063, \"id\": \"a8\", \"pos\": \"m3\", \"tick\": 8}, {\"behavior\": \"Exhaustive\", \"cargo\": null, \"coins\": 993.1001223091758, \"id\": \"a7\", \"pos\": \"m3\", \"tick\": 8}, {\"behavior\": \"Exhaustive\", \"cargo\": null, \"coins\": 992.5000785049028, \"id\": \"a4\", \"pos\": \"m3\", \"tick\": 8}, {\"behavior\": \"Exhaustive\", \"cargo\": null, \"coins\": 992.6000468023318, \"id\": \"a6\", \"pos\": \"ra\", \"tick\": 8}, {\"behavior\": \"Exhaustive\", \"cargo\": null, \"coins\": 991.5000061005486, \"id\": \"a9\", \"pos\": \"m3\", \"tick\": 8}, {\"behavior\": \"Exhaustive\", \"cargo\": null, \"coins\": 990.8999658989097, \"id\": \"a5\", \"pos\": \"m3\", \"tick\": 8}, {\"behavior\": \"Exhaustive\", \"cargo\": null, \"coins\": 990.299919096578, \"id\": \"a3\", \"pos\": \"m3\", \"tick\": 8}, {\"behavior\": \"Exhaustive\", \"cargo\": null, \"coins\": 989.6998620926112, \"id\": \"a10\", \"pos\": \"m3\", \"tick\": 8}, {\"behavior\": \"Exhaustive\", \"cargo\": null, \"coins\": 990.5998767908209, \"id\": \"a2\", \"pos\": \"ra\", \"tick\": 8}, {\"behavior\": \"Exhaustive\", \"cargo\": null, \"coins\": 988.6997416791359, \"id\": \"a1\", \"pos\": \"m3\", \"tick\": 8}, {\"behavior\": \"Exhaustive\", \"cargo\": \"Wheat\", \"coins\": 893.4445651435162, \"id\": \"a8\", \"pos\": \"m2\", \"tick\": 9}, {\"behavior\": \"Exhaustive\", \"cargo\": \"Wheat\", \"coins\": 892.7459000755468, \"id\": \"a7\", \"pos\": \"m2\", \"tick\": 9}, {\"behavior\": \"Exhaustive\", \"cargo\": \"Wheat\", \"coins\": 892.0470454593948, \"id\": \"a4\", \"pos\": \"m2\", \"tick\": 9}, {\"behavior\": \"Exhaustive\", \"cargo\": \"Wheat\", \"coins\": 893.512725514641, \"id\": \"a6\", \"pos\": \"m3\", \"tick\": 9}, {\"behavior\": \"Exhaustive\", \"cargo\": \"Wheat\", \"coins\": 890.947965506705, \"id\": \"a9\", \"pos\": \"m2\", \"tick\": 9}, {\"behavior\": \"Exhaustive\", \"cargo\": \"Wheat\", \"coins\": 890.2487204321228, \"id\": \"a5\", \"pos\": \"m2\", \"tick\": 9}, {\"behavior\": \"Exhaustive\", \"cargo\": \"Wheat\", \"coins\": 889.5492708417418, \"id\": \"a3\", \"pos\": \"m2\", \"tick\": 9}, {\"behavior\": \"Exhaustive\", \"cargo\": \"Wheat\", \"coins\": 888.8496125417628, \"id\": \"a10\", \"pos\": \"m2\", \"tick\": 9}, {\"behavior\": \"Exhaustive\", \"cargo\": \"Wheat\", \"coins\": 891.4162497902753, \"id\": \"a2\", \"pos\": \"m3\", \"tick\": 9}, {\"behavior\": \"Exhaustive\", \"cargo\": \"Wheat\", \"coins\": 887.749691729086, \"id\": \"a1\", \"pos\": \"m2\", \"tick\": 9}, {\"behavior\": \"Exhaustive\", \"cargo\": null, \"coins\": 993.2002582208642, \"id\": \"a8\", \"pos\": \"m2\", \"tick\": 10}, {\"behavior\": \"Exhaustive\", \"cargo\": null, \"coins\": 992.4001782116343, \"id\": \"a7\", \"pos\": \"m2\", \"tick\": 10}, {\"behavior\": \"Exhaustive\", \"cargo\": null, \"coins\": 991.600112605993, \"id\": \"a4\", \"pos\": \"m2\", \"tick\": 10}, {\"behavior\": \"Exhaustive\", \"cargo\": null, \"coins\": 992.462775464691, \"id\": \"a6\", \"pos\": \"m3\", \"tick\": 10}, {\"behavior\": \"Exhaustive\", \"cargo\": null, \"coins\": 990.4000250009635, \"id\": \"a9\", \"pos\": \"m2\", \"tick\": 10}, {\"behavior\": \"Exhaustive\", \"cargo\": null, \"coins\": 989.5999749990364, \"id\": \"a5\", \"pos\": \"m2\", \"tick\": 10}, {\"behavior\": \"Exhaustive\", \"cargo\": null, \"coins\": 988.7999225966055, \"id\": \"a3\", \"pos\": \"m2\", \"tick\": 10}, {\"behavior\": \"Exhaustive\", \"cargo\": null, \"coins\": 987.9998629926145, \"id\": \"a10\", \"pos\": \"m2\", \"tick\": 10}, {\"behavior\": \"Exhaustive\", \"cargo\": null, \"coins\": 990.2664993411237, \"id\": \"a2\", \"pos\": \"m3\", \"tick\": 10}, {\"behavior\": \"Exhaustive\", \"cargo\": null, \"coins\": 986.799741779136, \"id\": \"a1\", \"pos\": \"m2\", \"tick\": 10}]}}, {\"mode\": \"vega-lite\"});\n",
       "</script>"
      ],
      "text/plain": [
       "alt.Chart(...)"
      ]
     },
     "execution_count": 9,
     "metadata": {},
     "output_type": "execute_result"
    }
   ],
   "source": [
    "analysis.plot_agent_locations(agents)"
   ]
  },
  {
   "cell_type": "code",
   "execution_count": 10,
   "metadata": {},
   "outputs": [
    {
     "data": {
      "text/html": [
       "\n",
       "<style>\n",
       "  #altair-viz-160f212fe59444178603702dc4f7f9df.vega-embed {\n",
       "    width: 100%;\n",
       "    display: flex;\n",
       "  }\n",
       "\n",
       "  #altair-viz-160f212fe59444178603702dc4f7f9df.vega-embed details,\n",
       "  #altair-viz-160f212fe59444178603702dc4f7f9df.vega-embed details summary {\n",
       "    position: relative;\n",
       "  }\n",
       "</style>\n",
       "<div id=\"altair-viz-160f212fe59444178603702dc4f7f9df\"></div>\n",
       "<script type=\"text/javascript\">\n",
       "  var VEGA_DEBUG = (typeof VEGA_DEBUG == \"undefined\") ? {} : VEGA_DEBUG;\n",
       "  (function(spec, embedOpt){\n",
       "    let outputDiv = document.currentScript.previousElementSibling;\n",
       "    if (outputDiv.id !== \"altair-viz-160f212fe59444178603702dc4f7f9df\") {\n",
       "      outputDiv = document.getElementById(\"altair-viz-160f212fe59444178603702dc4f7f9df\");\n",
       "    }\n",
       "    const paths = {\n",
       "      \"vega\": \"https://cdn.jsdelivr.net/npm/vega@5?noext\",\n",
       "      \"vega-lib\": \"https://cdn.jsdelivr.net/npm/vega-lib?noext\",\n",
       "      \"vega-lite\": \"https://cdn.jsdelivr.net/npm/vega-lite@5.8.0?noext\",\n",
       "      \"vega-embed\": \"https://cdn.jsdelivr.net/npm/vega-embed@6?noext\",\n",
       "    };\n",
       "\n",
       "    function maybeLoadScript(lib, version) {\n",
       "      var key = `${lib.replace(\"-\", \"\")}_version`;\n",
       "      return (VEGA_DEBUG[key] == version) ?\n",
       "        Promise.resolve(paths[lib]) :\n",
       "        new Promise(function(resolve, reject) {\n",
       "          var s = document.createElement('script');\n",
       "          document.getElementsByTagName(\"head\")[0].appendChild(s);\n",
       "          s.async = true;\n",
       "          s.onload = () => {\n",
       "            VEGA_DEBUG[key] = version;\n",
       "            return resolve(paths[lib]);\n",
       "          };\n",
       "          s.onerror = () => reject(`Error loading script: ${paths[lib]}`);\n",
       "          s.src = paths[lib];\n",
       "        });\n",
       "    }\n",
       "\n",
       "    function showError(err) {\n",
       "      outputDiv.innerHTML = `<div class=\"error\" style=\"color:red;\">${err}</div>`;\n",
       "      throw err;\n",
       "    }\n",
       "\n",
       "    function displayChart(vegaEmbed) {\n",
       "      vegaEmbed(outputDiv, spec, embedOpt)\n",
       "        .catch(err => showError(`Javascript Error: ${err.message}<br>This usually means there's a typo in your chart specification. See the javascript console for the full traceback.`));\n",
       "    }\n",
       "\n",
       "    if(typeof define === \"function\" && define.amd) {\n",
       "      requirejs.config({paths});\n",
       "      require([\"vega-embed\"], displayChart, err => showError(`Error loading script: ${err.message}`));\n",
       "    } else {\n",
       "      maybeLoadScript(\"vega\", \"5\")\n",
       "        .then(() => maybeLoadScript(\"vega-lite\", \"5.8.0\"))\n",
       "        .then(() => maybeLoadScript(\"vega-embed\", \"6\"))\n",
       "        .catch(showError)\n",
       "        .then(() => displayChart(vegaEmbed));\n",
       "    }\n",
       "  })({\"config\": {\"view\": {\"continuousWidth\": 300, \"continuousHeight\": 300}}, \"layer\": [{\"mark\": {\"type\": \"point\"}, \"encoding\": {\"color\": {\"field\": \"port\", \"scale\": {\"scheme\": \"dark2\"}, \"type\": \"ordinal\"}, \"x\": {\"field\": \"tick\", \"type\": \"quantitative\"}, \"y\": {\"field\": \"price\", \"scale\": {\"zero\": false}, \"type\": \"quantitative\"}}, \"name\": \"view_2\"}, {\"mark\": {\"type\": \"line\", \"size\": 4}, \"encoding\": {\"color\": {\"field\": \"port\", \"scale\": {\"scheme\": \"dark2\"}, \"type\": \"ordinal\"}, \"x\": {\"field\": \"tick\", \"type\": \"quantitative\"}, \"y\": {\"field\": \"price\", \"scale\": {\"zero\": false}, \"type\": \"quantitative\"}}, \"transform\": [{\"loess\": \"price\", \"on\": \"tick\", \"bandwidth\": 0.1, \"groupby\": [\"port\"]}]}], \"data\": {\"name\": \"data-64d9be2526006bb1f5aee59d621f7dbf\"}, \"params\": [{\"name\": \"param_3\", \"select\": {\"type\": \"interval\", \"encodings\": [\"x\", \"y\"]}, \"bind\": \"scales\", \"views\": [\"view_2\"]}], \"$schema\": \"https://vega.github.io/schema/vega-lite/v5.8.0.json\", \"datasets\": {\"data-64d9be2526006bb1f5aee59d621f7dbf\": [{\"consumption\": 100.0, \"good\": \"Wheat\", \"port\": \"ra\", \"price\": 98.03921568627452, \"production\": 100.0, \"supply\": 1020.0, \"tick\": 0}, {\"consumption\": 100.0, \"good\": \"Wheat\", \"port\": \"m1\", \"price\": 102.04081632653062, \"production\": 100.0, \"supply\": 980.0, \"tick\": 0}, {\"consumption\": 100.0, \"good\": \"Wheat\", \"port\": \"m2\", \"price\": 100.0, \"production\": 100.0, \"supply\": 1000.0, \"tick\": 0}, {\"consumption\": 100.0, \"good\": \"Wheat\", \"port\": \"la\", \"price\": 102.04081632653062, \"production\": 100.0, \"supply\": 980.0, \"tick\": 0}, {\"consumption\": 100.0, \"good\": \"Wheat\", \"port\": \"lb\", \"price\": 102.04081632653062, \"production\": 100.0, \"supply\": 980.0, \"tick\": 0}, {\"consumption\": 100.0, \"good\": \"Wheat\", \"port\": \"m3\", \"price\": 100.0, \"production\": 100.0, \"supply\": 1000.0, \"tick\": 0}, {\"consumption\": 100.0, \"good\": \"Wheat\", \"port\": \"ra\", \"price\": 98.03921568627452, \"production\": 100.0, \"supply\": 1020.0, \"tick\": 1}, {\"consumption\": 100.0, \"good\": \"Wheat\", \"port\": \"m1\", \"price\": 102.04081632653062, \"production\": 100.0, \"supply\": 980.0, \"tick\": 1}, {\"consumption\": 100.0, \"good\": \"Wheat\", \"port\": \"m2\", \"price\": 100.0, \"production\": 100.0, \"supply\": 1000.0, \"tick\": 1}, {\"consumption\": 100.0, \"good\": \"Wheat\", \"port\": \"la\", \"price\": 102.04081632653062, \"production\": 100.0, \"supply\": 980.0, \"tick\": 1}, {\"consumption\": 100.0, \"good\": \"Wheat\", \"port\": \"m3\", \"price\": 100.0, \"production\": 100.0, \"supply\": 1000.0, \"tick\": 1}, {\"consumption\": 100.0, \"good\": \"Wheat\", \"port\": \"lb\", \"price\": 102.04081632653062, \"production\": 100.0, \"supply\": 980.0, \"tick\": 1}, {\"consumption\": 100.0, \"good\": \"Wheat\", \"port\": \"m1\", \"price\": 102.04081632653062, \"production\": 100.0, \"supply\": 980.0, \"tick\": 2}, {\"consumption\": 100.0, \"good\": \"Wheat\", \"port\": \"la\", \"price\": 102.04081632653062, \"production\": 100.0, \"supply\": 980.0, \"tick\": 2}, {\"consumption\": 100.0, \"good\": \"Wheat\", \"port\": \"m3\", \"price\": 100.0, \"production\": 100.0, \"supply\": 1000.0, \"tick\": 2}, {\"consumption\": 100.0, \"good\": \"Wheat\", \"port\": \"ra\", \"price\": 98.03921568627452, \"production\": 100.0, \"supply\": 1020.0, \"tick\": 2}, {\"consumption\": 100.0, \"good\": \"Wheat\", \"port\": \"lb\", \"price\": 102.04081632653062, \"production\": 100.0, \"supply\": 980.0, \"tick\": 2}, {\"consumption\": 100.0, \"good\": \"Wheat\", \"port\": \"m2\", \"price\": 100.0, \"production\": 100.0, \"supply\": 1000.0, \"tick\": 2}, {\"consumption\": 100.0, \"good\": \"Wheat\", \"port\": \"ra\", \"price\": 98.03921568627452, \"production\": 100.0, \"supply\": 1020.0, \"tick\": 3}, {\"consumption\": 100.0, \"good\": \"Wheat\", \"port\": \"lb\", \"price\": 102.04081632653062, \"production\": 100.0, \"supply\": 980.0, \"tick\": 3}, {\"consumption\": 100.0, \"good\": \"Wheat\", \"port\": \"m3\", \"price\": 100.0, \"production\": 100.0, \"supply\": 1000.0, \"tick\": 3}, {\"consumption\": 100.0, \"good\": \"Wheat\", \"port\": \"m1\", \"price\": 102.04081632653062, \"production\": 100.0, \"supply\": 980.0, \"tick\": 3}, {\"consumption\": 100.0, \"good\": \"Wheat\", \"port\": \"la\", \"price\": 102.04081632653062, \"production\": 100.0, \"supply\": 980.0, \"tick\": 3}, {\"consumption\": 100.0, \"good\": \"Wheat\", \"port\": \"m2\", \"price\": 101.01010101010101, \"production\": 100.0, \"supply\": 990.0, \"tick\": 3}, {\"consumption\": 100.0, \"good\": \"Wheat\", \"port\": \"lb\", \"price\": 102.04081632653062, \"production\": 100.0, \"supply\": 980.0, \"tick\": 4}, {\"consumption\": 100.0, \"good\": \"Wheat\", \"port\": \"ra\", \"price\": 98.03921568627452, \"production\": 100.0, \"supply\": 1020.0, \"tick\": 4}, {\"consumption\": 100.0, \"good\": \"Wheat\", \"port\": \"m2\", \"price\": 101.01010101010101, \"production\": 100.0, \"supply\": 990.0, \"tick\": 4}, {\"consumption\": 100.0, \"good\": \"Wheat\", \"port\": \"la\", \"price\": 102.04081632653062, \"production\": 100.0, \"supply\": 980.0, \"tick\": 4}, {\"consumption\": 100.0, \"good\": \"Wheat\", \"port\": \"m1\", \"price\": 102.04081632653062, \"production\": 100.0, \"supply\": 980.0, \"tick\": 4}, {\"consumption\": 100.0, \"good\": \"Wheat\", \"port\": \"m3\", \"price\": 99.00990099009901, \"production\": 100.0, \"supply\": 1010.0, \"tick\": 4}, {\"consumption\": 100.0, \"good\": \"Wheat\", \"port\": \"la\", \"price\": 102.04081632653062, \"production\": 100.0, \"supply\": 980.0, \"tick\": 5}, {\"consumption\": 100.0, \"good\": \"Wheat\", \"port\": \"m1\", \"price\": 102.04081632653062, \"production\": 100.0, \"supply\": 980.0, \"tick\": 5}, {\"consumption\": 100.0, \"good\": \"Wheat\", \"port\": \"ra\", \"price\": 98.03921568627452, \"production\": 100.0, \"supply\": 1020.0, \"tick\": 5}, {\"consumption\": 100.0, \"good\": \"Wheat\", \"port\": \"m2\", \"price\": 101.01010101010101, \"production\": 100.0, \"supply\": 990.0, \"tick\": 5}, {\"consumption\": 100.0, \"good\": \"Wheat\", \"port\": \"m3\", \"price\": 100.0, \"production\": 100.0, \"supply\": 1000.0, \"tick\": 5}, {\"consumption\": 100.0, \"good\": \"Wheat\", \"port\": \"lb\", \"price\": 102.04081632653062, \"production\": 100.0, \"supply\": 980.0, \"tick\": 5}, {\"consumption\": 100.0, \"good\": \"Wheat\", \"port\": \"ra\", \"price\": 98.03921568627452, \"production\": 100.0, \"supply\": 1020.0, \"tick\": 6}, {\"consumption\": 100.0, \"good\": \"Wheat\", \"port\": \"m3\", \"price\": 100.0, \"production\": 100.0, \"supply\": 1000.0, \"tick\": 6}, {\"consumption\": 100.0, \"good\": \"Wheat\", \"port\": \"m1\", \"price\": 102.04081632653062, \"production\": 100.0, \"supply\": 980.0, \"tick\": 6}, {\"consumption\": 100.0, \"good\": \"Wheat\", \"port\": \"la\", \"price\": 102.04081632653062, \"production\": 100.0, \"supply\": 980.0, \"tick\": 6}, {\"consumption\": 100.0, \"good\": \"Wheat\", \"port\": \"lb\", \"price\": 102.04081632653062, \"production\": 100.0, \"supply\": 980.0, \"tick\": 6}, {\"consumption\": 100.0, \"good\": \"Wheat\", \"port\": \"m2\", \"price\": 100.0, \"production\": 100.0, \"supply\": 1000.0, \"tick\": 6}, {\"consumption\": 100.0, \"good\": \"Wheat\", \"port\": \"m3\", \"price\": 100.0, \"production\": 100.0, \"supply\": 1000.0, \"tick\": 7}, {\"consumption\": 100.0, \"good\": \"Wheat\", \"port\": \"la\", \"price\": 102.04081632653062, \"production\": 100.0, \"supply\": 980.0, \"tick\": 7}, {\"consumption\": 100.0, \"good\": \"Wheat\", \"port\": \"lb\", \"price\": 102.04081632653062, \"production\": 100.0, \"supply\": 980.0, \"tick\": 7}, {\"consumption\": 100.0, \"good\": \"Wheat\", \"port\": \"m1\", \"price\": 102.04081632653062, \"production\": 100.0, \"supply\": 980.0, \"tick\": 7}, {\"consumption\": 100.0, \"good\": \"Wheat\", \"port\": \"ra\", \"price\": 98.03921568627452, \"production\": 100.0, \"supply\": 1020.0, \"tick\": 7}, {\"consumption\": 100.0, \"good\": \"Wheat\", \"port\": \"m2\", \"price\": 100.80645161290323, \"production\": 100.0, \"supply\": 992.0, \"tick\": 7}, {\"consumption\": 100.0, \"good\": \"Wheat\", \"port\": \"m1\", \"price\": 102.04081632653062, \"production\": 100.0, \"supply\": 980.0, \"tick\": 8}, {\"consumption\": 100.0, \"good\": \"Wheat\", \"port\": \"lb\", \"price\": 102.04081632653062, \"production\": 100.0, \"supply\": 980.0, \"tick\": 8}, {\"consumption\": 100.0, \"good\": \"Wheat\", \"port\": \"m2\", \"price\": 100.80645161290323, \"production\": 100.0, \"supply\": 992.0, \"tick\": 8}, {\"consumption\": 100.0, \"good\": \"Wheat\", \"port\": \"ra\", \"price\": 98.03921568627452, \"production\": 100.0, \"supply\": 1020.0, \"tick\": 8}, {\"consumption\": 100.0, \"good\": \"Wheat\", \"port\": \"m3\", \"price\": 99.2063492063492, \"production\": 100.0, \"supply\": 1008.0, \"tick\": 8}, {\"consumption\": 100.0, \"good\": \"Wheat\", \"port\": \"la\", \"price\": 102.04081632653062, \"production\": 100.0, \"supply\": 980.0, \"tick\": 8}, {\"consumption\": 100.0, \"good\": \"Wheat\", \"port\": \"m3\", \"price\": 100.0, \"production\": 100.0, \"supply\": 1000.0, \"tick\": 9}, {\"consumption\": 100.0, \"good\": \"Wheat\", \"port\": \"m2\", \"price\": 100.80645161290323, \"production\": 100.0, \"supply\": 992.0, \"tick\": 9}, {\"consumption\": 100.0, \"good\": \"Wheat\", \"port\": \"lb\", \"price\": 102.04081632653062, \"production\": 100.0, \"supply\": 980.0, \"tick\": 9}, {\"consumption\": 100.0, \"good\": \"Wheat\", \"port\": \"la\", \"price\": 102.04081632653062, \"production\": 100.0, \"supply\": 980.0, \"tick\": 9}, {\"consumption\": 100.0, \"good\": \"Wheat\", \"port\": \"m1\", \"price\": 102.04081632653062, \"production\": 100.0, \"supply\": 980.0, \"tick\": 9}, {\"consumption\": 100.0, \"good\": \"Wheat\", \"port\": \"ra\", \"price\": 98.23182711198429, \"production\": 100.0, \"supply\": 1018.0, \"tick\": 9}, {\"consumption\": 100.0, \"good\": \"Wheat\", \"port\": \"la\", \"price\": 102.04081632653062, \"production\": 100.0, \"supply\": 980.0, \"tick\": 10}, {\"consumption\": 100.0, \"good\": \"Wheat\", \"port\": \"m3\", \"price\": 99.8003992015968, \"production\": 100.0, \"supply\": 1002.0, \"tick\": 10}, {\"consumption\": 100.0, \"good\": \"Wheat\", \"port\": \"m1\", \"price\": 102.04081632653062, \"production\": 100.0, \"supply\": 980.0, \"tick\": 10}, {\"consumption\": 100.0, \"good\": \"Wheat\", \"port\": \"lb\", \"price\": 102.04081632653062, \"production\": 100.0, \"supply\": 980.0, \"tick\": 10}, {\"consumption\": 100.0, \"good\": \"Wheat\", \"port\": \"ra\", \"price\": 98.23182711198429, \"production\": 100.0, \"supply\": 1018.0, \"tick\": 10}, {\"consumption\": 100.0, \"good\": \"Wheat\", \"port\": \"m2\", \"price\": 100.0, \"production\": 100.0, \"supply\": 1000.0, \"tick\": 10}]}}, {\"mode\": \"vega-lite\"});\n",
       "</script>"
      ],
      "text/plain": [
       "alt.LayerChart(...)"
      ]
     },
     "execution_count": 10,
     "metadata": {},
     "output_type": "execute_result"
    }
   ],
   "source": [
    "analysis.plot_prices_by_port(markets)"
   ]
  },
  {
   "cell_type": "code",
   "execution_count": 11,
   "metadata": {},
   "outputs": [
    {
     "data": {
      "text/html": [
       "\n",
       "<style>\n",
       "  #altair-viz-8e5b5c6f36a1467889aa6dc095be2635.vega-embed {\n",
       "    width: 100%;\n",
       "    display: flex;\n",
       "  }\n",
       "\n",
       "  #altair-viz-8e5b5c6f36a1467889aa6dc095be2635.vega-embed details,\n",
       "  #altair-viz-8e5b5c6f36a1467889aa6dc095be2635.vega-embed details summary {\n",
       "    position: relative;\n",
       "  }\n",
       "</style>\n",
       "<div id=\"altair-viz-8e5b5c6f36a1467889aa6dc095be2635\"></div>\n",
       "<script type=\"text/javascript\">\n",
       "  var VEGA_DEBUG = (typeof VEGA_DEBUG == \"undefined\") ? {} : VEGA_DEBUG;\n",
       "  (function(spec, embedOpt){\n",
       "    let outputDiv = document.currentScript.previousElementSibling;\n",
       "    if (outputDiv.id !== \"altair-viz-8e5b5c6f36a1467889aa6dc095be2635\") {\n",
       "      outputDiv = document.getElementById(\"altair-viz-8e5b5c6f36a1467889aa6dc095be2635\");\n",
       "    }\n",
       "    const paths = {\n",
       "      \"vega\": \"https://cdn.jsdelivr.net/npm/vega@5?noext\",\n",
       "      \"vega-lib\": \"https://cdn.jsdelivr.net/npm/vega-lib?noext\",\n",
       "      \"vega-lite\": \"https://cdn.jsdelivr.net/npm/vega-lite@5.8.0?noext\",\n",
       "      \"vega-embed\": \"https://cdn.jsdelivr.net/npm/vega-embed@6?noext\",\n",
       "    };\n",
       "\n",
       "    function maybeLoadScript(lib, version) {\n",
       "      var key = `${lib.replace(\"-\", \"\")}_version`;\n",
       "      return (VEGA_DEBUG[key] == version) ?\n",
       "        Promise.resolve(paths[lib]) :\n",
       "        new Promise(function(resolve, reject) {\n",
       "          var s = document.createElement('script');\n",
       "          document.getElementsByTagName(\"head\")[0].appendChild(s);\n",
       "          s.async = true;\n",
       "          s.onload = () => {\n",
       "            VEGA_DEBUG[key] = version;\n",
       "            return resolve(paths[lib]);\n",
       "          };\n",
       "          s.onerror = () => reject(`Error loading script: ${paths[lib]}`);\n",
       "          s.src = paths[lib];\n",
       "        });\n",
       "    }\n",
       "\n",
       "    function showError(err) {\n",
       "      outputDiv.innerHTML = `<div class=\"error\" style=\"color:red;\">${err}</div>`;\n",
       "      throw err;\n",
       "    }\n",
       "\n",
       "    function displayChart(vegaEmbed) {\n",
       "      vegaEmbed(outputDiv, spec, embedOpt)\n",
       "        .catch(err => showError(`Javascript Error: ${err.message}<br>This usually means there's a typo in your chart specification. See the javascript console for the full traceback.`));\n",
       "    }\n",
       "\n",
       "    if(typeof define === \"function\" && define.amd) {\n",
       "      requirejs.config({paths});\n",
       "      require([\"vega-embed\"], displayChart, err => showError(`Error loading script: ${err.message}`));\n",
       "    } else {\n",
       "      maybeLoadScript(\"vega\", \"5\")\n",
       "        .then(() => maybeLoadScript(\"vega-lite\", \"5.8.0\"))\n",
       "        .then(() => maybeLoadScript(\"vega-embed\", \"6\"))\n",
       "        .catch(showError)\n",
       "        .then(() => displayChart(vegaEmbed));\n",
       "    }\n",
       "  })({\"config\": {\"view\": {\"continuousWidth\": 300, \"continuousHeight\": 300}}, \"layer\": [{\"mark\": {\"type\": \"point\"}, \"encoding\": {\"color\": {\"field\": \"port\", \"scale\": {\"scheme\": \"dark2\"}, \"type\": \"ordinal\"}, \"x\": {\"field\": \"tick\", \"type\": \"quantitative\"}, \"y\": {\"field\": \"price\", \"scale\": {\"zero\": false}, \"type\": \"quantitative\"}}, \"name\": \"view_3\"}, {\"mark\": {\"type\": \"line\", \"size\": 4}, \"encoding\": {\"color\": {\"field\": \"port\", \"scale\": {\"scheme\": \"dark2\"}, \"type\": \"ordinal\"}, \"x\": {\"field\": \"tick\", \"type\": \"quantitative\"}, \"y\": {\"field\": \"price\", \"scale\": {\"zero\": false}, \"type\": \"quantitative\"}}, \"transform\": [{\"loess\": \"price\", \"on\": \"tick\", \"bandwidth\": 0.1, \"groupby\": [\"port\"]}]}], \"data\": {\"name\": \"data-269b11dc1860c06afddbb9033783291a\"}, \"params\": [{\"name\": \"param_4\", \"select\": {\"type\": \"interval\", \"encodings\": [\"x\", \"y\"]}, \"bind\": \"scales\", \"views\": [\"view_3\"]}], \"$schema\": \"https://vega.github.io/schema/vega-lite/v5.8.0.json\", \"datasets\": {\"data-269b11dc1860c06afddbb9033783291a\": [{\"consumption\": 100.0, \"good\": \"Wheat\", \"port\": \"lb\", \"price\": 102.04081632653062, \"production\": 100.0, \"supply\": 980.0, \"tick\": 0}, {\"consumption\": 100.0, \"good\": \"Wheat\", \"port\": \"ra\", \"price\": 98.03921568627452, \"production\": 100.0, \"supply\": 1020.0, \"tick\": 0}, {\"consumption\": 100.0, \"good\": \"Wheat\", \"port\": \"m1\", \"price\": 102.04081632653062, \"production\": 100.0, \"supply\": 980.0, \"tick\": 0}, {\"consumption\": 100.0, \"good\": \"Wheat\", \"port\": \"m2\", \"price\": 100.0, \"production\": 100.0, \"supply\": 1000.0, \"tick\": 0}, {\"consumption\": 100.0, \"good\": \"Wheat\", \"port\": \"m3\", \"price\": 100.0, \"production\": 100.0, \"supply\": 1000.0, \"tick\": 0}, {\"consumption\": 100.0, \"good\": \"Wheat\", \"port\": \"la\", \"price\": 102.04081632653062, \"production\": 100.0, \"supply\": 980.0, \"tick\": 0}, {\"consumption\": 100.0, \"good\": \"Wheat\", \"port\": \"lb\", \"price\": 102.04081632653062, \"production\": 100.0, \"supply\": 980.0, \"tick\": 1}, {\"consumption\": 100.0, \"good\": \"Wheat\", \"port\": \"m2\", \"price\": 100.0, \"production\": 100.0, \"supply\": 1000.0, \"tick\": 1}, {\"consumption\": 100.0, \"good\": \"Wheat\", \"port\": \"la\", \"price\": 102.04081632653062, \"production\": 100.0, \"supply\": 980.0, \"tick\": 1}, {\"consumption\": 100.0, \"good\": \"Wheat\", \"port\": \"m3\", \"price\": 100.0, \"production\": 100.0, \"supply\": 1000.0, \"tick\": 1}, {\"consumption\": 100.0, \"good\": \"Wheat\", \"port\": \"ra\", \"price\": 98.03921568627452, \"production\": 100.0, \"supply\": 1020.0, \"tick\": 1}, {\"consumption\": 100.0, \"good\": \"Wheat\", \"port\": \"m1\", \"price\": 102.04081632653062, \"production\": 100.0, \"supply\": 980.0, \"tick\": 1}, {\"consumption\": 100.0, \"good\": \"Wheat\", \"port\": \"m3\", \"price\": 100.0, \"production\": 100.0, \"supply\": 1000.0, \"tick\": 2}, {\"consumption\": 100.0, \"good\": \"Wheat\", \"port\": \"lb\", \"price\": 102.04081632653062, \"production\": 100.0, \"supply\": 980.0, \"tick\": 2}, {\"consumption\": 100.0, \"good\": \"Wheat\", \"port\": \"ra\", \"price\": 98.03921568627452, \"production\": 100.0, \"supply\": 1020.0, \"tick\": 2}, {\"consumption\": 100.0, \"good\": \"Wheat\", \"port\": \"m1\", \"price\": 102.04081632653062, \"production\": 100.0, \"supply\": 980.0, \"tick\": 2}, {\"consumption\": 100.0, \"good\": \"Wheat\", \"port\": \"la\", \"price\": 102.04081632653062, \"production\": 100.0, \"supply\": 980.0, \"tick\": 2}, {\"consumption\": 100.0, \"good\": \"Wheat\", \"port\": \"m2\", \"price\": 100.0, \"production\": 100.0, \"supply\": 1000.0, \"tick\": 2}, {\"consumption\": 100.0, \"good\": \"Wheat\", \"port\": \"m3\", \"price\": 100.0, \"production\": 100.0, \"supply\": 1000.0, \"tick\": 3}, {\"consumption\": 100.0, \"good\": \"Wheat\", \"port\": \"m1\", \"price\": 102.04081632653062, \"production\": 100.0, \"supply\": 980.0, \"tick\": 3}, {\"consumption\": 100.0, \"good\": \"Wheat\", \"port\": \"m2\", \"price\": 100.0, \"production\": 100.0, \"supply\": 1000.0, \"tick\": 3}, {\"consumption\": 100.0, \"good\": \"Wheat\", \"port\": \"lb\", \"price\": 102.04081632653062, \"production\": 100.0, \"supply\": 980.0, \"tick\": 3}, {\"consumption\": 100.0, \"good\": \"Wheat\", \"port\": \"ra\", \"price\": 98.03921568627452, \"production\": 100.0, \"supply\": 1020.0, \"tick\": 3}, {\"consumption\": 100.0, \"good\": \"Wheat\", \"port\": \"la\", \"price\": 102.04081632653062, \"production\": 100.0, \"supply\": 980.0, \"tick\": 3}, {\"consumption\": 100.0, \"good\": \"Wheat\", \"port\": \"m3\", \"price\": 100.0, \"production\": 100.0, \"supply\": 1000.0, \"tick\": 4}, {\"consumption\": 100.0, \"good\": \"Wheat\", \"port\": \"la\", \"price\": 102.04081632653062, \"production\": 100.0, \"supply\": 980.0, \"tick\": 4}, {\"consumption\": 100.0, \"good\": \"Wheat\", \"port\": \"m2\", \"price\": 100.0, \"production\": 100.0, \"supply\": 1000.0, \"tick\": 4}, {\"consumption\": 100.0, \"good\": \"Wheat\", \"port\": \"lb\", \"price\": 102.04081632653062, \"production\": 100.0, \"supply\": 980.0, \"tick\": 4}, {\"consumption\": 100.0, \"good\": \"Wheat\", \"port\": \"m1\", \"price\": 102.04081632653062, \"production\": 100.0, \"supply\": 980.0, \"tick\": 4}, {\"consumption\": 100.0, \"good\": \"Wheat\", \"port\": \"ra\", \"price\": 98.03921568627452, \"production\": 100.0, \"supply\": 1020.0, \"tick\": 4}, {\"consumption\": 100.0, \"good\": \"Wheat\", \"port\": \"ra\", \"price\": 98.03921568627452, \"production\": 100.0, \"supply\": 1020.0, \"tick\": 5}, {\"consumption\": 100.0, \"good\": \"Wheat\", \"port\": \"m2\", \"price\": 100.0, \"production\": 100.0, \"supply\": 1000.0, \"tick\": 5}, {\"consumption\": 100.0, \"good\": \"Wheat\", \"port\": \"la\", \"price\": 102.04081632653062, \"production\": 100.0, \"supply\": 980.0, \"tick\": 5}, {\"consumption\": 100.0, \"good\": \"Wheat\", \"port\": \"lb\", \"price\": 102.04081632653062, \"production\": 100.0, \"supply\": 980.0, \"tick\": 5}, {\"consumption\": 100.0, \"good\": \"Wheat\", \"port\": \"m3\", \"price\": 100.0, \"production\": 100.0, \"supply\": 1000.0, \"tick\": 5}, {\"consumption\": 100.0, \"good\": \"Wheat\", \"port\": \"m1\", \"price\": 102.04081632653062, \"production\": 100.0, \"supply\": 980.0, \"tick\": 5}, {\"consumption\": 100.0, \"good\": \"Wheat\", \"port\": \"m1\", \"price\": 102.04081632653062, \"production\": 100.0, \"supply\": 980.0, \"tick\": 6}, {\"consumption\": 100.0, \"good\": \"Wheat\", \"port\": \"la\", \"price\": 102.04081632653062, \"production\": 100.0, \"supply\": 980.0, \"tick\": 6}, {\"consumption\": 100.0, \"good\": \"Wheat\", \"port\": \"ra\", \"price\": 98.03921568627452, \"production\": 100.0, \"supply\": 1020.0, \"tick\": 6}, {\"consumption\": 100.0, \"good\": \"Wheat\", \"port\": \"m2\", \"price\": 100.0, \"production\": 100.0, \"supply\": 1000.0, \"tick\": 6}, {\"consumption\": 100.0, \"good\": \"Wheat\", \"port\": \"m3\", \"price\": 100.0, \"production\": 100.0, \"supply\": 1000.0, \"tick\": 6}, {\"consumption\": 100.0, \"good\": \"Wheat\", \"port\": \"lb\", \"price\": 102.04081632653062, \"production\": 100.0, \"supply\": 980.0, \"tick\": 6}, {\"consumption\": 100.0, \"good\": \"Wheat\", \"port\": \"m1\", \"price\": 102.04081632653062, \"production\": 100.0, \"supply\": 980.0, \"tick\": 7}, {\"consumption\": 100.0, \"good\": \"Wheat\", \"port\": \"lb\", \"price\": 102.04081632653062, \"production\": 100.0, \"supply\": 980.0, \"tick\": 7}, {\"consumption\": 100.0, \"good\": \"Wheat\", \"port\": \"m2\", \"price\": 100.0, \"production\": 100.0, \"supply\": 1000.0, \"tick\": 7}, {\"consumption\": 100.0, \"good\": \"Wheat\", \"port\": \"ra\", \"price\": 98.03921568627452, \"production\": 100.0, \"supply\": 1020.0, \"tick\": 7}, {\"consumption\": 100.0, \"good\": \"Wheat\", \"port\": \"la\", \"price\": 102.04081632653062, \"production\": 100.0, \"supply\": 980.0, \"tick\": 7}, {\"consumption\": 100.0, \"good\": \"Wheat\", \"port\": \"m3\", \"price\": 100.0, \"production\": 100.0, \"supply\": 1000.0, \"tick\": 7}, {\"consumption\": 100.0, \"good\": \"Wheat\", \"port\": \"m3\", \"price\": 100.0, \"production\": 100.0, \"supply\": 1000.0, \"tick\": 8}, {\"consumption\": 100.0, \"good\": \"Wheat\", \"port\": \"ra\", \"price\": 98.03921568627452, \"production\": 100.0, \"supply\": 1020.0, \"tick\": 8}, {\"consumption\": 100.0, \"good\": \"Wheat\", \"port\": \"lb\", \"price\": 102.04081632653062, \"production\": 100.0, \"supply\": 980.0, \"tick\": 8}, {\"consumption\": 100.0, \"good\": \"Wheat\", \"port\": \"la\", \"price\": 102.04081632653062, \"production\": 100.0, \"supply\": 980.0, \"tick\": 8}, {\"consumption\": 100.0, \"good\": \"Wheat\", \"port\": \"m2\", \"price\": 100.0, \"production\": 100.0, \"supply\": 1000.0, \"tick\": 8}, {\"consumption\": 100.0, \"good\": \"Wheat\", \"port\": \"m1\", \"price\": 102.04081632653062, \"production\": 100.0, \"supply\": 980.0, \"tick\": 8}, {\"consumption\": 100.0, \"good\": \"Wheat\", \"port\": \"la\", \"price\": 102.04081632653062, \"production\": 100.0, \"supply\": 980.0, \"tick\": 9}, {\"consumption\": 100.0, \"good\": \"Wheat\", \"port\": \"m2\", \"price\": 100.0, \"production\": 100.0, \"supply\": 1000.0, \"tick\": 9}, {\"consumption\": 100.0, \"good\": \"Wheat\", \"port\": \"m3\", \"price\": 100.0, \"production\": 100.0, \"supply\": 1000.0, \"tick\": 9}, {\"consumption\": 100.0, \"good\": \"Wheat\", \"port\": \"lb\", \"price\": 102.04081632653062, \"production\": 100.0, \"supply\": 980.0, \"tick\": 9}, {\"consumption\": 100.0, \"good\": \"Wheat\", \"port\": \"ra\", \"price\": 98.03921568627452, \"production\": 100.0, \"supply\": 1020.0, \"tick\": 9}, {\"consumption\": 100.0, \"good\": \"Wheat\", \"port\": \"m1\", \"price\": 102.04081632653062, \"production\": 100.0, \"supply\": 980.0, \"tick\": 9}, {\"consumption\": 100.0, \"good\": \"Wheat\", \"port\": \"m2\", \"price\": 100.0, \"production\": 100.0, \"supply\": 1000.0, \"tick\": 10}, {\"consumption\": 100.0, \"good\": \"Wheat\", \"port\": \"m3\", \"price\": 100.0, \"production\": 100.0, \"supply\": 1000.0, \"tick\": 10}, {\"consumption\": 100.0, \"good\": \"Wheat\", \"port\": \"ra\", \"price\": 98.03921568627452, \"production\": 100.0, \"supply\": 1020.0, \"tick\": 10}, {\"consumption\": 100.0, \"good\": \"Wheat\", \"port\": \"m1\", \"price\": 102.04081632653062, \"production\": 100.0, \"supply\": 980.0, \"tick\": 10}, {\"consumption\": 100.0, \"good\": \"Wheat\", \"port\": \"lb\", \"price\": 102.04081632653062, \"production\": 100.0, \"supply\": 980.0, \"tick\": 10}, {\"consumption\": 100.0, \"good\": \"Wheat\", \"port\": \"la\", \"price\": 102.04081632653062, \"production\": 100.0, \"supply\": 980.0, \"tick\": 10}]}}, {\"mode\": \"vega-lite\"});\n",
       "</script>"
      ],
      "text/plain": [
       "alt.LayerChart(...)"
      ]
     },
     "execution_count": 11,
     "metadata": {},
     "output_type": "execute_result"
    }
   ],
   "source": [
    "analysis.plot_prices_by_port(analysis.no_agent_markets(scenario)) "
   ]
  },
  {
   "cell_type": "code",
   "execution_count": 12,
   "metadata": {},
   "outputs": [
    {
     "data": {
      "text/html": [
       "<div><style>\n",
       ".dataframe > thead > tr > th,\n",
       ".dataframe > tbody > tr > td {\n",
       "  text-align: right;\n",
       "}\n",
       "</style>\n",
       "<small>shape: (38, 11)</small><table border=\"1\" class=\"dataframe\"><thead><tr><th>agent</th><th>amt</th><th>buy_cost</th><th>src</th><th>buy_tick</th><th>sell_cost</th><th>dst</th><th>sell_tick</th><th>profit</th><th>buy_price</th><th>sell_price</th></tr><tr><td>str</td><td>i64</td><td>f64</td><td>str</td><td>i64</td><td>f64</td><td>str</td><td>i64</td><td>f64</td><td>f64</td><td>f64</td></tr></thead><tbody><tr><td>&quot;a9&quot;</td><td>1</td><td>100.452059</td><td>&quot;m2&quot;</td><td>2</td><td>-99.552041</td><td>&quot;m3&quot;</td><td>3</td><td>-0.900019</td><td>100.452059</td><td>99.552041</td></tr><tr><td>&quot;a9&quot;</td><td>1</td><td>99.453033</td><td>&quot;m3&quot;</td><td>4</td><td>-100.553067</td><td>&quot;m2&quot;</td><td>5</td><td>1.100034</td><td>99.453033</td><td>100.553067</td></tr><tr><td>&quot;a9&quot;</td><td>1</td><td>100.351255</td><td>&quot;m2&quot;</td><td>6</td><td>-99.651245</td><td>&quot;m3&quot;</td><td>7</td><td>-0.700009</td><td>100.351255</td><td>99.651245</td></tr><tr><td>&quot;a9&quot;</td><td>1</td><td>99.552041</td><td>&quot;m3&quot;</td><td>8</td><td>-100.452059</td><td>&quot;m2&quot;</td><td>9</td><td>0.900019</td><td>99.552041</td><td>100.452059</td></tr><tr><td>&quot;a3&quot;</td><td>1</td><td>100.654278</td><td>&quot;m2&quot;</td><td>2</td><td>-99.354222</td><td>&quot;m3&quot;</td><td>3</td><td>-1.300056</td><td>100.654278</td><td>99.354222</td></tr><tr><td>&quot;a3&quot;</td><td>1</td><td>99.651245</td><td>&quot;m3&quot;</td><td>4</td><td>-100.351255</td><td>&quot;m2&quot;</td><td>5</td><td>0.700009</td><td>99.651245</td><td>100.351255</td></tr><tr><td>&quot;a3&quot;</td><td>1</td><td>100.553067</td><td>&quot;m2&quot;</td><td>6</td><td>-99.453033</td><td>&quot;m3&quot;</td><td>7</td><td>-1.100034</td><td>100.553067</td><td>99.453033</td></tr><tr><td>&quot;a3&quot;</td><td>1</td><td>99.750648</td><td>&quot;m3&quot;</td><td>8</td><td>-100.250652</td><td>&quot;m2&quot;</td><td>9</td><td>0.500004</td><td>99.750648</td><td>100.250652</td></tr><tr><td>&quot;a8&quot;</td><td>1</td><td>100.05005</td><td>&quot;m2&quot;</td><td>2</td><td>-99.95005</td><td>&quot;m3&quot;</td><td>3</td><td>-0.1</td><td>100.05005</td><td>99.95005</td></tr><tr><td>&quot;a8&quot;</td><td>1</td><td>99.058964</td><td>&quot;m3&quot;</td><td>4</td><td>-100.959137</td><td>&quot;m2&quot;</td><td>5</td><td>1.900173</td><td>99.058964</td><td>100.959137</td></tr><tr><td>&quot;a8&quot;</td><td>1</td><td>100.05005</td><td>&quot;m2&quot;</td><td>6</td><td>-99.95005</td><td>&quot;m3&quot;</td><td>7</td><td>-0.1</td><td>100.05005</td><td>99.95005</td></tr><tr><td>&quot;a8&quot;</td><td>1</td><td>99.255608</td><td>&quot;m3&quot;</td><td>8</td><td>-100.755693</td><td>&quot;m2&quot;</td><td>9</td><td>1.500086</td><td>99.255608</td><td>100.755693</td></tr><tr><td>&hellip;</td><td>&hellip;</td><td>&hellip;</td><td>&hellip;</td><td>&hellip;</td><td>&hellip;</td><td>&hellip;</td><td>&hellip;</td><td>&hellip;</td><td>&hellip;</td><td>&hellip;</td></tr><tr><td>&quot;a7&quot;</td><td>1</td><td>100.15025</td><td>&quot;m2&quot;</td><td>2</td><td>-99.85025</td><td>&quot;m3&quot;</td><td>3</td><td>-0.300001</td><td>100.15025</td><td>99.85025</td></tr><tr><td>&quot;a7&quot;</td><td>1</td><td>99.157188</td><td>&quot;m3&quot;</td><td>4</td><td>-100.857313</td><td>&quot;m2&quot;</td><td>5</td><td>1.700124</td><td>99.157188</td><td>100.857313</td></tr><tr><td>&quot;a7&quot;</td><td>1</td><td>100.15025</td><td>&quot;m2&quot;</td><td>6</td><td>-99.85025</td><td>&quot;m3&quot;</td><td>7</td><td>-0.300001</td><td>100.15025</td><td>99.85025</td></tr><tr><td>&quot;a7&quot;</td><td>1</td><td>99.354222</td><td>&quot;m3&quot;</td><td>8</td><td>-100.654278</td><td>&quot;m2&quot;</td><td>9</td><td>1.300056</td><td>99.354222</td><td>100.654278</td></tr><tr><td>&quot;a1&quot;</td><td>1</td><td>100.959137</td><td>&quot;m2&quot;</td><td>2</td><td>-99.058964</td><td>&quot;m3&quot;</td><td>3</td><td>-1.900173</td><td>100.959137</td><td>99.058964</td></tr><tr><td>&quot;a1&quot;</td><td>1</td><td>99.95005</td><td>&quot;m3&quot;</td><td>4</td><td>-100.05005</td><td>&quot;m2&quot;</td><td>5</td><td>0.1</td><td>99.95005</td><td>100.05005</td></tr><tr><td>&quot;a1&quot;</td><td>1</td><td>100.755693</td><td>&quot;m2&quot;</td><td>6</td><td>-99.255608</td><td>&quot;m3&quot;</td><td>7</td><td>-1.500086</td><td>100.755693</td><td>99.255608</td></tr><tr><td>&quot;a1&quot;</td><td>1</td><td>99.95005</td><td>&quot;m3&quot;</td><td>8</td><td>-100.05005</td><td>&quot;m2&quot;</td><td>9</td><td>0.1</td><td>99.95005</td><td>100.05005</td></tr><tr><td>&quot;a10&quot;</td><td>1</td><td>100.755693</td><td>&quot;m2&quot;</td><td>2</td><td>-99.255608</td><td>&quot;m3&quot;</td><td>3</td><td>-1.500086</td><td>100.755693</td><td>99.255608</td></tr><tr><td>&quot;a10&quot;</td><td>1</td><td>99.750648</td><td>&quot;m3&quot;</td><td>4</td><td>-100.250652</td><td>&quot;m2&quot;</td><td>5</td><td>0.500004</td><td>99.750648</td><td>100.250652</td></tr><tr><td>&quot;a10&quot;</td><td>1</td><td>100.654278</td><td>&quot;m2&quot;</td><td>6</td><td>-99.354222</td><td>&quot;m3&quot;</td><td>7</td><td>-1.300056</td><td>100.654278</td><td>99.354222</td></tr><tr><td>&quot;a10&quot;</td><td>1</td><td>99.85025</td><td>&quot;m3&quot;</td><td>8</td><td>-100.15025</td><td>&quot;m2&quot;</td><td>9</td><td>0.300001</td><td>99.85025</td><td>100.15025</td></tr></tbody></table></div>"
      ],
      "text/plain": [
       "shape: (38, 11)\n",
       "┌───────┬─────┬────────────┬─────┬───┬───────────┬───────────┬────────────┬────────────┐\n",
       "│ agent ┆ amt ┆ buy_cost   ┆ src ┆ … ┆ sell_tick ┆ profit    ┆ buy_price  ┆ sell_price │\n",
       "│ ---   ┆ --- ┆ ---        ┆ --- ┆   ┆ ---       ┆ ---       ┆ ---        ┆ ---        │\n",
       "│ str   ┆ i64 ┆ f64        ┆ str ┆   ┆ i64       ┆ f64       ┆ f64        ┆ f64        │\n",
       "╞═══════╪═════╪════════════╪═════╪═══╪═══════════╪═══════════╪════════════╪════════════╡\n",
       "│ a9    ┆ 1   ┆ 100.452059 ┆ m2  ┆ … ┆ 3         ┆ -0.900019 ┆ 100.452059 ┆ 99.552041  │\n",
       "│ a9    ┆ 1   ┆ 99.453033  ┆ m3  ┆ … ┆ 5         ┆ 1.100034  ┆ 99.453033  ┆ 100.553067 │\n",
       "│ a9    ┆ 1   ┆ 100.351255 ┆ m2  ┆ … ┆ 7         ┆ -0.700009 ┆ 100.351255 ┆ 99.651245  │\n",
       "│ a9    ┆ 1   ┆ 99.552041  ┆ m3  ┆ … ┆ 9         ┆ 0.900019  ┆ 99.552041  ┆ 100.452059 │\n",
       "│ …     ┆ …   ┆ …          ┆ …   ┆ … ┆ …         ┆ …         ┆ …          ┆ …          │\n",
       "│ a10   ┆ 1   ┆ 100.755693 ┆ m2  ┆ … ┆ 3         ┆ -1.500086 ┆ 100.755693 ┆ 99.255608  │\n",
       "│ a10   ┆ 1   ┆ 99.750648  ┆ m3  ┆ … ┆ 5         ┆ 0.500004  ┆ 99.750648  ┆ 100.250652 │\n",
       "│ a10   ┆ 1   ┆ 100.654278 ┆ m2  ┆ … ┆ 7         ┆ -1.300056 ┆ 100.654278 ┆ 99.354222  │\n",
       "│ a10   ┆ 1   ┆ 99.85025   ┆ m3  ┆ … ┆ 9         ┆ 0.300001  ┆ 99.85025   ┆ 100.15025  │\n",
       "└───────┴─────┴────────────┴─────┴───┴───────────┴───────────┴────────────┴────────────┘"
      ]
     },
     "execution_count": 12,
     "metadata": {},
     "output_type": "execute_result"
    }
   ],
   "source": [
    "routes = analysis.make_routes(events)\n",
    "routes"
   ]
  },
  {
   "cell_type": "code",
   "execution_count": 13,
   "metadata": {},
   "outputs": [
    {
     "data": {
      "text/html": [
       "<div><style>\n",
       ".dataframe > thead > tr > th,\n",
       ".dataframe > tbody > tr > td {\n",
       "  text-align: right;\n",
       "}\n",
       "</style>\n",
       "<small>shape: (3, 2)</small><table border=\"1\" class=\"dataframe\"><thead><tr><th>route</th><th>count</th></tr><tr><td>struct[2]</td><td>u32</td></tr></thead><tbody><tr><td>{&quot;m2&quot;,&quot;m3&quot;}</td><td>18</td></tr><tr><td>{&quot;m3&quot;,&quot;m2&quot;}</td><td>18</td></tr><tr><td>{&quot;ra&quot;,&quot;m3&quot;}</td><td>2</td></tr></tbody></table></div>"
      ],
      "text/plain": [
       "shape: (3, 2)\n",
       "┌─────────────┬───────┐\n",
       "│ route       ┆ count │\n",
       "│ ---         ┆ ---   │\n",
       "│ struct[2]   ┆ u32   │\n",
       "╞═════════════╪═══════╡\n",
       "│ {\"m2\",\"m3\"} ┆ 18    │\n",
       "│ {\"m3\",\"m2\"} ┆ 18    │\n",
       "│ {\"ra\",\"m3\"} ┆ 2     │\n",
       "└─────────────┴───────┘"
      ]
     },
     "execution_count": 13,
     "metadata": {},
     "output_type": "execute_result"
    }
   ],
   "source": [
    "blag = routes.with_columns(pl.struct(\"src\", \"dst\").alias(\"route\"))\n",
    "blag.groupby(\"route\").agg(pl.count()).sort(\"count\", descending=True)"
   ]
  },
  {
   "cell_type": "code",
   "execution_count": 14,
   "metadata": {},
   "outputs": [
    {
     "data": {
      "text/html": [
       "\n",
       "<style>\n",
       "  #altair-viz-838764bc52d44e5b8077b60f533a5b5b.vega-embed {\n",
       "    width: 100%;\n",
       "    display: flex;\n",
       "  }\n",
       "\n",
       "  #altair-viz-838764bc52d44e5b8077b60f533a5b5b.vega-embed details,\n",
       "  #altair-viz-838764bc52d44e5b8077b60f533a5b5b.vega-embed details summary {\n",
       "    position: relative;\n",
       "  }\n",
       "</style>\n",
       "<div id=\"altair-viz-838764bc52d44e5b8077b60f533a5b5b\"></div>\n",
       "<script type=\"text/javascript\">\n",
       "  var VEGA_DEBUG = (typeof VEGA_DEBUG == \"undefined\") ? {} : VEGA_DEBUG;\n",
       "  (function(spec, embedOpt){\n",
       "    let outputDiv = document.currentScript.previousElementSibling;\n",
       "    if (outputDiv.id !== \"altair-viz-838764bc52d44e5b8077b60f533a5b5b\") {\n",
       "      outputDiv = document.getElementById(\"altair-viz-838764bc52d44e5b8077b60f533a5b5b\");\n",
       "    }\n",
       "    const paths = {\n",
       "      \"vega\": \"https://cdn.jsdelivr.net/npm/vega@5?noext\",\n",
       "      \"vega-lib\": \"https://cdn.jsdelivr.net/npm/vega-lib?noext\",\n",
       "      \"vega-lite\": \"https://cdn.jsdelivr.net/npm/vega-lite@5.8.0?noext\",\n",
       "      \"vega-embed\": \"https://cdn.jsdelivr.net/npm/vega-embed@6?noext\",\n",
       "    };\n",
       "\n",
       "    function maybeLoadScript(lib, version) {\n",
       "      var key = `${lib.replace(\"-\", \"\")}_version`;\n",
       "      return (VEGA_DEBUG[key] == version) ?\n",
       "        Promise.resolve(paths[lib]) :\n",
       "        new Promise(function(resolve, reject) {\n",
       "          var s = document.createElement('script');\n",
       "          document.getElementsByTagName(\"head\")[0].appendChild(s);\n",
       "          s.async = true;\n",
       "          s.onload = () => {\n",
       "            VEGA_DEBUG[key] = version;\n",
       "            return resolve(paths[lib]);\n",
       "          };\n",
       "          s.onerror = () => reject(`Error loading script: ${paths[lib]}`);\n",
       "          s.src = paths[lib];\n",
       "        });\n",
       "    }\n",
       "\n",
       "    function showError(err) {\n",
       "      outputDiv.innerHTML = `<div class=\"error\" style=\"color:red;\">${err}</div>`;\n",
       "      throw err;\n",
       "    }\n",
       "\n",
       "    function displayChart(vegaEmbed) {\n",
       "      vegaEmbed(outputDiv, spec, embedOpt)\n",
       "        .catch(err => showError(`Javascript Error: ${err.message}<br>This usually means there's a typo in your chart specification. See the javascript console for the full traceback.`));\n",
       "    }\n",
       "\n",
       "    if(typeof define === \"function\" && define.amd) {\n",
       "      requirejs.config({paths});\n",
       "      require([\"vega-embed\"], displayChart, err => showError(`Error loading script: ${err.message}`));\n",
       "    } else {\n",
       "      maybeLoadScript(\"vega\", \"5\")\n",
       "        .then(() => maybeLoadScript(\"vega-lite\", \"5.8.0\"))\n",
       "        .then(() => maybeLoadScript(\"vega-embed\", \"6\"))\n",
       "        .catch(showError)\n",
       "        .then(() => displayChart(vegaEmbed));\n",
       "    }\n",
       "  })({\"config\": {\"view\": {\"continuousWidth\": 300, \"continuousHeight\": 300}}, \"data\": {\"name\": \"data-b6d2a091fe194b642521794c592ccbc4\"}, \"mark\": {\"type\": \"point\"}, \"encoding\": {\"color\": {\"field\": \"agent\", \"scale\": {\"scheme\": \"dark2\"}, \"type\": \"nominal\"}, \"x\": {\"field\": \"sell_tick\", \"type\": \"quantitative\"}, \"y\": {\"field\": \"profit\", \"type\": \"quantitative\"}}, \"params\": [{\"name\": \"param_5\", \"select\": {\"type\": \"interval\", \"encodings\": [\"x\", \"y\"]}, \"bind\": \"scales\"}], \"$schema\": \"https://vega.github.io/schema/vega-lite/v5.8.0.json\", \"datasets\": {\"data-b6d2a091fe194b642521794c592ccbc4\": [{\"agent\": \"a9\", \"amt\": 1, \"buy_cost\": 100.45205949425844, \"src\": \"m2\", \"buy_tick\": 2, \"sell_cost\": -99.55204059384354, \"dst\": \"m3\", \"sell_tick\": 3, \"profit\": -0.9000189004148922, \"buy_price\": 100.45205949425844, \"sell_price\": 99.55204059384354}, {\"agent\": \"a9\", \"amt\": 1, \"buy_cost\": 99.45303304550805, \"src\": \"m3\", \"buy_tick\": 4, \"sell_cost\": -100.55306714659818, \"dst\": \"m2\", \"sell_tick\": 5, \"profit\": 1.100034101090131, \"buy_price\": 99.45303304550805, \"sell_price\": 100.55306714659818}, {\"agent\": \"a9\", \"amt\": 1, \"buy_cost\": 100.35125456691358, \"src\": \"m2\", \"buy_tick\": 6, \"sell_cost\": -99.65124546678689, \"dst\": \"m3\", \"sell_tick\": 7, \"profit\": -0.7000091001266924, \"buy_price\": 100.35125456691358, \"sell_price\": 99.65124546678689}, {\"agent\": \"a9\", \"amt\": 1, \"buy_cost\": 99.55204059384354, \"src\": \"m3\", \"buy_tick\": 8, \"sell_cost\": -100.45205949425844, \"dst\": \"m2\", \"sell_tick\": 9, \"profit\": 0.9000189004148922, \"buy_price\": 99.55204059384354, \"sell_price\": 100.45205949425844}, {\"agent\": \"a3\", \"amt\": 1, \"buy_cost\": 100.65427813608743, \"src\": \"m2\", \"buy_tick\": 2, \"sell_cost\": -99.354222233629, \"dst\": \"m3\", \"sell_tick\": 3, \"profit\": -1.3000559024584248, \"buy_price\": 100.65427813608743, \"sell_price\": 99.354222233629}, {\"agent\": \"a3\", \"amt\": 1, \"buy_cost\": 99.65124546678689, \"src\": \"m3\", \"buy_tick\": 4, \"sell_cost\": -100.35125456691358, \"dst\": \"m2\", \"sell_tick\": 5, \"profit\": 0.7000091001266924, \"buy_price\": 99.65124546678689, \"sell_price\": 100.35125456691358}, {\"agent\": \"a3\", \"amt\": 1, \"buy_cost\": 100.55306714659818, \"src\": \"m2\", \"buy_tick\": 6, \"sell_cost\": -99.45303304550805, \"dst\": \"m3\", \"sell_tick\": 7, \"profit\": -1.100034101090131, \"buy_price\": 100.55306714659818, \"sell_price\": 99.45303304550805}, {\"agent\": \"a3\", \"amt\": 1, \"buy_cost\": 99.75064825483628, \"src\": \"m3\", \"buy_tick\": 8, \"sell_cost\": -100.25065175486378, \"dst\": \"m2\", \"sell_tick\": 9, \"profit\": 0.5000035000275034, \"buy_price\": 99.75064825483628, \"sell_price\": 100.25065175486378}, {\"agent\": \"a8\", \"amt\": 1, \"buy_cost\": 100.05005005005006, \"src\": \"m2\", \"buy_tick\": 2, \"sell_cost\": -99.95004995004996, \"dst\": \"m3\", \"sell_tick\": 3, \"profit\": -0.10000010000010207, \"buy_price\": 100.05005005005006, \"sell_price\": 99.95004995004996}, {\"agent\": \"a8\", \"amt\": 1, \"buy_cost\": 99.05896437017338, \"src\": \"m3\", \"buy_tick\": 4, \"sell_cost\": -100.95913728607977, \"dst\": \"m2\", \"sell_tick\": 5, \"profit\": 1.9001729159063814, \"buy_price\": 99.05896437017338, \"sell_price\": 100.95913728607977}, {\"agent\": \"a8\", \"amt\": 1, \"buy_cost\": 100.05005005005006, \"src\": \"m2\", \"buy_tick\": 6, \"sell_cost\": -99.95004995004996, \"dst\": \"m3\", \"sell_tick\": 7, \"profit\": -0.10000010000010207, \"buy_price\": 100.05005005005006, \"sell_price\": 99.95004995004996}, {\"agent\": \"a8\", \"amt\": 1, \"buy_cost\": 99.25560757239009, \"src\": \"m3\", \"buy_tick\": 8, \"sell_cost\": -100.7556930773479, \"dst\": \"m2\", \"sell_tick\": 9, \"profit\": 1.5000855049578092, \"buy_price\": 99.25560757239009, \"sell_price\": 100.7556930773479}, {\"agent\": \"a4\", \"amt\": 1, \"buy_cost\": 100.25065175486378, \"src\": \"m2\", \"buy_tick\": 2, \"sell_cost\": -99.75064825483628, \"dst\": \"m3\", \"sell_tick\": 3, \"profit\": -0.5000035000275034, \"buy_price\": 100.25065175486378, \"sell_price\": 99.75064825483628}, {\"agent\": \"a4\", \"amt\": 1, \"buy_cost\": 99.25560757239009, \"src\": \"m3\", \"buy_tick\": 4, \"sell_cost\": -100.7556930773479, \"dst\": \"m2\", \"sell_tick\": 5, \"profit\": 1.5000855049578092, \"buy_price\": 99.25560757239009, \"sell_price\": 100.7556930773479}, {\"agent\": \"a4\", \"amt\": 1, \"buy_cost\": 100.25065175486378, \"src\": \"m2\", \"buy_tick\": 6, \"sell_cost\": -99.75064825483628, \"dst\": \"m3\", \"sell_tick\": 7, \"profit\": -0.5000035000275034, \"buy_price\": 100.25065175486378, \"sell_price\": 99.75064825483628}, {\"agent\": \"a4\", \"amt\": 1, \"buy_cost\": 99.45303304550805, \"src\": \"m3\", \"buy_tick\": 8, \"sell_cost\": -100.55306714659818, \"dst\": \"m2\", \"sell_tick\": 9, \"profit\": 1.100034101090131, \"buy_price\": 99.45303304550805, \"sell_price\": 100.55306714659818}, {\"agent\": \"a5\", \"amt\": 1, \"buy_cost\": 100.55306714659818, \"src\": \"m2\", \"buy_tick\": 2, \"sell_cost\": -99.45303304550805, \"dst\": \"m3\", \"sell_tick\": 3, \"profit\": -1.100034101090131, \"buy_price\": 100.55306714659818, \"sell_price\": 99.45303304550805}, {\"agent\": \"a5\", \"amt\": 1, \"buy_cost\": 99.55204059384354, \"src\": \"m3\", \"buy_tick\": 4, \"sell_cost\": -100.45205949425844, \"dst\": \"m2\", \"sell_tick\": 5, \"profit\": 0.9000189004148922, \"buy_price\": 99.55204059384354, \"sell_price\": 100.45205949425844}, {\"agent\": \"a5\", \"amt\": 1, \"buy_cost\": 100.45205949425844, \"src\": \"m2\", \"buy_tick\": 6, \"sell_cost\": -99.55204059384354, \"dst\": \"m3\", \"sell_tick\": 7, \"profit\": -0.9000189004148922, \"buy_price\": 100.45205949425844, \"sell_price\": 99.55204059384354}, {\"agent\": \"a5\", \"amt\": 1, \"buy_cost\": 99.65124546678689, \"src\": \"m3\", \"buy_tick\": 8, \"sell_cost\": -100.35125456691358, \"dst\": \"m2\", \"sell_tick\": 9, \"profit\": 0.7000091001266924, \"buy_price\": 99.65124546678689, \"sell_price\": 100.35125456691358}, {\"agent\": \"a2\", \"amt\": 1, \"buy_cost\": 100.85731258748088, \"src\": \"m2\", \"buy_tick\": 2, \"sell_cost\": -99.15718847829848, \"dst\": \"m3\", \"sell_tick\": 3, \"profit\": -1.700124109182397, \"buy_price\": 100.85731258748088, \"sell_price\": 99.15718847829848}, {\"agent\": \"a2\", \"amt\": 1, \"buy_cost\": 99.85024955084836, \"src\": \"m3\", \"buy_tick\": 4, \"sell_cost\": -100.15025045085166, \"dst\": \"m2\", \"sell_tick\": 5, \"profit\": 0.3000009000032975, \"buy_price\": 99.85024955084836, \"sell_price\": 100.15025045085166}, {\"agent\": \"a2\", \"amt\": 1, \"buy_cost\": 98.18362700054563, \"src\": \"ra\", \"buy_tick\": 8, \"sell_cost\": -99.85024955084836, \"dst\": \"m3\", \"sell_tick\": 9, \"profit\": 1.6666225503027334, \"buy_price\": 98.18362700054563, \"sell_price\": 99.85024955084836}, {\"agent\": \"a6\", \"amt\": 1, \"buy_cost\": 100.35125456691358, \"src\": \"m2\", \"buy_tick\": 2, \"sell_cost\": -99.65124546678689, \"dst\": \"m3\", \"sell_tick\": 3, \"profit\": -0.7000091001266924, \"buy_price\": 100.35125456691358, \"sell_price\": 99.65124546678689}, {\"agent\": \"a6\", \"amt\": 1, \"buy_cost\": 99.354222233629, \"src\": \"m3\", \"buy_tick\": 4, \"sell_cost\": -100.65427813608743, \"dst\": \"m2\", \"sell_tick\": 5, \"profit\": 1.3000559024584248, \"buy_price\": 99.354222233629, \"sell_price\": 100.65427813608743}, {\"agent\": \"a6\", \"amt\": 1, \"buy_cost\": 98.08732128769074, \"src\": \"ra\", \"buy_tick\": 8, \"sell_cost\": -99.95004995004996, \"dst\": \"m3\", \"sell_tick\": 9, \"profit\": 1.862728662359217, \"buy_price\": 98.08732128769074, \"sell_price\": 99.95004995004996}, {\"agent\": \"a7\", \"amt\": 1, \"buy_cost\": 100.15025045085166, \"src\": \"m2\", \"buy_tick\": 2, \"sell_cost\": -99.85024955084836, \"dst\": \"m3\", \"sell_tick\": 3, \"profit\": -0.3000009000032975, \"buy_price\": 100.15025045085166, \"sell_price\": 99.85024955084836}, {\"agent\": \"a7\", \"amt\": 1, \"buy_cost\": 99.15718847829848, \"src\": \"m3\", \"buy_tick\": 4, \"sell_cost\": -100.85731258748088, \"dst\": \"m2\", \"sell_tick\": 5, \"profit\": 1.700124109182397, \"buy_price\": 99.15718847829848, \"sell_price\": 100.85731258748088}, {\"agent\": \"a7\", \"amt\": 1, \"buy_cost\": 100.15025045085166, \"src\": \"m2\", \"buy_tick\": 6, \"sell_cost\": -99.85024955084836, \"dst\": \"m3\", \"sell_tick\": 7, \"profit\": -0.3000009000032975, \"buy_price\": 100.15025045085166, \"sell_price\": 99.85024955084836}, {\"agent\": \"a7\", \"amt\": 1, \"buy_cost\": 99.354222233629, \"src\": \"m3\", \"buy_tick\": 8, \"sell_cost\": -100.65427813608743, \"dst\": \"m2\", \"sell_tick\": 9, \"profit\": 1.3000559024584248, \"buy_price\": 99.354222233629, \"sell_price\": 100.65427813608743}, {\"agent\": \"a1\", \"amt\": 1, \"buy_cost\": 100.95913728607977, \"src\": \"m2\", \"buy_tick\": 2, \"sell_cost\": -99.05896437017338, \"dst\": \"m3\", \"sell_tick\": 3, \"profit\": -1.9001729159063814, \"buy_price\": 100.95913728607977, \"sell_price\": 99.05896437017338}, {\"agent\": \"a1\", \"amt\": 1, \"buy_cost\": 99.95004995004996, \"src\": \"m3\", \"buy_tick\": 4, \"sell_cost\": -100.05005005005006, \"dst\": \"m2\", \"sell_tick\": 5, \"profit\": 0.10000010000010207, \"buy_price\": 99.95004995004996, \"sell_price\": 100.05005005005006}, {\"agent\": \"a1\", \"amt\": 1, \"buy_cost\": 100.7556930773479, \"src\": \"m2\", \"buy_tick\": 6, \"sell_cost\": -99.25560757239009, \"dst\": \"m3\", \"sell_tick\": 7, \"profit\": -1.5000855049578092, \"buy_price\": 100.7556930773479, \"sell_price\": 99.25560757239009}, {\"agent\": \"a1\", \"amt\": 1, \"buy_cost\": 99.95004995004996, \"src\": \"m3\", \"buy_tick\": 8, \"sell_cost\": -100.05005005005006, \"dst\": \"m2\", \"sell_tick\": 9, \"profit\": 0.10000010000010207, \"buy_price\": 99.95004995004996, \"sell_price\": 100.05005005005006}, {\"agent\": \"a10\", \"amt\": 1, \"buy_cost\": 100.7556930773479, \"src\": \"m2\", \"buy_tick\": 2, \"sell_cost\": -99.25560757239009, \"dst\": \"m3\", \"sell_tick\": 3, \"profit\": -1.5000855049578092, \"buy_price\": 100.7556930773479, \"sell_price\": 99.25560757239009}, {\"agent\": \"a10\", \"amt\": 1, \"buy_cost\": 99.75064825483628, \"src\": \"m3\", \"buy_tick\": 4, \"sell_cost\": -100.25065175486378, \"dst\": \"m2\", \"sell_tick\": 5, \"profit\": 0.5000035000275034, \"buy_price\": 99.75064825483628, \"sell_price\": 100.25065175486378}, {\"agent\": \"a10\", \"amt\": 1, \"buy_cost\": 100.65427813608743, \"src\": \"m2\", \"buy_tick\": 6, \"sell_cost\": -99.354222233629, \"dst\": \"m3\", \"sell_tick\": 7, \"profit\": -1.3000559024584248, \"buy_price\": 100.65427813608743, \"sell_price\": 99.354222233629}, {\"agent\": \"a10\", \"amt\": 1, \"buy_cost\": 99.85024955084836, \"src\": \"m3\", \"buy_tick\": 8, \"sell_cost\": -100.15025045085166, \"dst\": \"m2\", \"sell_tick\": 9, \"profit\": 0.3000009000032975, \"buy_price\": 99.85024955084836, \"sell_price\": 100.15025045085166}]}}, {\"mode\": \"vega-lite\"});\n",
       "</script>"
      ],
      "text/plain": [
       "alt.Chart(...)"
      ]
     },
     "execution_count": 14,
     "metadata": {},
     "output_type": "execute_result"
    }
   ],
   "source": [
    "analysis.plot_trades(routes)"
   ]
  },
  {
   "cell_type": "code",
   "execution_count": 15,
   "metadata": {},
   "outputs": [
    {
     "data": {
      "text/html": [
       "\n",
       "<style>\n",
       "  #altair-viz-fbff95f53fcc4958b153c68e41ec3225.vega-embed {\n",
       "    width: 100%;\n",
       "    display: flex;\n",
       "  }\n",
       "\n",
       "  #altair-viz-fbff95f53fcc4958b153c68e41ec3225.vega-embed details,\n",
       "  #altair-viz-fbff95f53fcc4958b153c68e41ec3225.vega-embed details summary {\n",
       "    position: relative;\n",
       "  }\n",
       "</style>\n",
       "<div id=\"altair-viz-fbff95f53fcc4958b153c68e41ec3225\"></div>\n",
       "<script type=\"text/javascript\">\n",
       "  var VEGA_DEBUG = (typeof VEGA_DEBUG == \"undefined\") ? {} : VEGA_DEBUG;\n",
       "  (function(spec, embedOpt){\n",
       "    let outputDiv = document.currentScript.previousElementSibling;\n",
       "    if (outputDiv.id !== \"altair-viz-fbff95f53fcc4958b153c68e41ec3225\") {\n",
       "      outputDiv = document.getElementById(\"altair-viz-fbff95f53fcc4958b153c68e41ec3225\");\n",
       "    }\n",
       "    const paths = {\n",
       "      \"vega\": \"https://cdn.jsdelivr.net/npm/vega@5?noext\",\n",
       "      \"vega-lib\": \"https://cdn.jsdelivr.net/npm/vega-lib?noext\",\n",
       "      \"vega-lite\": \"https://cdn.jsdelivr.net/npm/vega-lite@5.8.0?noext\",\n",
       "      \"vega-embed\": \"https://cdn.jsdelivr.net/npm/vega-embed@6?noext\",\n",
       "    };\n",
       "\n",
       "    function maybeLoadScript(lib, version) {\n",
       "      var key = `${lib.replace(\"-\", \"\")}_version`;\n",
       "      return (VEGA_DEBUG[key] == version) ?\n",
       "        Promise.resolve(paths[lib]) :\n",
       "        new Promise(function(resolve, reject) {\n",
       "          var s = document.createElement('script');\n",
       "          document.getElementsByTagName(\"head\")[0].appendChild(s);\n",
       "          s.async = true;\n",
       "          s.onload = () => {\n",
       "            VEGA_DEBUG[key] = version;\n",
       "            return resolve(paths[lib]);\n",
       "          };\n",
       "          s.onerror = () => reject(`Error loading script: ${paths[lib]}`);\n",
       "          s.src = paths[lib];\n",
       "        });\n",
       "    }\n",
       "\n",
       "    function showError(err) {\n",
       "      outputDiv.innerHTML = `<div class=\"error\" style=\"color:red;\">${err}</div>`;\n",
       "      throw err;\n",
       "    }\n",
       "\n",
       "    function displayChart(vegaEmbed) {\n",
       "      vegaEmbed(outputDiv, spec, embedOpt)\n",
       "        .catch(err => showError(`Javascript Error: ${err.message}<br>This usually means there's a typo in your chart specification. See the javascript console for the full traceback.`));\n",
       "    }\n",
       "\n",
       "    if(typeof define === \"function\" && define.amd) {\n",
       "      requirejs.config({paths});\n",
       "      require([\"vega-embed\"], displayChart, err => showError(`Error loading script: ${err.message}`));\n",
       "    } else {\n",
       "      maybeLoadScript(\"vega\", \"5\")\n",
       "        .then(() => maybeLoadScript(\"vega-lite\", \"5.8.0\"))\n",
       "        .then(() => maybeLoadScript(\"vega-embed\", \"6\"))\n",
       "        .catch(showError)\n",
       "        .then(() => displayChart(vegaEmbed));\n",
       "    }\n",
       "  })({\"config\": {\"view\": {\"continuousWidth\": 300, \"continuousHeight\": 300}}, \"layer\": [{\"mark\": {\"type\": \"point\"}, \"encoding\": {\"color\": {\"field\": \"dst\", \"scale\": {\"scheme\": \"dark2\"}, \"type\": \"nominal\"}, \"x\": {\"field\": \"buy_tick\", \"type\": \"quantitative\"}, \"y\": {\"field\": \"buy_price\", \"type\": \"quantitative\"}}, \"name\": \"view_4\"}, {\"mark\": {\"type\": \"point\"}, \"encoding\": {\"color\": {\"field\": \"dst\", \"scale\": {\"scheme\": \"dark2\"}, \"type\": \"nominal\"}, \"x\": {\"field\": \"sell_tick\", \"type\": \"quantitative\"}, \"y\": {\"field\": \"sell_price\", \"type\": \"quantitative\"}}}, {\"mark\": {\"type\": \"point\"}, \"encoding\": {\"color\": {\"field\": \"agent\", \"scale\": {\"scheme\": \"dark2\"}, \"type\": \"nominal\"}, \"x\": {\"field\": \"sell_tick\", \"type\": \"quantitative\"}, \"y\": {\"field\": \"profit\", \"type\": \"quantitative\"}}, \"name\": \"view_5\"}], \"data\": {\"name\": \"data-b6d2a091fe194b642521794c592ccbc4\"}, \"params\": [{\"name\": \"param_6\", \"select\": {\"type\": \"interval\", \"encodings\": [\"x\", \"y\"]}, \"bind\": \"scales\", \"views\": [\"view_4\"]}, {\"name\": \"param_7\", \"select\": {\"type\": \"interval\", \"encodings\": [\"x\", \"y\"]}, \"bind\": \"scales\", \"views\": [\"view_5\"]}], \"$schema\": \"https://vega.github.io/schema/vega-lite/v5.8.0.json\", \"datasets\": {\"data-b6d2a091fe194b642521794c592ccbc4\": [{\"agent\": \"a9\", \"amt\": 1, \"buy_cost\": 100.45205949425844, \"src\": \"m2\", \"buy_tick\": 2, \"sell_cost\": -99.55204059384354, \"dst\": \"m3\", \"sell_tick\": 3, \"profit\": -0.9000189004148922, \"buy_price\": 100.45205949425844, \"sell_price\": 99.55204059384354}, {\"agent\": \"a9\", \"amt\": 1, \"buy_cost\": 99.45303304550805, \"src\": \"m3\", \"buy_tick\": 4, \"sell_cost\": -100.55306714659818, \"dst\": \"m2\", \"sell_tick\": 5, \"profit\": 1.100034101090131, \"buy_price\": 99.45303304550805, \"sell_price\": 100.55306714659818}, {\"agent\": \"a9\", \"amt\": 1, \"buy_cost\": 100.35125456691358, \"src\": \"m2\", \"buy_tick\": 6, \"sell_cost\": -99.65124546678689, \"dst\": \"m3\", \"sell_tick\": 7, \"profit\": -0.7000091001266924, \"buy_price\": 100.35125456691358, \"sell_price\": 99.65124546678689}, {\"agent\": \"a9\", \"amt\": 1, \"buy_cost\": 99.55204059384354, \"src\": \"m3\", \"buy_tick\": 8, \"sell_cost\": -100.45205949425844, \"dst\": \"m2\", \"sell_tick\": 9, \"profit\": 0.9000189004148922, \"buy_price\": 99.55204059384354, \"sell_price\": 100.45205949425844}, {\"agent\": \"a3\", \"amt\": 1, \"buy_cost\": 100.65427813608743, \"src\": \"m2\", \"buy_tick\": 2, \"sell_cost\": -99.354222233629, \"dst\": \"m3\", \"sell_tick\": 3, \"profit\": -1.3000559024584248, \"buy_price\": 100.65427813608743, \"sell_price\": 99.354222233629}, {\"agent\": \"a3\", \"amt\": 1, \"buy_cost\": 99.65124546678689, \"src\": \"m3\", \"buy_tick\": 4, \"sell_cost\": -100.35125456691358, \"dst\": \"m2\", \"sell_tick\": 5, \"profit\": 0.7000091001266924, \"buy_price\": 99.65124546678689, \"sell_price\": 100.35125456691358}, {\"agent\": \"a3\", \"amt\": 1, \"buy_cost\": 100.55306714659818, \"src\": \"m2\", \"buy_tick\": 6, \"sell_cost\": -99.45303304550805, \"dst\": \"m3\", \"sell_tick\": 7, \"profit\": -1.100034101090131, \"buy_price\": 100.55306714659818, \"sell_price\": 99.45303304550805}, {\"agent\": \"a3\", \"amt\": 1, \"buy_cost\": 99.75064825483628, \"src\": \"m3\", \"buy_tick\": 8, \"sell_cost\": -100.25065175486378, \"dst\": \"m2\", \"sell_tick\": 9, \"profit\": 0.5000035000275034, \"buy_price\": 99.75064825483628, \"sell_price\": 100.25065175486378}, {\"agent\": \"a8\", \"amt\": 1, \"buy_cost\": 100.05005005005006, \"src\": \"m2\", \"buy_tick\": 2, \"sell_cost\": -99.95004995004996, \"dst\": \"m3\", \"sell_tick\": 3, \"profit\": -0.10000010000010207, \"buy_price\": 100.05005005005006, \"sell_price\": 99.95004995004996}, {\"agent\": \"a8\", \"amt\": 1, \"buy_cost\": 99.05896437017338, \"src\": \"m3\", \"buy_tick\": 4, \"sell_cost\": -100.95913728607977, \"dst\": \"m2\", \"sell_tick\": 5, \"profit\": 1.9001729159063814, \"buy_price\": 99.05896437017338, \"sell_price\": 100.95913728607977}, {\"agent\": \"a8\", \"amt\": 1, \"buy_cost\": 100.05005005005006, \"src\": \"m2\", \"buy_tick\": 6, \"sell_cost\": -99.95004995004996, \"dst\": \"m3\", \"sell_tick\": 7, \"profit\": -0.10000010000010207, \"buy_price\": 100.05005005005006, \"sell_price\": 99.95004995004996}, {\"agent\": \"a8\", \"amt\": 1, \"buy_cost\": 99.25560757239009, \"src\": \"m3\", \"buy_tick\": 8, \"sell_cost\": -100.7556930773479, \"dst\": \"m2\", \"sell_tick\": 9, \"profit\": 1.5000855049578092, \"buy_price\": 99.25560757239009, \"sell_price\": 100.7556930773479}, {\"agent\": \"a4\", \"amt\": 1, \"buy_cost\": 100.25065175486378, \"src\": \"m2\", \"buy_tick\": 2, \"sell_cost\": -99.75064825483628, \"dst\": \"m3\", \"sell_tick\": 3, \"profit\": -0.5000035000275034, \"buy_price\": 100.25065175486378, \"sell_price\": 99.75064825483628}, {\"agent\": \"a4\", \"amt\": 1, \"buy_cost\": 99.25560757239009, \"src\": \"m3\", \"buy_tick\": 4, \"sell_cost\": -100.7556930773479, \"dst\": \"m2\", \"sell_tick\": 5, \"profit\": 1.5000855049578092, \"buy_price\": 99.25560757239009, \"sell_price\": 100.7556930773479}, {\"agent\": \"a4\", \"amt\": 1, \"buy_cost\": 100.25065175486378, \"src\": \"m2\", \"buy_tick\": 6, \"sell_cost\": -99.75064825483628, \"dst\": \"m3\", \"sell_tick\": 7, \"profit\": -0.5000035000275034, \"buy_price\": 100.25065175486378, \"sell_price\": 99.75064825483628}, {\"agent\": \"a4\", \"amt\": 1, \"buy_cost\": 99.45303304550805, \"src\": \"m3\", \"buy_tick\": 8, \"sell_cost\": -100.55306714659818, \"dst\": \"m2\", \"sell_tick\": 9, \"profit\": 1.100034101090131, \"buy_price\": 99.45303304550805, \"sell_price\": 100.55306714659818}, {\"agent\": \"a5\", \"amt\": 1, \"buy_cost\": 100.55306714659818, \"src\": \"m2\", \"buy_tick\": 2, \"sell_cost\": -99.45303304550805, \"dst\": \"m3\", \"sell_tick\": 3, \"profit\": -1.100034101090131, \"buy_price\": 100.55306714659818, \"sell_price\": 99.45303304550805}, {\"agent\": \"a5\", \"amt\": 1, \"buy_cost\": 99.55204059384354, \"src\": \"m3\", \"buy_tick\": 4, \"sell_cost\": -100.45205949425844, \"dst\": \"m2\", \"sell_tick\": 5, \"profit\": 0.9000189004148922, \"buy_price\": 99.55204059384354, \"sell_price\": 100.45205949425844}, {\"agent\": \"a5\", \"amt\": 1, \"buy_cost\": 100.45205949425844, \"src\": \"m2\", \"buy_tick\": 6, \"sell_cost\": -99.55204059384354, \"dst\": \"m3\", \"sell_tick\": 7, \"profit\": -0.9000189004148922, \"buy_price\": 100.45205949425844, \"sell_price\": 99.55204059384354}, {\"agent\": \"a5\", \"amt\": 1, \"buy_cost\": 99.65124546678689, \"src\": \"m3\", \"buy_tick\": 8, \"sell_cost\": -100.35125456691358, \"dst\": \"m2\", \"sell_tick\": 9, \"profit\": 0.7000091001266924, \"buy_price\": 99.65124546678689, \"sell_price\": 100.35125456691358}, {\"agent\": \"a2\", \"amt\": 1, \"buy_cost\": 100.85731258748088, \"src\": \"m2\", \"buy_tick\": 2, \"sell_cost\": -99.15718847829848, \"dst\": \"m3\", \"sell_tick\": 3, \"profit\": -1.700124109182397, \"buy_price\": 100.85731258748088, \"sell_price\": 99.15718847829848}, {\"agent\": \"a2\", \"amt\": 1, \"buy_cost\": 99.85024955084836, \"src\": \"m3\", \"buy_tick\": 4, \"sell_cost\": -100.15025045085166, \"dst\": \"m2\", \"sell_tick\": 5, \"profit\": 0.3000009000032975, \"buy_price\": 99.85024955084836, \"sell_price\": 100.15025045085166}, {\"agent\": \"a2\", \"amt\": 1, \"buy_cost\": 98.18362700054563, \"src\": \"ra\", \"buy_tick\": 8, \"sell_cost\": -99.85024955084836, \"dst\": \"m3\", \"sell_tick\": 9, \"profit\": 1.6666225503027334, \"buy_price\": 98.18362700054563, \"sell_price\": 99.85024955084836}, {\"agent\": \"a6\", \"amt\": 1, \"buy_cost\": 100.35125456691358, \"src\": \"m2\", \"buy_tick\": 2, \"sell_cost\": -99.65124546678689, \"dst\": \"m3\", \"sell_tick\": 3, \"profit\": -0.7000091001266924, \"buy_price\": 100.35125456691358, \"sell_price\": 99.65124546678689}, {\"agent\": \"a6\", \"amt\": 1, \"buy_cost\": 99.354222233629, \"src\": \"m3\", \"buy_tick\": 4, \"sell_cost\": -100.65427813608743, \"dst\": \"m2\", \"sell_tick\": 5, \"profit\": 1.3000559024584248, \"buy_price\": 99.354222233629, \"sell_price\": 100.65427813608743}, {\"agent\": \"a6\", \"amt\": 1, \"buy_cost\": 98.08732128769074, \"src\": \"ra\", \"buy_tick\": 8, \"sell_cost\": -99.95004995004996, \"dst\": \"m3\", \"sell_tick\": 9, \"profit\": 1.862728662359217, \"buy_price\": 98.08732128769074, \"sell_price\": 99.95004995004996}, {\"agent\": \"a7\", \"amt\": 1, \"buy_cost\": 100.15025045085166, \"src\": \"m2\", \"buy_tick\": 2, \"sell_cost\": -99.85024955084836, \"dst\": \"m3\", \"sell_tick\": 3, \"profit\": -0.3000009000032975, \"buy_price\": 100.15025045085166, \"sell_price\": 99.85024955084836}, {\"agent\": \"a7\", \"amt\": 1, \"buy_cost\": 99.15718847829848, \"src\": \"m3\", \"buy_tick\": 4, \"sell_cost\": -100.85731258748088, \"dst\": \"m2\", \"sell_tick\": 5, \"profit\": 1.700124109182397, \"buy_price\": 99.15718847829848, \"sell_price\": 100.85731258748088}, {\"agent\": \"a7\", \"amt\": 1, \"buy_cost\": 100.15025045085166, \"src\": \"m2\", \"buy_tick\": 6, \"sell_cost\": -99.85024955084836, \"dst\": \"m3\", \"sell_tick\": 7, \"profit\": -0.3000009000032975, \"buy_price\": 100.15025045085166, \"sell_price\": 99.85024955084836}, {\"agent\": \"a7\", \"amt\": 1, \"buy_cost\": 99.354222233629, \"src\": \"m3\", \"buy_tick\": 8, \"sell_cost\": -100.65427813608743, \"dst\": \"m2\", \"sell_tick\": 9, \"profit\": 1.3000559024584248, \"buy_price\": 99.354222233629, \"sell_price\": 100.65427813608743}, {\"agent\": \"a1\", \"amt\": 1, \"buy_cost\": 100.95913728607977, \"src\": \"m2\", \"buy_tick\": 2, \"sell_cost\": -99.05896437017338, \"dst\": \"m3\", \"sell_tick\": 3, \"profit\": -1.9001729159063814, \"buy_price\": 100.95913728607977, \"sell_price\": 99.05896437017338}, {\"agent\": \"a1\", \"amt\": 1, \"buy_cost\": 99.95004995004996, \"src\": \"m3\", \"buy_tick\": 4, \"sell_cost\": -100.05005005005006, \"dst\": \"m2\", \"sell_tick\": 5, \"profit\": 0.10000010000010207, \"buy_price\": 99.95004995004996, \"sell_price\": 100.05005005005006}, {\"agent\": \"a1\", \"amt\": 1, \"buy_cost\": 100.7556930773479, \"src\": \"m2\", \"buy_tick\": 6, \"sell_cost\": -99.25560757239009, \"dst\": \"m3\", \"sell_tick\": 7, \"profit\": -1.5000855049578092, \"buy_price\": 100.7556930773479, \"sell_price\": 99.25560757239009}, {\"agent\": \"a1\", \"amt\": 1, \"buy_cost\": 99.95004995004996, \"src\": \"m3\", \"buy_tick\": 8, \"sell_cost\": -100.05005005005006, \"dst\": \"m2\", \"sell_tick\": 9, \"profit\": 0.10000010000010207, \"buy_price\": 99.95004995004996, \"sell_price\": 100.05005005005006}, {\"agent\": \"a10\", \"amt\": 1, \"buy_cost\": 100.7556930773479, \"src\": \"m2\", \"buy_tick\": 2, \"sell_cost\": -99.25560757239009, \"dst\": \"m3\", \"sell_tick\": 3, \"profit\": -1.5000855049578092, \"buy_price\": 100.7556930773479, \"sell_price\": 99.25560757239009}, {\"agent\": \"a10\", \"amt\": 1, \"buy_cost\": 99.75064825483628, \"src\": \"m3\", \"buy_tick\": 4, \"sell_cost\": -100.25065175486378, \"dst\": \"m2\", \"sell_tick\": 5, \"profit\": 0.5000035000275034, \"buy_price\": 99.75064825483628, \"sell_price\": 100.25065175486378}, {\"agent\": \"a10\", \"amt\": 1, \"buy_cost\": 100.65427813608743, \"src\": \"m2\", \"buy_tick\": 6, \"sell_cost\": -99.354222233629, \"dst\": \"m3\", \"sell_tick\": 7, \"profit\": -1.3000559024584248, \"buy_price\": 100.65427813608743, \"sell_price\": 99.354222233629}, {\"agent\": \"a10\", \"amt\": 1, \"buy_cost\": 99.85024955084836, \"src\": \"m3\", \"buy_tick\": 8, \"sell_cost\": -100.15025045085166, \"dst\": \"m2\", \"sell_tick\": 9, \"profit\": 0.3000009000032975, \"buy_price\": 99.85024955084836, \"sell_price\": 100.15025045085166}]}}, {\"mode\": \"vega-lite\"});\n",
       "</script>"
      ],
      "text/plain": [
       "alt.LayerChart(...)"
      ]
     },
     "execution_count": 15,
     "metadata": {},
     "output_type": "execute_result"
    }
   ],
   "source": [
    "analysis.plot_buy_and_sell_prices(routes) + analysis.plot_trades(routes)"
   ]
  },
  {
   "cell_type": "code",
   "execution_count": null,
   "metadata": {},
   "outputs": [],
   "source": []
  },
  {
   "cell_type": "markdown",
   "metadata": {},
   "source": [
    "## Port level analysis\n",
    "- How much does each port trade?\n",
    "- Trade volume bucketted \n",
    "- Volume in dollars \n",
    "- Biggest trading partners (other ports)"
   ]
  },
  {
   "cell_type": "code",
   "execution_count": 16,
   "metadata": {},
   "outputs": [
    {
     "data": {
      "text/html": [
       "<div><style>\n",
       ".dataframe > thead > tr > th,\n",
       ".dataframe > tbody > tr > td {\n",
       "  text-align: right;\n",
       "}\n",
       "</style>\n",
       "<small>shape: (3, 2)</small><table border=\"1\" class=\"dataframe\"><thead><tr><th>port</th><th>amt</th></tr><tr><td>str</td><td>i64</td></tr></thead><tbody><tr><td>&quot;m3&quot;</td><td>-2</td></tr><tr><td>&quot;m2&quot;</td><td>0</td></tr><tr><td>&quot;ra&quot;</td><td>2</td></tr></tbody></table></div>"
      ],
      "text/plain": [
       "shape: (3, 2)\n",
       "┌──────┬─────┐\n",
       "│ port ┆ amt │\n",
       "│ ---  ┆ --- │\n",
       "│ str  ┆ i64 │\n",
       "╞══════╪═════╡\n",
       "│ m3   ┆ -2  │\n",
       "│ m2   ┆ 0   │\n",
       "│ ra   ┆ 2   │\n",
       "└──────┴─────┘"
      ]
     },
     "execution_count": 16,
     "metadata": {},
     "output_type": "execute_result"
    }
   ],
   "source": [
    "## Total goods traded per port\n",
    "events.groupby(\"port\").agg(pl.sum(\"amt\"))\n",
    "# def plot_"
   ]
  },
  {
   "cell_type": "code",
   "execution_count": null,
   "metadata": {},
   "outputs": [],
   "source": []
  },
  {
   "cell_type": "code",
   "execution_count": null,
   "metadata": {},
   "outputs": [],
   "source": []
  },
  {
   "cell_type": "code",
   "execution_count": null,
   "metadata": {},
   "outputs": [],
   "source": []
  },
  {
   "cell_type": "markdown",
   "metadata": {},
   "source": [
    "Metrics for individual agent\n",
    "- total coins\n",
    "- coins per tick\n",
    "- died?\n",
    "\n",
    "Metrics for population of agents\n",
    "- min, max, median, mean, std of agent coins\n",
    "\n",
    "How well did the agents equalize prices?\n",
    "- box plot of prices\n",
    "- stddev of pricesf\n",
    "\n",
    "Construct 'trades'\n",
    "- bought Cargo at StartPort for BuyPrice\n",
    "- sold Cargo at EndPort for SellPrice\n",
    "- profit = SellPrice - BuyPrice\n",
    "- Route = StartPort -> .. ->  EndPort\n",
    "- RouteLength = len(Route)"
   ]
  }
 ],
 "metadata": {
  "kernelspec": {
   "display_name": "Python 3.11.1 ('python-runner-gbM_3Hkn-py3.11')",
   "language": "python",
   "name": "python3"
  },
  "language_info": {
   "codemirror_mode": {
    "name": "ipython",
    "version": 3
   },
   "file_extension": ".py",
   "mimetype": "text/x-python",
   "name": "python",
   "nbconvert_exporter": "python",
   "pygments_lexer": "ipython3",
   "version": "3.11.1"
  },
  "orig_nbformat": 4,
  "vscode": {
   "interpreter": {
    "hash": "22ac618f98a8ca9d23c3764d17bdc39450ea506a0adf67a3fc0d423949e1ce92"
   }
  }
 },
 "nbformat": 4,
 "nbformat_minor": 2
}
