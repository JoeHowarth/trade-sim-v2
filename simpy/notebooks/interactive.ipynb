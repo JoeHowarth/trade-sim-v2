{
 "cells": [
  {
   "cell_type": "code",
   "execution_count": 1,
   "metadata": {},
   "outputs": [],
   "source": [
    "%reload_ext autoreload\n",
    "%autoreload 2"
   ]
  },
  {
   "cell_type": "code",
   "execution_count": 2,
   "metadata": {},
   "outputs": [],
   "source": [
    "import logging \n",
    "\n",
    "logger = logging.getLogger()\n",
    "logger.setLevel(logging.DEBUG)\n",
    "\n",
    "import json\n",
    "import polars as pl\n",
    "from polars import col, lit\n",
    "import altair as alt\n",
    "import simrs\n",
    "from history import History, tabular\n",
    "import input_builder as b\n",
    "import utils "
   ]
  },
  {
   "cell_type": "code",
   "execution_count": 3,
   "metadata": {},
   "outputs": [],
   "source": [
    "# Agents\n",
    "agent_ids = [\"a\" +str(i) for i in range(1, 5)]\n",
    "\n",
    "# Goods\n",
    "wheat = \"Wheat\"\n",
    "goods = [wheat]\n",
    "\n",
    "# Ports\n",
    "genoa = \"Genoa\"\n",
    "rome = \"Rome\"\n",
    "milan = \"Milan\"\n",
    "venice = \"Venice\"\n",
    "marsailles = \"Marsailles\"\n",
    "port_ids = [genoa, rome, milan, venice, marsailles]\n",
    "\n",
    "# genoa -> milan -> marsailles\n",
    "#   v         v\n",
    "# rome -> venice\n",
    "edges = [(genoa, milan), (milan, marsailles), (rome, venice), (rome, genoa), (venice, milan)]\n",
    "_market = lambda net: b._market(wheat, b._market_info(net=net)) \n",
    "\n",
    "# net balanced\n",
    "ports = [\n",
    "  b._port(genoa, _market(100)), \n",
    "  b._port(milan, _market(50)), \n",
    "  b._port(rome, _market(0)), \n",
    "  b._port(venice, _market(-50)),\n",
    "  b._port(marsailles, _market(-100)), \n",
    "]\n",
    "\n",
    "_agent = lambda id, pos: b._agent(id, pos, 1000, \"Greedy\")\n",
    "agents = [_agent(id, port_id) for (id, port_id) in zip(agent_ids, port_ids)]\n",
    "\n",
    "x = b._inputFormat( agents = agents, ports=ports, edges= edges, opts=b._opts(ticks=100))\n",
    "# history = simrs.run(x)\n",
    "# (actions, agents, markets) = tabular(history)"
   ]
  },
  {
   "cell_type": "code",
   "execution_count": 4,
   "metadata": {},
   "outputs": [
    {
     "name": "stderr",
     "output_type": "stream",
     "text": [
      "cost $1440.2 > wallet $1432.5999999999983\n"
     ]
    },
    {
     "ename": "RuntimeError",
     "evalue": "Invalid Action: Tried to sell when impossible. Agent: Agent { id: AgentId(u!(\"a2\")), pos: PortId(u!(\"Genoa\")), cargo: Some(Good { name: u!(\"Wheat\") }), coins: $1432.60, behavior: Greedy }, Action: Sell { good: Good { name: u!(\"Wheat\") } })\n\nLocation:\n    /rustc/8c74a5d27c644a0f7a22bb2fa8dd3ff8257bc220/library/core/src/convert/mod.rs:716:9",
     "output_type": "error",
     "traceback": [
      "\u001b[0;31m---------------------------------------------------------------------------\u001b[0m",
      "\u001b[0;31mRuntimeError\u001b[0m                              Traceback (most recent call last)",
      "Cell \u001b[0;32mIn[4], line 2\u001b[0m\n\u001b[1;32m      1\u001b[0m h \u001b[38;5;241m=\u001b[39m History\u001b[38;5;241m.\u001b[39mfrom_input(x)\n\u001b[0;32m----> 2\u001b[0m \u001b[43mh\u001b[49m\u001b[38;5;241;43m.\u001b[39;49m\u001b[43mrun\u001b[49m\u001b[43m(\u001b[49m\u001b[43m{\u001b[49m\u001b[38;5;124;43m\"\u001b[39;49m\u001b[38;5;124;43mticks\u001b[39;49m\u001b[38;5;124;43m\"\u001b[39;49m\u001b[43m:\u001b[49m\u001b[43m \u001b[49m\u001b[38;5;241;43m100\u001b[39;49m\u001b[43m}\u001b[49m\u001b[43m)\u001b[49m\n",
      "\u001b[0;31mRuntimeError\u001b[0m: Invalid Action: Tried to sell when impossible. Agent: Agent { id: AgentId(u!(\"a2\")), pos: PortId(u!(\"Genoa\")), cargo: Some(Good { name: u!(\"Wheat\") }), coins: $1432.60, behavior: Greedy }, Action: Sell { good: Good { name: u!(\"Wheat\") } })\n\nLocation:\n    /rustc/8c74a5d27c644a0f7a22bb2fa8dd3ff8257bc220/library/core/src/convert/mod.rs:716:9"
     ]
    }
   ],
   "source": [
    "h = History.from_input(x)\n",
    "h.run({\"ticks\": 100})"
   ]
  },
  {
   "cell_type": "code",
   "execution_count": null,
   "metadata": {},
   "outputs": [
    {
     "data": {
      "text/plain": [
       "{'a2': {'id': 'a2',\n",
       "  'pos': 'Milan',\n",
       "  'cargo': None,\n",
       "  'coins': 777.6000000000017,\n",
       "  'behavior': 'Greedy'},\n",
       " 'a1': {'id': 'a1',\n",
       "  'pos': 'Genoa',\n",
       "  'cargo': None,\n",
       "  'coins': 7.600000000001728,\n",
       "  'behavior': 'Greedy'},\n",
       " 'a4': {'id': 'a4',\n",
       "  'pos': 'Genoa',\n",
       "  'cargo': 'Wheat',\n",
       "  'coins': 1462.3999999999983,\n",
       "  'behavior': 'Greedy'},\n",
       " 'a3': {'id': 'a3',\n",
       "  'pos': 'Milan',\n",
       "  'cargo': 'Wheat',\n",
       "  'coins': 1482.3999999999983,\n",
       "  'behavior': 'Greedy'}}"
      ]
     },
     "execution_count": 10,
     "metadata": {},
     "output_type": "execute_result"
    }
   ],
   "source": [
    "# h.err\n",
    "dir(h)\n",
    "h.error()[\"InvalidAction\"][\"state\"][\"agents\"]"
   ]
  },
  {
   "cell_type": "code",
   "execution_count": null,
   "metadata": {
    "vscode": {
     "languageId": "javascript"
    }
   },
   "outputs": [
    {
     "name": "stdout",
     "output_type": "stream",
     "text": [
      "{'action': 'Sell', 'good': 'Wheat'}\n",
      "{'id': 'a2', 'pos': 'Genoa', 'cargo': 'Wheat', 'coins': 1432.5999999999983, 'behavior': 'Greedy'}\n",
      "{'a3': {'id': 'a3', 'pos': 'Genoa', 'cargo': None, 'coins': 37.40000000000168, 'behavior': 'Greedy'}, 'a2': {'id': 'a2', 'pos': 'Genoa', 'cargo': 'Wheat', 'coins': 1432.5999999999983, 'behavior': 'Greedy'}, 'a1': {'id': 'a1', 'pos': 'Milan', 'cargo': 'Wheat', 'coins': 1477.4000000000017, 'behavior': 'Greedy'}, 'a4': {'id': 'a4', 'pos': 'Milan', 'cargo': 'Wheat', 'coins': 1452.5999999999983, 'behavior': 'Greedy'}}\n",
      "{'id': 'Genoa', 'market': {'table': {'Wheat': {'consumption': 100.0, 'supply': 8700.0, 'production': 200.0, 'pricer': {'base_supply': 1000.0, 'base_price': 100.0, 'price_per_supply': -0.2}}}}}\n"
     ]
    },
    {
     "data": {
      "text/plain": [
       "-1440.0"
      ]
     },
     "execution_count": 6,
     "metadata": {},
     "output_type": "execute_result"
    }
   ],
   "source": [
    "e = h.error()[\"InvalidAction\"]\n",
    "print(e[\"action\"])\n",
    "print(e[\"agent\"])\n",
    "print(e[\"state\"][\"agents\"])\n",
    "print(e[\"state\"][\"ports\"][\"Genoa\"])\n",
    "utils.price(e[\"state\"][\"ports\"][\"Genoa\"][\"market\"][\"table\"][\"Wheat\"])"
   ]
  },
  {
   "cell_type": "code",
   "execution_count": null,
   "metadata": {},
   "outputs": [
    {
     "data": {
      "text/plain": [
       "{'id': 'Genoa',\n",
       " 'market': {'table': {'Wheat': {'consumption': 100.0,\n",
       "    'supply': 8900.0,\n",
       "    'production': 200.0,\n",
       "    'pricer': {'base_supply': 1000.0,\n",
       "     'base_price': 100.0,\n",
       "     'price_per_supply': -0.2}}}}}"
      ]
     },
     "execution_count": 14,
     "metadata": {},
     "output_type": "execute_result"
    }
   ],
   "source": [
    "h.error()[\"InvalidAction\"][\"state\"][\"ports\"][\"Genoa\"]"
   ]
  },
  {
   "cell_type": "code",
   "execution_count": null,
   "metadata": {},
   "outputs": [
    {
     "data": {
      "text/plain": [
       "{'a2': {'id': 'a2',\n",
       "  'pos': 'Milan',\n",
       "  'cargo': 'Wheat',\n",
       "  'coins': 1467.6000000000017,\n",
       "  'behavior': 'Greedy'},\n",
       " 'a1': {'id': 'a1',\n",
       "  'pos': 'Genoa',\n",
       "  'cargo': 'Wheat',\n",
       "  'coins': 1487.6000000000017,\n",
       "  'behavior': 'Greedy'},\n",
       " 'a4': {'id': 'a4',\n",
       "  'pos': 'Genoa',\n",
       "  'cargo': 'Wheat',\n",
       "  'coins': 1462.3999999999983,\n",
       "  'behavior': 'Greedy'},\n",
       " 'a3': {'id': 'a3',\n",
       "  'pos': 'Milan',\n",
       "  'cargo': 'Wheat',\n",
       "  'coins': 1482.3999999999983,\n",
       "  'behavior': 'Greedy'}}"
      ]
     },
     "execution_count": 11,
     "metadata": {},
     "output_type": "execute_result"
    }
   ],
   "source": [
    "h.history[\"states\"][-1][\"agents\"]"
   ]
  },
  {
   "cell_type": "code",
   "execution_count": null,
   "metadata": {},
   "outputs": [
    {
     "name": "stderr",
     "output_type": "stream",
     "text": [
      "bad 2\n",
      "sus 2\n"
     ]
    },
    {
     "data": {
      "text/plain": [
       "'hi'"
      ]
     },
     "execution_count": 5,
     "metadata": {},
     "output_type": "execute_result"
    }
   ],
   "source": [
    "simrs.bar()"
   ]
  },
  {
   "cell_type": "code",
   "execution_count": null,
   "metadata": {},
   "outputs": [],
   "source": []
  },
  {
   "cell_type": "code",
   "execution_count": null,
   "metadata": {},
   "outputs": [],
   "source": [
    "markets.select(col(\"pricer\").struct.field(\"base_price\")).head()\n",
    "markets.select(col(\"pricer\")).schema"
   ]
  },
  {
   "cell_type": "code",
   "execution_count": null,
   "metadata": {},
   "outputs": [
    {
     "data": {
      "text/html": [
       "\n",
       "<style>\n",
       "  #altair-viz-7cc0c7c495f34b089ced316daf85ffa5.vega-embed {\n",
       "    width: 100%;\n",
       "    display: flex;\n",
       "  }\n",
       "\n",
       "  #altair-viz-7cc0c7c495f34b089ced316daf85ffa5.vega-embed details,\n",
       "  #altair-viz-7cc0c7c495f34b089ced316daf85ffa5.vega-embed details summary {\n",
       "    position: relative;\n",
       "  }\n",
       "</style>\n",
       "<div id=\"altair-viz-7cc0c7c495f34b089ced316daf85ffa5\"></div>\n",
       "<script type=\"text/javascript\">\n",
       "  var VEGA_DEBUG = (typeof VEGA_DEBUG == \"undefined\") ? {} : VEGA_DEBUG;\n",
       "  (function(spec, embedOpt){\n",
       "    let outputDiv = document.currentScript.previousElementSibling;\n",
       "    if (outputDiv.id !== \"altair-viz-7cc0c7c495f34b089ced316daf85ffa5\") {\n",
       "      outputDiv = document.getElementById(\"altair-viz-7cc0c7c495f34b089ced316daf85ffa5\");\n",
       "    }\n",
       "    const paths = {\n",
       "      \"vega\": \"https://cdn.jsdelivr.net/npm/vega@5?noext\",\n",
       "      \"vega-lib\": \"https://cdn.jsdelivr.net/npm/vega-lib?noext\",\n",
       "      \"vega-lite\": \"https://cdn.jsdelivr.net/npm/vega-lite@5.8.0?noext\",\n",
       "      \"vega-embed\": \"https://cdn.jsdelivr.net/npm/vega-embed@6?noext\",\n",
       "    };\n",
       "\n",
       "    function maybeLoadScript(lib, version) {\n",
       "      var key = `${lib.replace(\"-\", \"\")}_version`;\n",
       "      return (VEGA_DEBUG[key] == version) ?\n",
       "        Promise.resolve(paths[lib]) :\n",
       "        new Promise(function(resolve, reject) {\n",
       "          var s = document.createElement('script');\n",
       "          document.getElementsByTagName(\"head\")[0].appendChild(s);\n",
       "          s.async = true;\n",
       "          s.onload = () => {\n",
       "            VEGA_DEBUG[key] = version;\n",
       "            return resolve(paths[lib]);\n",
       "          };\n",
       "          s.onerror = () => reject(`Error loading script: ${paths[lib]}`);\n",
       "          s.src = paths[lib];\n",
       "        });\n",
       "    }\n",
       "\n",
       "    function showError(err) {\n",
       "      outputDiv.innerHTML = `<div class=\"error\" style=\"color:red;\">${err}</div>`;\n",
       "      throw err;\n",
       "    }\n",
       "\n",
       "    function displayChart(vegaEmbed) {\n",
       "      vegaEmbed(outputDiv, spec, embedOpt)\n",
       "        .catch(err => showError(`Javascript Error: ${err.message}<br>This usually means there's a typo in your chart specification. See the javascript console for the full traceback.`));\n",
       "    }\n",
       "\n",
       "    if(typeof define === \"function\" && define.amd) {\n",
       "      requirejs.config({paths});\n",
       "      require([\"vega-embed\"], displayChart, err => showError(`Error loading script: ${err.message}`));\n",
       "    } else {\n",
       "      maybeLoadScript(\"vega\", \"5\")\n",
       "        .then(() => maybeLoadScript(\"vega-lite\", \"5.8.0\"))\n",
       "        .then(() => maybeLoadScript(\"vega-embed\", \"6\"))\n",
       "        .catch(showError)\n",
       "        .then(() => displayChart(vegaEmbed));\n",
       "    }\n",
       "  })({\"config\": {\"view\": {\"continuousWidth\": 300, \"continuousHeight\": 300}}, \"layer\": [{\"mark\": {\"type\": \"point\"}, \"encoding\": {\"color\": {\"field\": \"id\", \"type\": \"ordinal\"}, \"x\": {\"field\": \"tick\", \"type\": \"quantitative\"}, \"y\": {\"field\": \"coins\", \"scale\": {\"zero\": false}, \"type\": \"quantitative\"}}, \"name\": \"view_7\"}, {\"mark\": {\"type\": \"line\", \"size\": 4}, \"encoding\": {\"color\": {\"field\": \"id\", \"type\": \"ordinal\"}, \"x\": {\"field\": \"tick\", \"type\": \"quantitative\"}, \"y\": {\"field\": \"coins\", \"scale\": {\"zero\": false}, \"type\": \"quantitative\"}}, \"transform\": [{\"loess\": \"coins\", \"on\": \"tick\", \"bandwidth\": 0.5, \"groupby\": [\"id\"]}]}], \"data\": {\"name\": \"data-d73c1e7d6e18cf93ad2a6cd28c31ac9c\"}, \"params\": [{\"name\": \"param_11\", \"select\": {\"type\": \"interval\", \"encodings\": [\"x\", \"y\"]}, \"bind\": \"scales\", \"views\": [\"view_7\"]}], \"$schema\": \"https://vega.github.io/schema/vega-lite/v5.8.0.json\", \"datasets\": {\"data-d73c1e7d6e18cf93ad2a6cd28c31ac9c\": [{\"behavior\": \"Greedy\", \"cargo\": null, \"coins\": 1000.0, \"id\": \"a4\", \"pos\": \"Venice\", \"tick\": 0}, {\"behavior\": \"Greedy\", \"cargo\": null, \"coins\": 1000.0, \"id\": \"a2\", \"pos\": \"Rome\", \"tick\": 0}, {\"behavior\": \"Greedy\", \"cargo\": null, \"coins\": 1000.0, \"id\": \"a1\", \"pos\": \"Genoa\", \"tick\": 0}, {\"behavior\": \"Greedy\", \"cargo\": null, \"coins\": 1000.0, \"id\": \"a3\", \"pos\": \"Milan\", \"tick\": 0}, {\"behavior\": \"Greedy\", \"cargo\": \"Wheat\", \"coins\": 900.0, \"id\": \"a4\", \"pos\": \"Rome\", \"tick\": 1}, {\"behavior\": \"Greedy\", \"cargo\": \"Wheat\", \"coins\": 900.0, \"id\": \"a2\", \"pos\": \"Venice\", \"tick\": 1}, {\"behavior\": \"Greedy\", \"cargo\": \"Wheat\", \"coins\": 900.0, \"id\": \"a1\", \"pos\": \"Milan\", \"tick\": 1}, {\"behavior\": \"Greedy\", \"cargo\": \"Wheat\", \"coins\": 900.0, \"id\": \"a3\", \"pos\": \"Genoa\", \"tick\": 1}, {\"behavior\": \"Greedy\", \"cargo\": null, \"coins\": 999.8, \"id\": \"a4\", \"pos\": \"Rome\", \"tick\": 2}, {\"behavior\": \"Greedy\", \"cargo\": null, \"coins\": 1009.8, \"id\": \"a2\", \"pos\": \"Venice\", \"tick\": 2}, {\"behavior\": \"Greedy\", \"cargo\": null, \"coins\": 989.8, \"id\": \"a1\", \"pos\": \"Milan\", \"tick\": 2}, {\"behavior\": \"Greedy\", \"cargo\": null, \"coins\": 979.8, \"id\": \"a3\", \"pos\": \"Genoa\", \"tick\": 2}, {\"behavior\": \"Greedy\", \"cargo\": \"Wheat\", \"coins\": 899.8, \"id\": \"a4\", \"pos\": \"Genoa\", \"tick\": 3}, {\"behavior\": \"Greedy\", \"cargo\": \"Wheat\", \"coins\": 889.8, \"id\": \"a2\", \"pos\": \"Milan\", \"tick\": 3}, {\"behavior\": \"Greedy\", \"cargo\": \"Wheat\", \"coins\": 909.8, \"id\": \"a1\", \"pos\": \"Genoa\", \"tick\": 3}, {\"behavior\": \"Greedy\", \"cargo\": \"Wheat\", \"coins\": 919.8, \"id\": \"a3\", \"pos\": \"Milan\", \"tick\": 3}, {\"behavior\": \"Greedy\", \"cargo\": null, \"coins\": 939.5999999999999, \"id\": \"a4\", \"pos\": \"Genoa\", \"tick\": 4}, {\"behavior\": \"Greedy\", \"cargo\": null, \"coins\": 959.5999999999999, \"id\": \"a2\", \"pos\": \"Milan\", \"tick\": 4}, {\"behavior\": \"Greedy\", \"cargo\": null, \"coins\": 949.5999999999999, \"id\": \"a1\", \"pos\": \"Genoa\", \"tick\": 4}, {\"behavior\": \"Greedy\", \"cargo\": null, \"coins\": 989.5999999999999, \"id\": \"a3\", \"pos\": \"Milan\", \"tick\": 4}, {\"behavior\": \"Greedy\", \"cargo\": \"Wheat\", \"coins\": 919.5999999999999, \"id\": \"a4\", \"pos\": \"Milan\", \"tick\": 5}, {\"behavior\": \"Greedy\", \"cargo\": \"Wheat\", \"coins\": 899.5999999999999, \"id\": \"a2\", \"pos\": \"Genoa\", \"tick\": 5}, {\"behavior\": \"Greedy\", \"cargo\": \"Wheat\", \"coins\": 929.5999999999999, \"id\": \"a1\", \"pos\": \"Milan\", \"tick\": 5}, {\"behavior\": \"Greedy\", \"cargo\": \"Wheat\", \"coins\": 929.5999999999999, \"id\": \"a3\", \"pos\": \"Genoa\", \"tick\": 5}, {\"behavior\": \"Greedy\", \"cargo\": null, \"coins\": 969.3999999999999, \"id\": \"a4\", \"pos\": \"Milan\", \"tick\": 6}, {\"behavior\": \"Greedy\", \"cargo\": null, \"coins\": 899.3999999999999, \"id\": \"a2\", \"pos\": \"Genoa\", \"tick\": 6}, {\"behavior\": \"Greedy\", \"cargo\": null, \"coins\": 979.3999999999999, \"id\": \"a1\", \"pos\": \"Milan\", \"tick\": 6}, {\"behavior\": \"Greedy\", \"cargo\": null, \"coins\": 929.3999999999999, \"id\": \"a3\", \"pos\": \"Genoa\", \"tick\": 6}, {\"behavior\": \"Greedy\", \"cargo\": \"Wheat\", \"coins\": 929.3999999999999, \"id\": \"a4\", \"pos\": \"Genoa\", \"tick\": 7}, {\"behavior\": \"Greedy\", \"cargo\": \"Wheat\", \"coins\": 919.3999999999999, \"id\": \"a2\", \"pos\": \"Milan\", \"tick\": 7}, {\"behavior\": \"Greedy\", \"cargo\": \"Wheat\", \"coins\": 939.3999999999999, \"id\": \"a1\", \"pos\": \"Genoa\", \"tick\": 7}, {\"behavior\": \"Greedy\", \"cargo\": \"Wheat\", \"coins\": 949.3999999999999, \"id\": \"a3\", \"pos\": \"Milan\", \"tick\": 7}, {\"behavior\": \"Greedy\", \"cargo\": null, \"coins\": 889.1999999999998, \"id\": \"a4\", \"pos\": \"Genoa\", \"tick\": 8}, {\"behavior\": \"Greedy\", \"cargo\": null, \"coins\": 949.1999999999998, \"id\": \"a2\", \"pos\": \"Milan\", \"tick\": 8}, {\"behavior\": \"Greedy\", \"cargo\": null, \"coins\": 899.1999999999998, \"id\": \"a1\", \"pos\": \"Genoa\", \"tick\": 8}, {\"behavior\": \"Greedy\", \"cargo\": null, \"coins\": 979.1999999999998, \"id\": \"a3\", \"pos\": \"Milan\", \"tick\": 8}, {\"behavior\": \"Greedy\", \"cargo\": \"Wheat\", \"coins\": 949.1999999999998, \"id\": \"a4\", \"pos\": \"Milan\", \"tick\": 9}, {\"behavior\": \"Greedy\", \"cargo\": \"Wheat\", \"coins\": 929.1999999999998, \"id\": \"a2\", \"pos\": \"Genoa\", \"tick\": 9}, {\"behavior\": \"Greedy\", \"cargo\": \"Wheat\", \"coins\": 959.1999999999998, \"id\": \"a1\", \"pos\": \"Milan\", \"tick\": 9}, {\"behavior\": \"Greedy\", \"cargo\": \"Wheat\", \"coins\": 959.1999999999998, \"id\": \"a3\", \"pos\": \"Genoa\", \"tick\": 9}, {\"behavior\": \"Greedy\", \"cargo\": null, \"coins\": 958.9999999999998, \"id\": \"a4\", \"pos\": \"Milan\", \"tick\": 10}, {\"behavior\": \"Greedy\", \"cargo\": null, \"coins\": 848.9999999999998, \"id\": \"a2\", \"pos\": \"Genoa\", \"tick\": 10}, {\"behavior\": \"Greedy\", \"cargo\": null, \"coins\": 968.9999999999998, \"id\": \"a1\", \"pos\": \"Milan\", \"tick\": 10}, {\"behavior\": \"Greedy\", \"cargo\": null, \"coins\": 878.9999999999998, \"id\": \"a3\", \"pos\": \"Genoa\", \"tick\": 10}]}}, {\"mode\": \"vega-lite\"});\n",
       "</script>"
      ],
      "text/plain": [
       "alt.LayerChart(...)"
      ]
     },
     "execution_count": 23,
     "metadata": {},
     "output_type": "execute_result"
    }
   ],
   "source": [
    "def plot_agents(agents: pl.DataFrame):\n",
    "    base = alt.Chart(agents).encode(\n",
    "        x='tick:Q',\n",
    "        y=alt.Y('coins:Q').scale(zero=False),\n",
    "        color='id:O',\n",
    "    )\n",
    "    lines = base.transform_loess('tick', 'coins', bandwidth=.5, groupby=['id']).mark_line(size=4)\n",
    "    return (base.mark_point() + lines).interactive() \n",
    "  \n",
    "plot_agents(agents)"
   ]
  },
  {
   "cell_type": "code",
   "execution_count": null,
   "metadata": {},
   "outputs": [
    {
     "name": "stdout",
     "output_type": "stream",
     "text": [
      "3\n",
      "4\n"
     ]
    }
   ],
   "source": [
    "class DotDict(dict):\n",
    "    def __getattr__(self, name):\n",
    "        return self.get(name, None)\n",
    "\n",
    "    def __setattr__(self, name, value):\n",
    "        self[name] = value\n",
    "\n",
    "    def __delattr__(self, name):\n",
    "        if name in self:\n",
    "            del self[name]\n",
    "\n",
    "def recursive_dotdict(obj):\n",
    "    if isinstance(obj, dict):\n",
    "        return DotDict({k: recursive_dotdict(v) for k, v in obj.items()})\n",
    "    elif isinstance(obj, list):\n",
    "        return [recursive_dotdict(element) for element in obj]\n",
    "    else:\n",
    "        return obj\n",
    "\n",
    "# Test the function\n",
    "nested_dict = {'a': 1, 'b': {'c': 2, 'd': {'e': 3}}, 'f': [1, {'g': 4}]}\n",
    "nested_dot_dict = recursive_dotdict(nested_dict)\n",
    "\n",
    "print(nested_dot_dict.b.d.e)  # Should print 3\n",
    "print(nested_dot_dict.f[1].g)  # Should print 4"
   ]
  },
  {
   "cell_type": "code",
   "execution_count": null,
   "metadata": {},
   "outputs": [
    {
     "name": "stderr",
     "output_type": "stream",
     "text": [
      "DEBUG:root:test\n"
     ]
    }
   ],
   "source": [
    "logger = logging.getLogger()\n",
    "logger.setLevel(logging.DEBUG)\n",
    "logging.debug(\"test\")"
   ]
  },
  {
   "cell_type": "markdown",
   "metadata": {},
   "source": [
    "Metrics for individual agent\n",
    "- total coins\n",
    "- coins per tick\n",
    "- died?\n",
    "\n",
    "Metrics for population of agents\n",
    "- min, max, median, mean, std of agent coins\n",
    "\n",
    "How well did the agents equalize prices?\n",
    "- box plot of prices\n",
    "- stddev of pricesf\n",
    "\n",
    "Construct 'trades'\n",
    "- bought Cargo at StartPort for BuyPrice\n",
    "- sold Cargo at EndPort for SellPrice\n",
    "- profit = SellPrice - BuyPrice\n",
    "- Route = StartPort -> .. ->  EndPort\n",
    "- RouteLength = len(Route)"
   ]
  }
 ],
 "metadata": {
  "kernelspec": {
   "display_name": "Python 3.11.1 ('python-runner-gbM_3Hkn-py3.11')",
   "language": "python",
   "name": "python3"
  },
  "language_info": {
   "codemirror_mode": {
    "name": "ipython",
    "version": 3
   },
   "file_extension": ".py",
   "mimetype": "text/x-python",
   "name": "python",
   "nbconvert_exporter": "python",
   "pygments_lexer": "ipython3",
   "version": "3.11.1"
  },
  "orig_nbformat": 4,
  "vscode": {
   "interpreter": {
    "hash": "22ac618f98a8ca9d23c3764d17bdc39450ea506a0adf67a3fc0d423949e1ce92"
   }
  }
 },
 "nbformat": 4,
 "nbformat_minor": 2
}
