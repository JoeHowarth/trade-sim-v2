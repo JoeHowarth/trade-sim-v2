{
 "cells": [
  {
   "cell_type": "code",
   "execution_count": 1,
   "metadata": {},
   "outputs": [],
   "source": [
    "%reload_ext autoreload\n",
    "%autoreload 2"
   ]
  },
  {
   "cell_type": "code",
   "execution_count": 4,
   "metadata": {},
   "outputs": [
    {
     "data": {
      "text/plain": [
       "['History',\n",
       " '__builtins__',\n",
       " '__cached__',\n",
       " '__doc__',\n",
       " '__file__',\n",
       " '__loader__',\n",
       " '__name__',\n",
       " '__package__',\n",
       " '__path__',\n",
       " '__spec__',\n",
       " 'bar',\n",
       " 'run',\n",
       " 'simrs']"
      ]
     },
     "execution_count": 4,
     "metadata": {},
     "output_type": "execute_result"
    }
   ],
   "source": [
    "import json\n",
    "import polars as pl\n",
    "from polars import col, lit\n",
    "import altair as alt\n",
    "import simrs\n",
    "dir(simrs)"
   ]
  },
  {
   "cell_type": "code",
   "execution_count": 6,
   "metadata": {},
   "outputs": [],
   "source": [
    "\n",
    "ports = json.loads(\"\"\"[{\n",
    "      \"id\": \"Rome\",\n",
    "      \"market\": {\n",
    "        \"table\": {\n",
    "          \"Wheat\": {\n",
    "            \"consumption\": 30.0,\n",
    "            \"supply\": 100.0,\n",
    "            \"production\": 20.0,\n",
    "            \"pricer\": {\n",
    "              \"base_supply\": 0.0,\n",
    "              \"base_price\": 100.0,\n",
    "              \"price_per_supply\": -0.2\n",
    "            }\n",
    "          }\n",
    "        }\n",
    "      }\n",
    "    },\n",
    "    {\n",
    "      \"id\": \"Genoa\",\n",
    "      \"market\": {\n",
    "        \"table\": {\n",
    "          \"Wheat\": {\n",
    "            \"consumption\": 20.0,\n",
    "            \"supply\": 100.0,\n",
    "            \"production\": 25.0,\n",
    "            \"pricer\": {\n",
    "              \"base_supply\": 0.0,\n",
    "              \"base_price\": 100.0,\n",
    "              \"price_per_supply\": -0.2\n",
    "            }\n",
    "          }\n",
    "        }\n",
    "      }\n",
    "    }]\"\"\"\n",
    "    )\n",
    "\n",
    "inputFormat = {\n",
    "  \"opts\": {\"ticks\": 1000},\n",
    "  \"edges\": [[\"Rome\", \"Genoa\"]],\n",
    "  \"agents\": [],\n",
    "  \"ports\": ports}\n",
    "\n",
    "history = simrs.run(inputFormat)\n",
    "tabular = history.tabular()"
   ]
  },
  {
   "cell_type": "code",
   "execution_count": 36,
   "metadata": {},
   "outputs": [
    {
     "data": {
      "text/html": [
       "<div><style>\n",
       ".dataframe > thead > tr > th,\n",
       ".dataframe > tbody > tr > td {\n",
       "  text-align: right;\n",
       "}\n",
       "</style>\n",
       "<small>shape: (5, 8)</small><table border=\"1\" class=\"dataframe\"><thead><tr><th>consumption</th><th>good</th><th>port</th><th>price</th><th>pricer</th><th>production</th><th>supply</th><th>tick</th></tr><tr><td>f64</td><td>str</td><td>str</td><td>f64</td><td>struct[3]</td><td>f64</td><td>f64</td><td>i64</td></tr></thead><tbody><tr><td>20.0</td><td>&quot;Wheat&quot;</td><td>&quot;Genoa&quot;</td><td>80.0</td><td>{100.0,0.0,-0.2}</td><td>25.0</td><td>100.0</td><td>0</td></tr><tr><td>30.0</td><td>&quot;Wheat&quot;</td><td>&quot;Rome&quot;</td><td>80.0</td><td>{100.0,0.0,-0.2}</td><td>20.0</td><td>100.0</td><td>0</td></tr><tr><td>30.0</td><td>&quot;Wheat&quot;</td><td>&quot;Rome&quot;</td><td>82.0</td><td>{100.0,0.0,-0.2}</td><td>20.0</td><td>90.0</td><td>1</td></tr><tr><td>20.0</td><td>&quot;Wheat&quot;</td><td>&quot;Genoa&quot;</td><td>79.0</td><td>{100.0,0.0,-0.2}</td><td>25.0</td><td>105.0</td><td>1</td></tr><tr><td>20.0</td><td>&quot;Wheat&quot;</td><td>&quot;Genoa&quot;</td><td>78.0</td><td>{100.0,0.0,-0.2}</td><td>25.0</td><td>110.0</td><td>2</td></tr></tbody></table></div>"
      ],
      "text/plain": [
       "shape: (5, 8)\n",
       "┌─────────────┬───────┬───────┬───────┬──────────────────┬────────────┬────────┬──────┐\n",
       "│ consumption ┆ good  ┆ port  ┆ price ┆ pricer           ┆ production ┆ supply ┆ tick │\n",
       "│ ---         ┆ ---   ┆ ---   ┆ ---   ┆ ---              ┆ ---        ┆ ---    ┆ ---  │\n",
       "│ f64         ┆ str   ┆ str   ┆ f64   ┆ struct[3]        ┆ f64        ┆ f64    ┆ i64  │\n",
       "╞═════════════╪═══════╪═══════╪═══════╪══════════════════╪════════════╪════════╪══════╡\n",
       "│ 20.0        ┆ Wheat ┆ Genoa ┆ 80.0  ┆ {100.0,0.0,-0.2} ┆ 25.0       ┆ 100.0  ┆ 0    │\n",
       "│ 30.0        ┆ Wheat ┆ Rome  ┆ 80.0  ┆ {100.0,0.0,-0.2} ┆ 20.0       ┆ 100.0  ┆ 0    │\n",
       "│ 30.0        ┆ Wheat ┆ Rome  ┆ 82.0  ┆ {100.0,0.0,-0.2} ┆ 20.0       ┆ 90.0   ┆ 1    │\n",
       "│ 20.0        ┆ Wheat ┆ Genoa ┆ 79.0  ┆ {100.0,0.0,-0.2} ┆ 25.0       ┆ 105.0  ┆ 1    │\n",
       "│ 20.0        ┆ Wheat ┆ Genoa ┆ 78.0  ┆ {100.0,0.0,-0.2} ┆ 25.0       ┆ 110.0  ┆ 2    │\n",
       "└─────────────┴───────┴───────┴───────┴──────────────────┴────────────┴────────┴──────┘"
      ]
     },
     "execution_count": 36,
     "metadata": {},
     "output_type": "execute_result"
    }
   ],
   "source": [
    "agents = pl.DataFrame(tabular[\"agents\"])\n",
    "markets = pl.DataFrame(tabular[\"markets\"])\n",
    "actions = pl.DataFrame(tabular[\"actions\"])\n",
    "markets.head()"
   ]
  },
  {
   "cell_type": "code",
   "execution_count": 26,
   "metadata": {},
   "outputs": [
    {
     "data": {
      "text/plain": [
       "{'pricer': Struct([Field('base_price', Float64), Field('base_supply', Float64), Field('price_per_supply', Float64)])}"
      ]
     },
     "execution_count": 26,
     "metadata": {},
     "output_type": "execute_result"
    }
   ],
   "source": [
    "pricer = pl.DataFrame(tabular[\"markets\"])\n",
    "pricer.select(col(\"pricer\").struct.field(\"base_price\")).head()\n",
    "pricer.select(col(\"pricer\")).schema"
   ]
  },
  {
   "cell_type": "code",
   "execution_count": 30,
   "metadata": {},
   "outputs": [
    {
     "data": {
      "text/plain": [
       "Struct([Field('base_price', Float64), Field('base_supply', Float64), Field('price_per_supply', Float64)])"
      ]
     },
     "execution_count": 30,
     "metadata": {},
     "output_type": "execute_result"
    }
   ],
   "source": [
    "markets.schema[\"pricer\"]"
   ]
  },
  {
   "cell_type": "code",
   "execution_count": 31,
   "metadata": {},
   "outputs": [],
   "source": [
    "import hi"
   ]
  },
  {
   "cell_type": "code",
   "execution_count": 1,
   "metadata": {},
   "outputs": [],
   "source": [
    "## Helpers to construct InputFormat\n",
    "from typing import Tuple, Union\n",
    "\n",
    "\n",
    "def route(from_, to):\n",
    "    return [from_, to]\n",
    "\n",
    "def agent(id, pos, cargo, coins, behavior):\n",
    "    return {\n",
    "        \"id\": id,\n",
    "        \"pos\": pos,\n",
    "        \"cargo\": cargo,\n",
    "        \"coins\": coins,\n",
    "        \"behavior\": behavior\n",
    "    }\n",
    "\n",
    "def market_info(consumption, supply, production, pricer):\n",
    "    return {\n",
    "        \"consumption\": consumption,\n",
    "        \"supply\": supply,\n",
    "        \"production\": production,\n",
    "        \"pricer\": pricer\n",
    "    }\n",
    "\n",
    "\n",
    "def pricer(base_price=100, price_per_supply = -0.2, base_supply = 0):\n",
    "    assert price_per_supply < 0\n",
    "    return {\n",
    "        \"base_price\": base_price,\n",
    "        \"base_supply\": base_supply,\n",
    "        \"price_per_supply\": price_per_supply\n",
    "    }\n",
    "\n",
    "\n",
    "def market(table: list[Tuple[str, dict]]):\n",
    "    return {\n",
    "        \"table\": {k: market_info(**v) for k, v in table},\n",
    "    }\n",
    "  \n",
    "def port(id, market):\n",
    "    return {\n",
    "        \"id\": id,\n",
    "        \"market\": market\n",
    "    }\n"
   ]
  },
  {
   "cell_type": "code",
   "execution_count": 2,
   "metadata": {},
   "outputs": [
    {
     "data": {
      "text/plain": [
       "{'base_price': 100, 'base_supply': 0, 'price_per_supply': -0.2}"
      ]
     },
     "execution_count": 2,
     "metadata": {},
     "output_type": "execute_result"
    }
   ],
   "source": [
    "pricer()"
   ]
  },
  {
   "cell_type": "markdown",
   "metadata": {},
   "source": [
    "Metrics for individual agent\n",
    "- total coins\n",
    "- coins per tick\n",
    "- died?\n",
    "\n",
    "Metrics for population of agents\n",
    "- min, max, median, mean, std of agent coins\n",
    "\n",
    "How well did the agents equalize prices?\n",
    "- box plot of prices\n",
    "- stddev of pricesf\n",
    "\n",
    "Construct 'trades'\n",
    "- bought Cargo at StartPort for BuyPrice\n",
    "- sold Cargo at EndPort for SellPrice\n",
    "- profit = SellPrice - BuyPrice\n",
    "- Route = StartPort -> .. ->  EndPort\n",
    "- RouteLength = len(Route)"
   ]
  }
 ],
 "metadata": {
  "kernelspec": {
   "display_name": "Python 3.11.1 ('python-runner-nNZjqLZS-py3.11')",
   "language": "python",
   "name": "python3"
  },
  "language_info": {
   "codemirror_mode": {
    "name": "ipython",
    "version": 3
   },
   "file_extension": ".py",
   "mimetype": "text/x-python",
   "name": "python",
   "nbconvert_exporter": "python",
   "pygments_lexer": "ipython3",
   "version": "3.11.1"
  },
  "orig_nbformat": 4,
  "vscode": {
   "interpreter": {
    "hash": "53baa265ad06021388605ddb341b4bc2860d001dc335485f0b0a9605c39c853f"
   }
  }
 },
 "nbformat": 4,
 "nbformat_minor": 2
}
