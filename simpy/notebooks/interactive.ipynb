{
 "cells": [
  {
   "cell_type": "code",
   "execution_count": 1,
   "metadata": {},
   "outputs": [],
   "source": [
    "%reload_ext autoreload\n",
    "%autoreload 2"
   ]
  },
  {
   "cell_type": "code",
   "execution_count": 2,
   "metadata": {},
   "outputs": [],
   "source": [
    "import json\n",
    "import polars as pl\n",
    "from polars import col, lit\n",
    "import altair as alt\n",
    "import simrs\n",
    "from history import History, tabular\n",
    "import input_builder as b"
   ]
  },
  {
   "cell_type": "code",
   "execution_count": 4,
   "metadata": {},
   "outputs": [],
   "source": [
    "# Agents\n",
    "agent_ids = [\"a\" +str(i) for i in range(1, 5)]\n",
    "\n",
    "# Goods\n",
    "wheat = \"Wheat\"\n",
    "goods = [wheat]\n",
    "\n",
    "# Ports\n",
    "genoa = \"Genoa\"\n",
    "rome = \"Rome\"\n",
    "milan = \"Milan\"\n",
    "venice = \"Venice\"\n",
    "marsailles = \"Marsailles\"\n",
    "port_ids = [genoa, rome, milan, venice, marsailles]\n",
    "\n",
    "# genoa <-> milan <-> marsailles\n",
    "#   |         |\n",
    "# rome <-> venice\n",
    "edges = [(genoa, milan), (milan, marsailles), (rome, venice), (rome, genoa), (venice, milan)]\n",
    "_market = lambda net: b._market(wheat, b._market_info(net=net)) \n",
    "\n",
    "# net balanced\n",
    "ports = [\n",
    "  b._port(genoa, _market(100)), \n",
    "  b._port(milan, _market(50)), \n",
    "  b._port(marsailles, _market(-100)), \n",
    "  b._port(rome, _market(0)), \n",
    "  b._port(venice, _market(-50))\n",
    "]\n",
    "\n",
    "_agent = lambda id, pos: b._agent(id, pos, 100, \"Random\")\n",
    "agents = [_agent(id, port_id) for (id, port_id) in zip(agent_ids, port_ids)]\n",
    "\n",
    "x = b._inputFormat( agents = agents, ports=ports, edges= edges, opts=b._opts(ticks=10))\n",
    "history = simrs.run(x)\n",
    "(actions, agents, markets) = tabular(history)"
   ]
  },
  {
   "cell_type": "code",
   "execution_count": null,
   "metadata": {},
   "outputs": [],
   "source": [
    "markets.select(col(\"pricer\").struct.field(\"base_price\")).head()\n",
    "markets.select(col(\"pricer\")).schema"
   ]
  },
  {
   "cell_type": "code",
   "execution_count": null,
   "metadata": {},
   "outputs": [],
   "source": [
    "markets.schema[\"pricer\"]"
   ]
  },
  {
   "cell_type": "markdown",
   "metadata": {},
   "source": [
    "Metrics for individual agent\n",
    "- total coins\n",
    "- coins per tick\n",
    "- died?\n",
    "\n",
    "Metrics for population of agents\n",
    "- min, max, median, mean, std of agent coins\n",
    "\n",
    "How well did the agents equalize prices?\n",
    "- box plot of prices\n",
    "- stddev of pricesf\n",
    "\n",
    "Construct 'trades'\n",
    "- bought Cargo at StartPort for BuyPrice\n",
    "- sold Cargo at EndPort for SellPrice\n",
    "- profit = SellPrice - BuyPrice\n",
    "- Route = StartPort -> .. ->  EndPort\n",
    "- RouteLength = len(Route)"
   ]
  }
 ],
 "metadata": {
  "kernelspec": {
   "display_name": "Python 3.11.1 ('python-runner-nNZjqLZS-py3.11')",
   "language": "python",
   "name": "python3"
  },
  "language_info": {
   "codemirror_mode": {
    "name": "ipython",
    "version": 3
   },
   "file_extension": ".py",
   "mimetype": "text/x-python",
   "name": "python",
   "nbconvert_exporter": "python",
   "pygments_lexer": "ipython3",
   "version": "3.11.1"
  },
  "orig_nbformat": 4,
  "vscode": {
   "interpreter": {
    "hash": "53baa265ad06021388605ddb341b4bc2860d001dc335485f0b0a9605c39c853f"
   }
  }
 },
 "nbformat": 4,
 "nbformat_minor": 2
}
