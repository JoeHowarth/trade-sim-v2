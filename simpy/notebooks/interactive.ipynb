{
 "cells": [
  {
   "cell_type": "code",
   "execution_count": 1,
   "metadata": {},
   "outputs": [],
   "source": [
    "%reload_ext autoreload\n",
    "%autoreload 2"
   ]
  },
  {
   "cell_type": "code",
   "execution_count": 2,
   "metadata": {},
   "outputs": [],
   "source": [
    "import utils \n",
    "utils.init_logging()\n",
    "\n",
    "import polars as pl\n",
    "from polars import col, lit\n",
    "import altair as alt\n",
    "import simrs\n",
    "from scenarios import builder as b\n",
    "import scenarios\n",
    "import cli\n",
    "import analysis\n",
    "from asgiref.sync import async_to_sync"
   ]
  },
  {
   "cell_type": "code",
   "execution_count": 7,
   "metadata": {},
   "outputs": [
    {
     "data": {
      "text/html": [
       "<div><style>\n",
       ".dataframe > thead > tr > th,\n",
       ".dataframe > tbody > tr > td {\n",
       "  text-align: right;\n",
       "}\n",
       "</style>\n",
       "<small>shape: (11, 6)</small><table border=\"1\" class=\"dataframe\"><thead><tr><th>behavior</th><th>cargo</th><th>coins</th><th>id</th><th>pos</th><th>tick</th></tr><tr><td>str</td><td>str</td><td>f64</td><td>str</td><td>str</td><td>i64</td></tr></thead><tbody><tr><td>&quot;Exhaustive&quot;</td><td>null</td><td>1000.0</td><td>&quot;a1&quot;</td><td>&quot;la&quot;</td><td>0</td></tr><tr><td>&quot;Exhaustive&quot;</td><td>null</td><td>999.9</td><td>&quot;a1&quot;</td><td>&quot;m1&quot;</td><td>1</td></tr><tr><td>&quot;Exhaustive&quot;</td><td>null</td><td>999.8</td><td>&quot;a1&quot;</td><td>&quot;m2&quot;</td><td>2</td></tr><tr><td>&quot;Exhaustive&quot;</td><td>&quot;Wheat&quot;</td><td>899.64995</td><td>&quot;a1&quot;</td><td>&quot;m3&quot;</td><td>3</td></tr><tr><td>&quot;Exhaustive&quot;</td><td>null</td><td>999.5</td><td>&quot;a1&quot;</td><td>&quot;m3&quot;</td><td>4</td></tr><tr><td>&quot;Exhaustive&quot;</td><td>&quot;Wheat&quot;</td><td>899.44995</td><td>&quot;a1&quot;</td><td>&quot;m2&quot;</td><td>5</td></tr><tr><td>&quot;Exhaustive&quot;</td><td>null</td><td>999.4</td><td>&quot;a1&quot;</td><td>&quot;m2&quot;</td><td>6</td></tr><tr><td>&quot;Exhaustive&quot;</td><td>&quot;Wheat&quot;</td><td>899.24995</td><td>&quot;a1&quot;</td><td>&quot;m3&quot;</td><td>7</td></tr><tr><td>&quot;Exhaustive&quot;</td><td>null</td><td>999.1</td><td>&quot;a1&quot;</td><td>&quot;m3&quot;</td><td>8</td></tr><tr><td>&quot;Exhaustive&quot;</td><td>&quot;Wheat&quot;</td><td>899.04995</td><td>&quot;a1&quot;</td><td>&quot;m2&quot;</td><td>9</td></tr><tr><td>&quot;Exhaustive&quot;</td><td>null</td><td>999.0</td><td>&quot;a1&quot;</td><td>&quot;m2&quot;</td><td>10</td></tr></tbody></table></div>"
      ],
      "text/plain": [
       "shape: (11, 6)\n",
       "┌────────────┬───────┬───────────┬─────┬─────┬──────┐\n",
       "│ behavior   ┆ cargo ┆ coins     ┆ id  ┆ pos ┆ tick │\n",
       "│ ---        ┆ ---   ┆ ---       ┆ --- ┆ --- ┆ ---  │\n",
       "│ str        ┆ str   ┆ f64       ┆ str ┆ str ┆ i64  │\n",
       "╞════════════╪═══════╪═══════════╪═════╪═════╪══════╡\n",
       "│ Exhaustive ┆ null  ┆ 1000.0    ┆ a1  ┆ la  ┆ 0    │\n",
       "│ Exhaustive ┆ null  ┆ 999.9     ┆ a1  ┆ m1  ┆ 1    │\n",
       "│ Exhaustive ┆ null  ┆ 999.8     ┆ a1  ┆ m2  ┆ 2    │\n",
       "│ Exhaustive ┆ Wheat ┆ 899.64995 ┆ a1  ┆ m3  ┆ 3    │\n",
       "│ …          ┆ …     ┆ …         ┆ …   ┆ …   ┆ …    │\n",
       "│ Exhaustive ┆ Wheat ┆ 899.24995 ┆ a1  ┆ m3  ┆ 7    │\n",
       "│ Exhaustive ┆ null  ┆ 999.1     ┆ a1  ┆ m3  ┆ 8    │\n",
       "│ Exhaustive ┆ Wheat ┆ 899.04995 ┆ a1  ┆ m2  ┆ 9    │\n",
       "│ Exhaustive ┆ null  ┆ 999.0     ┆ a1  ┆ m2  ┆ 10   │\n",
       "└────────────┴───────┴───────────┴─────┴─────┴──────┘"
      ]
     },
     "execution_count": 7,
     "metadata": {},
     "output_type": "execute_result"
    }
   ],
   "source": [
    "from replay_cache import Replay\n",
    "import replay_cache\n",
    "import scenarios.examples as ex\n",
    "\n",
    "# x = ex.small_replay()\n",
    "\n",
    "# b.save_scenario(x, \"basic\")\n",
    "await cli.run_channel(\"last\")\n",
    "# replay.agents\n",
    "replay_cache.get(\"last\").agents"
   ]
  },
  {
   "cell_type": "code",
   "execution_count": null,
   "metadata": {},
   "outputs": [],
   "source": [
    "# scenario_input = scenarios.barbell_scenario(ticks=100, num_agents=10)\n",
    "# (actions, agents, markets, events) = scenarios.run_scenario(scenario)\n",
    "\n",
    "scenario = scenarios.load_scneario()\n",
    "(actions, agents, markets, events) = (scenario.actions, scenario.agents, scenario.markets, scenario.events)"
   ]
  },
  {
   "cell_type": "code",
   "execution_count": null,
   "metadata": {},
   "outputs": [],
   "source": [
    "print(\"agents\") \n",
    "agents.head()"
   ]
  },
  {
   "cell_type": "code",
   "execution_count": null,
   "metadata": {},
   "outputs": [],
   "source": [
    "print(\"markets\") \n",
    "markets.head()"
   ]
  },
  {
   "cell_type": "code",
   "execution_count": null,
   "metadata": {},
   "outputs": [],
   "source": [
    "print(\"actions\")\n",
    "actions.head(10)"
   ]
  },
  {
   "cell_type": "code",
   "execution_count": null,
   "metadata": {},
   "outputs": [],
   "source": [
    "events.head(10)"
   ]
  },
  {
   "cell_type": "code",
   "execution_count": null,
   "metadata": {},
   "outputs": [],
   "source": [
    "analysis.plot_agents(agents)"
   ]
  },
  {
   "cell_type": "code",
   "execution_count": null,
   "metadata": {},
   "outputs": [],
   "source": [
    "analysis.plot_agent_locations(agents)"
   ]
  },
  {
   "cell_type": "code",
   "execution_count": null,
   "metadata": {},
   "outputs": [],
   "source": [
    "analysis.plot_prices_by_port(markets)"
   ]
  },
  {
   "cell_type": "code",
   "execution_count": null,
   "metadata": {},
   "outputs": [],
   "source": [
    "# analysis.plot_prices_by_port(analysis.no_agent_markets(scenario_input)) "
   ]
  },
  {
   "cell_type": "code",
   "execution_count": null,
   "metadata": {},
   "outputs": [],
   "source": [
    "routes = analysis.make_routes(events)\n",
    "routes"
   ]
  },
  {
   "cell_type": "code",
   "execution_count": null,
   "metadata": {},
   "outputs": [],
   "source": [
    "blag = routes.with_columns(pl.struct(\"src\", \"dst\").alias(\"route\"))\n",
    "blag.groupby(\"route\").agg(pl.count()).sort(\"count\", descending=True)"
   ]
  },
  {
   "cell_type": "code",
   "execution_count": null,
   "metadata": {},
   "outputs": [],
   "source": [
    "analysis.plot_trades(routes)"
   ]
  },
  {
   "cell_type": "code",
   "execution_count": null,
   "metadata": {},
   "outputs": [],
   "source": [
    "analysis.plot_buy_and_sell_prices(routes) + analysis.plot_trades(routes)"
   ]
  },
  {
   "cell_type": "code",
   "execution_count": null,
   "metadata": {},
   "outputs": [],
   "source": [
    "curr = scenario\n",
    "res = curr.markets.filter(curr.markets[\"tick\"] == 0).select(\"price\", \"port\")\n",
    "\n",
    "utils.keyed_by(res, \"port\", \"price\")"
   ]
  },
  {
   "cell_type": "markdown",
   "metadata": {},
   "source": [
    "## Port level analysis\n",
    "- How much does each port trade?\n",
    "- Trade volume bucketted \n",
    "- Volume in dollars \n",
    "- Biggest trading partners (other ports)"
   ]
  },
  {
   "cell_type": "code",
   "execution_count": null,
   "metadata": {},
   "outputs": [],
   "source": [
    "## Total goods traded per port\n",
    "events.groupby(\"port\").agg(pl.sum(\"amt\"))\n",
    "# def plot_"
   ]
  },
  {
   "cell_type": "code",
   "execution_count": null,
   "metadata": {},
   "outputs": [],
   "source": []
  },
  {
   "cell_type": "code",
   "execution_count": null,
   "metadata": {},
   "outputs": [],
   "source": []
  },
  {
   "cell_type": "code",
   "execution_count": null,
   "metadata": {},
   "outputs": [],
   "source": []
  },
  {
   "cell_type": "markdown",
   "metadata": {},
   "source": [
    "Metrics for individual agent\n",
    "- total coins\n",
    "- coins per tick\n",
    "- died?\n",
    "\n",
    "Metrics for population of agents\n",
    "- min, max, median, mean, std of agent coins\n",
    "\n",
    "How well did the agents equalize prices?\n",
    "- box plot of prices\n",
    "- stddev of pricesf\n",
    "\n",
    "Construct 'trades'\n",
    "- bought Cargo at StartPort for BuyPrice\n",
    "- sold Cargo at EndPort for SellPrice\n",
    "- profit = SellPrice - BuyPrice\n",
    "- Route = StartPort -> .. ->  EndPort\n",
    "- RouteLength = len(Route)"
   ]
  }
 ],
 "metadata": {
  "kernelspec": {
   "display_name": "Python 3.11.1 ('python-runner-gbM_3Hkn-py3.11')",
   "language": "python",
   "name": "python3"
  },
  "language_info": {
   "codemirror_mode": {
    "name": "ipython",
    "version": 3
   },
   "file_extension": ".py",
   "mimetype": "text/x-python",
   "name": "python",
   "nbconvert_exporter": "python",
   "pygments_lexer": "ipython3",
   "version": "3.11.1"
  },
  "orig_nbformat": 4,
  "vscode": {
   "interpreter": {
    "hash": "22ac618f98a8ca9d23c3764d17bdc39450ea506a0adf67a3fc0d423949e1ce92"
   }
  }
 },
 "nbformat": 4,
 "nbformat_minor": 2
}
